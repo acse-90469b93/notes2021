{
 "cells": [
  {
   "cell_type": "code",
   "execution_count": 1,
   "metadata": {},
   "outputs": [
    {
     "data": {
      "text/html": [
       "<style>\n",
       "div.optional {\n",
       "    display: block;\n",
       "    background-color: #d7e2ff;\n",
       "    border-color: #d7e2ff;\n",
       "    border-left: 5px solid #d7e2ff;\n",
       "    padding: 0.5em;\n",
       "}\n",
       "div.advanced {\n",
       "    display: block;\n",
       "    background-color: #fff4d7;\n",
       "    border-color: #fff4d7;\n",
       "    border-left: 5px solid #fff4d7;\n",
       "    padding: 0.5em;\n",
       "}\n",
       "</style>\n"
      ],
      "text/plain": [
       "<IPython.core.display.HTML object>"
      ]
     },
     "metadata": {},
     "output_type": "display_data"
    }
   ],
   "source": [
    "%%html\n",
    "<style>\n",
    "div.optional {\n",
    "    display: block;\n",
    "    background-color: #d7e2ff;\n",
    "    border-color: #d7e2ff;\n",
    "    border-left: 5px solid #d7e2ff;\n",
    "    padding: 0.5em;\n",
    "}\n",
    "div.advanced {\n",
    "    display: block;\n",
    "    background-color: #fff4d7;\n",
    "    border-color: #fff4d7;\n",
    "    border-left: 5px solid #fff4d7;\n",
    "    padding: 0.5em;\n",
    "}\n",
    "</style>"
   ]
  },
  {
   "cell_type": "code",
   "execution_count": 2,
   "metadata": {},
   "outputs": [],
   "source": [
    "%matplotlib inline\n",
    "%precision 6\n",
    "import numpy as np\n",
    "import matplotlib.pyplot as plt\n",
    "import scipy.linalg as sl\n",
    "from pprint import pprint"
   ]
  },
  {
   "cell_type": "markdown",
   "metadata": {},
   "source": [
    "# Computational Mathematics  <a class=\"tocSkip\">\n",
    "\n",
    "## Linear Algebra 1 <a class=\"tocSkip\">\n",
    "### (part introduction/reminder/revision depending on your background)  <a class=\"tocSkip\">"
   ]
  },
  {
   "cell_type": "markdown",
   "metadata": {},
   "source": [
    "## Learning objectives  <a class=\"tocSkip\">\n",
    "   \n",
    "   \n",
    "1. Hopefully for most of you much of this lecture will provide a refresher/reminder on matrices and linear algebra.\n",
    "\n",
    "\n",
    "2. This lecture will focus on matrix arithmetic, linear systems and their solution; the next lecture will move on to eigenvalues and the solution of systems of ODEs.\n",
    "\n",
    "\n",
    "3. Again there is ample opportunity here for us to practice our coding and plotting, and we will think a bit about code complexity and run times.\n",
    "\n",
    "\n",
    "4. To gain a further/firmer understanding of some of the key concepts we will make use of geometrical interpretations and examples as much as possible."
   ]
  },
  {
   "cell_type": "markdown",
   "metadata": {},
   "source": [
    "## Lecture Plan  <a class=\"tocSkip\">\n",
    "    \n",
    "Most of the material in sections 1-7 should be revision for most of you, so I will go through this very quickly. \n",
    "\n",
    "The more challenging material starts in section 8 so I will try to get to this promptly in order to spend more time on it."
   ]
  },
  {
   "cell_type": "markdown",
   "metadata": {
    "toc": true
   },
   "source": [
    "<h1>Table of Contents<span class=\"tocSkip\"></span></h1>\n",
    "<div class=\"toc\"><ul class=\"toc-item\"><li><span><a href=\"#Introductory-comments-[*]\" data-toc-modified-id=\"Introductory-comments-[*]-1\"><span class=\"toc-item-num\">1&nbsp;&nbsp;</span>Introductory comments [*]</a></span><ul class=\"toc-item\"><li><span><a href=\"#Notation-&amp;-terminology\" data-toc-modified-id=\"Notation-&amp;-terminology-1.1\"><span class=\"toc-item-num\">1.1&nbsp;&nbsp;</span>Notation &amp; terminology</a></span></li><li><span><a href=\"#Matrix-dimension\" data-toc-modified-id=\"Matrix-dimension-1.2\"><span class=\"toc-item-num\">1.2&nbsp;&nbsp;</span>Matrix dimension</a></span></li><li><span><a href=\"#Arithmetic-and-other-simple-matrix-operations-(and-some-other-introductory-NumPy-comments)\" data-toc-modified-id=\"Arithmetic-and-other-simple-matrix-operations-(and-some-other-introductory-NumPy-comments)-1.3\"><span class=\"toc-item-num\">1.3&nbsp;&nbsp;</span>Arithmetic and other simple matrix operations (and some other introductory NumPy comments)</a></span><ul class=\"toc-item\"><li><span><a href=\"#Matrix-equivalence\" data-toc-modified-id=\"Matrix-equivalence-1.3.1\"><span class=\"toc-item-num\">1.3.1&nbsp;&nbsp;</span>Matrix equivalence</a></span></li><li><span><a href=\"#Addition-and-subtraction\" data-toc-modified-id=\"Addition-and-subtraction-1.3.2\"><span class=\"toc-item-num\">1.3.2&nbsp;&nbsp;</span>Addition and subtraction</a></span></li><li><span><a href=\"#Code\" data-toc-modified-id=\"Code-1.3.3\"><span class=\"toc-item-num\">1.3.3&nbsp;&nbsp;</span>Code</a></span></li><li><span><a href=\"#Scalar-multiplication\" data-toc-modified-id=\"Scalar-multiplication-1.3.4\"><span class=\"toc-item-num\">1.3.4&nbsp;&nbsp;</span>Scalar multiplication</a></span></li><li><span><a href=\"#Be-careful-about-assignments-vs-copies\" data-toc-modified-id=\"Be-careful-about-assignments-vs-copies-1.3.5\"><span class=\"toc-item-num\">1.3.5&nbsp;&nbsp;</span>Be careful about assignments vs copies</a></span></li><li><span><a href=\"#Matrix-transpose-and-complex-conjugate\" data-toc-modified-id=\"Matrix-transpose-and-complex-conjugate-1.3.6\"><span class=\"toc-item-num\">1.3.6&nbsp;&nbsp;</span>Matrix transpose and complex conjugate</a></span></li><li><span><a href=\"#Indexing,-slicing-etc\" data-toc-modified-id=\"Indexing,-slicing-etc-1.3.7\"><span class=\"toc-item-num\">1.3.7&nbsp;&nbsp;</span>Indexing, slicing etc</a></span></li><li><span><a href=\"#Other-useful-NumPy-attributes\" data-toc-modified-id=\"Other-useful-NumPy-attributes-1.3.8\"><span class=\"toc-item-num\">1.3.8&nbsp;&nbsp;</span>Other useful NumPy attributes</a></span></li></ul></li></ul></li><li><span><a href=\"#Matrix-vector-multiplication\" data-toc-modified-id=\"Matrix-vector-multiplication-2\"><span class=\"toc-item-num\">2&nbsp;&nbsp;</span>Matrix-vector multiplication</a></span><ul class=\"toc-item\"><li><span><a href=\"#Mathematical-definition\" data-toc-modified-id=\"Mathematical-definition-2.1\"><span class=\"toc-item-num\">2.1&nbsp;&nbsp;</span>Mathematical definition</a></span></li><li><span><a href=\"#Code\" data-toc-modified-id=\"Code-2.2\"><span class=\"toc-item-num\">2.2&nbsp;&nbsp;</span>Code</a></span></li><li><span><a href=\"#Properties\" data-toc-modified-id=\"Properties-2.3\"><span class=\"toc-item-num\">2.3&nbsp;&nbsp;</span>Properties</a></span></li><li><span><a href=\"#Matrix-multiplication-using-NumPy\" data-toc-modified-id=\"Matrix-multiplication-using-NumPy-2.4\"><span class=\"toc-item-num\">2.4&nbsp;&nbsp;</span>Matrix multiplication using NumPy</a></span><ul class=\"toc-item\"><li><span><a href=\"#Aside:-matrix-objects-[*]\" data-toc-modified-id=\"Aside:-matrix-objects-[*]-2.4.1\"><span class=\"toc-item-num\">2.4.1&nbsp;&nbsp;</span>Aside: matrix objects [*]</a></span></li></ul></li><li><span><a href=\"#Testing-our-code\" data-toc-modified-id=\"Testing-our-code-2.5\"><span class=\"toc-item-num\">2.5&nbsp;&nbsp;</span>Testing our code</a></span></li><li><span><a href=\"#Another-useful-interpretation\" data-toc-modified-id=\"Another-useful-interpretation-2.6\"><span class=\"toc-item-num\">2.6&nbsp;&nbsp;</span>Another useful interpretation</a></span></li></ul></li><li><span><a href=\"#Motivation---linear-(or-matrix)-systems\" data-toc-modified-id=\"Motivation---linear-(or-matrix)-systems-3\"><span class=\"toc-item-num\">3&nbsp;&nbsp;</span>Motivation - linear (or matrix) systems</a></span><ul class=\"toc-item\"><li><span><a href=\"#A-simple-example\" data-toc-modified-id=\"A-simple-example-3.1\"><span class=\"toc-item-num\">3.1&nbsp;&nbsp;</span>A simple example</a></span></li><li><span><a href=\"#The-general-case\" data-toc-modified-id=\"The-general-case-3.2\"><span class=\"toc-item-num\">3.2&nbsp;&nbsp;</span>The general case</a></span></li><li><span><a href=\"#A-geometric-interpretation\" data-toc-modified-id=\"A-geometric-interpretation-3.3\"><span class=\"toc-item-num\">3.3&nbsp;&nbsp;</span>A geometric interpretation</a></span></li><li><span><a href=\"#Solving-a-general-linear-system\" data-toc-modified-id=\"Solving-a-general-linear-system-3.4\"><span class=\"toc-item-num\">3.4&nbsp;&nbsp;</span>Solving a general linear system</a></span></li></ul></li><li><span><a href=\"#Matrix-inverse\" data-toc-modified-id=\"Matrix-inverse-4\"><span class=\"toc-item-num\">4&nbsp;&nbsp;</span>Matrix inverse</a></span><ul class=\"toc-item\"><li><span><a href=\"#Properties-of-the-matrix-inverse\" data-toc-modified-id=\"Properties-of-the-matrix-inverse-4.1\"><span class=\"toc-item-num\">4.1&nbsp;&nbsp;</span>Properties of the matrix inverse</a></span></li><li><span><a href=\"#Using-the-inverse-matrix-to-solve-a-linear-system\" data-toc-modified-id=\"Using-the-inverse-matrix-to-solve-a-linear-system-4.2\"><span class=\"toc-item-num\">4.2&nbsp;&nbsp;</span>Using the inverse matrix to solve a linear system</a></span><ul class=\"toc-item\"><li><span><a href=\"#The-inverse-for-our-simple-example\" data-toc-modified-id=\"The-inverse-for-our-simple-example-4.2.1\"><span class=\"toc-item-num\">4.2.1&nbsp;&nbsp;</span>The inverse for our simple example</a></span></li><li><span><a href=\"#Row-operations-and-a-glimpse-at-Gaussian-elimination-[*---please-read-through-this-in-your-own-time]\" data-toc-modified-id=\"Row-operations-and-a-glimpse-at-Gaussian-elimination-[*---please-read-through-this-in-your-own-time]-4.2.2\"><span class=\"toc-item-num\">4.2.2&nbsp;&nbsp;</span>Row operations and a glimpse at Gaussian elimination [* - please read through this in your own time]</a></span></li><li><span><a href=\"#Solving-our-simple-example-using-the-inverse-matrix\" data-toc-modified-id=\"Solving-our-simple-example-using-the-inverse-matrix-4.2.3\"><span class=\"toc-item-num\">4.2.3&nbsp;&nbsp;</span>Solving our simple example using the inverse matrix</a></span></li></ul></li><li><span><a href=\"#Aside:-constructing-some-useful-simple-matrices-in-NumPy-[*]\" data-toc-modified-id=\"Aside:-constructing-some-useful-simple-matrices-in-NumPy-[*]-4.3\"><span class=\"toc-item-num\">4.3&nbsp;&nbsp;</span>Aside: constructing some useful simple matrices in NumPy [*]</a></span><ul class=\"toc-item\"><li><span><a href=\"#The-identity-matrix\" data-toc-modified-id=\"The-identity-matrix-4.3.1\"><span class=\"toc-item-num\">4.3.1&nbsp;&nbsp;</span>The identity matrix</a></span></li><li><span><a href=\"#Diagonal-matrices\" data-toc-modified-id=\"Diagonal-matrices-4.3.2\"><span class=\"toc-item-num\">4.3.2&nbsp;&nbsp;</span>Diagonal matrices</a></span></li><li><span><a href=\"#Matrices-of-zeros-or-ones,-empty-matrices\" data-toc-modified-id=\"Matrices-of-zeros-or-ones,-empty-matrices-4.3.3\"><span class=\"toc-item-num\">4.3.3&nbsp;&nbsp;</span>Matrices of zeros or ones, empty matrices</a></span></li></ul></li></ul></li><li><span><a href=\"#The-determinant\" data-toc-modified-id=\"The-determinant-5\"><span class=\"toc-item-num\">5&nbsp;&nbsp;</span>The determinant</a></span></li><li><span><a href=\"#Matrix-vector-multiplication-(again;-code-speed)-[*]\" data-toc-modified-id=\"Matrix-vector-multiplication-(again;-code-speed)-[*]-6\"><span class=\"toc-item-num\">6&nbsp;&nbsp;</span>Matrix-vector multiplication (again; code speed) [*]</a></span><ul class=\"toc-item\"><li><span><a href=\"#Testing-our-code\" data-toc-modified-id=\"Testing-our-code-6.1\"><span class=\"toc-item-num\">6.1&nbsp;&nbsp;</span>Testing our code</a></span></li><li><span><a href=\"#Checking-the-speed-of-our-code!\" data-toc-modified-id=\"Checking-the-speed-of-our-code!-6.2\"><span class=\"toc-item-num\">6.2&nbsp;&nbsp;</span>Checking the speed of our code!</a></span></li></ul></li><li><span><a href=\"#Matrix-matrix-product-[*]\" data-toc-modified-id=\"Matrix-matrix-product-[*]-7\"><span class=\"toc-item-num\">7&nbsp;&nbsp;</span>Matrix-matrix product [*]</a></span><ul class=\"toc-item\"><li><span><a href=\"#Conformable-dimensions\" data-toc-modified-id=\"Conformable-dimensions-7.1\"><span class=\"toc-item-num\">7.1&nbsp;&nbsp;</span>Conformable dimensions</a></span></li><li><span><a href=\"#Properties\" data-toc-modified-id=\"Properties-7.2\"><span class=\"toc-item-num\">7.2&nbsp;&nbsp;</span>Properties</a></span></li><li><span><a href=\"#Code\" data-toc-modified-id=\"Code-7.3\"><span class=\"toc-item-num\">7.3&nbsp;&nbsp;</span>Code</a></span><ul class=\"toc-item\"><li><span><a href=\"#Testing-our-code\" data-toc-modified-id=\"Testing-our-code-7.3.1\"><span class=\"toc-item-num\">7.3.1&nbsp;&nbsp;</span>Testing our code</a></span></li></ul></li></ul></li><li><span><a href=\"#Some-linear-algebra-theory\" data-toc-modified-id=\"Some-linear-algebra-theory-8\"><span class=\"toc-item-num\">8&nbsp;&nbsp;</span>Some linear algebra theory</a></span><ul class=\"toc-item\"><li><span><a href=\"#The-determinant-(again)\" data-toc-modified-id=\"The-determinant-(again)-8.1\"><span class=\"toc-item-num\">8.1&nbsp;&nbsp;</span>The determinant (again)</a></span><ul class=\"toc-item\"><li><span><a href=\"#Properties\" data-toc-modified-id=\"Properties-8.1.1\"><span class=\"toc-item-num\">8.1.1&nbsp;&nbsp;</span>Properties</a></span></li><li><span><a href=\"#Full-definition\" data-toc-modified-id=\"Full-definition-8.1.2\"><span class=\"toc-item-num\">8.1.2&nbsp;&nbsp;</span>Full definition</a></span></li></ul></li><li><span><a href=\"#The-inverse-matrix\" data-toc-modified-id=\"The-inverse-matrix-8.2\"><span class=\"toc-item-num\">8.2&nbsp;&nbsp;</span>The inverse matrix</a></span><ul class=\"toc-item\"><li><span><a href=\"#$2\\times-2$-case\" data-toc-modified-id=\"$2\\times-2$-case-8.2.1\"><span class=\"toc-item-num\">8.2.1&nbsp;&nbsp;</span>$2\\times 2$ case</a></span></li><li><span><a href=\"#$n\\times-n$-case\" data-toc-modified-id=\"$n\\times-n$-case-8.2.2\"><span class=\"toc-item-num\">8.2.2&nbsp;&nbsp;</span>$n\\times n$ case</a></span></li></ul></li><li><span><a href=\"#Using-SciPy-to-compute-the-inverse-matrix\" data-toc-modified-id=\"Using-SciPy-to-compute-the-inverse-matrix-8.3\"><span class=\"toc-item-num\">8.3&nbsp;&nbsp;</span>Using SciPy to compute the inverse matrix</a></span></li><li><span><a href=\"#Singular-matrices\" data-toc-modified-id=\"Singular-matrices-8.4\"><span class=\"toc-item-num\">8.4&nbsp;&nbsp;</span>Singular matrices</a></span></li><li><span><a href=\"#Solvability-of-linear-systems\" data-toc-modified-id=\"Solvability-of-linear-systems-8.5\"><span class=\"toc-item-num\">8.5&nbsp;&nbsp;</span>Solvability of linear systems</a></span><ul class=\"toc-item\"><li><span><a href=\"#Linear-(in)dependence\" data-toc-modified-id=\"Linear-(in)dependence-8.5.1\"><span class=\"toc-item-num\">8.5.1&nbsp;&nbsp;</span>Linear (in)dependence</a></span></li><li><span><a href=\"#A-basis-for-a-vector-space\" data-toc-modified-id=\"A-basis-for-a-vector-space-8.5.2\"><span class=\"toc-item-num\">8.5.2&nbsp;&nbsp;</span>A basis for a vector space</a></span></li><li><span><a href=\"#An-example-|-the-geometrical-interpretation-of-matrix-vector-multiplication\" data-toc-modified-id=\"An-example-|-the-geometrical-interpretation-of-matrix-vector-multiplication-8.5.3\"><span class=\"toc-item-num\">8.5.3&nbsp;&nbsp;</span>An example | the geometrical interpretation of matrix vector multiplication</a></span></li><li><span><a href=\"#Solvability-theory---some-equivalent-properties\" data-toc-modified-id=\"Solvability-theory---some-equivalent-properties-8.5.4\"><span class=\"toc-item-num\">8.5.4&nbsp;&nbsp;</span>Solvability theory - some equivalent properties</a></span></li><li><span><a href=\"#Rank,-range-and-null-Space\" data-toc-modified-id=\"Rank,-range-and-null-Space-8.5.5\"><span class=\"toc-item-num\">8.5.5&nbsp;&nbsp;</span>Rank, range and null-Space</a></span></li><li><span><a href=\"#Solving-our-simple-example-(again)\" data-toc-modified-id=\"Solving-our-simple-example-(again)-8.5.6\"><span class=\"toc-item-num\">8.5.6&nbsp;&nbsp;</span>Solving our simple example (again)</a></span></li></ul></li></ul></li><li><span><a href=\"#Cramer's-rule-[**]\" data-toc-modified-id=\"Cramer's-rule-[**]-9\"><span class=\"toc-item-num\">9&nbsp;&nbsp;</span>Cramer's rule [**]</a></span></li><li><span><a href=\"#Geometric-interpretation-of-linear-transformations-[*---assuming-we-have-run-out-of-time,-please-read-through-this-section-as-we-will-pick-up-the-next-lecture-from-these-ideas]\" data-toc-modified-id=\"Geometric-interpretation-of-linear-transformations-[*---assuming-we-have-run-out-of-time,-please-read-through-this-section-as-we-will-pick-up-the-next-lecture-from-these-ideas]-10\"><span class=\"toc-item-num\">10&nbsp;&nbsp;</span>Geometric interpretation of linear transformations [* - assuming we have run out of time, please read through this section as we will pick up the next lecture from these ideas]</a></span><ul class=\"toc-item\"><li><span><a href=\"#Some-examples\" data-toc-modified-id=\"Some-examples-10.1\"><span class=\"toc-item-num\">10.1&nbsp;&nbsp;</span>Some examples</a></span></li><li><span><a href=\"#A-general-transformation-and-the-determinant-again-[*]\" data-toc-modified-id=\"A-general-transformation-and-the-determinant-again-[*]-10.2\"><span class=\"toc-item-num\">10.2&nbsp;&nbsp;</span>A general transformation and the determinant again [*]</a></span></li></ul></li><li><span><a href=\"#An-animation-[*]\" data-toc-modified-id=\"An-animation-[*]-11\"><span class=\"toc-item-num\">11&nbsp;&nbsp;</span>An animation [*]</a></span></li><li><span><a href=\"#Summary\" data-toc-modified-id=\"Summary-12\"><span class=\"toc-item-num\">12&nbsp;&nbsp;</span>Summary</a></span><ul class=\"toc-item\"><li><span><a href=\"#Next-lecture\" data-toc-modified-id=\"Next-lecture-12.1\"><span class=\"toc-item-num\">12.1&nbsp;&nbsp;</span>Next lecture</a></span></li></ul></li></ul></div>"
   ]
  },
  {
   "cell_type": "markdown",
   "metadata": {},
   "source": [
    "<div class=\"optional\">\n",
    "\n",
    "# Introductory comments [*]\n",
    "\n",
    "Linear algebra comes up absolutely everywhere in computational/data science (and elsewhere!).\n",
    "\n",
    "It's important that we have a firm grasp of the mathematical/conceptual aspects, as well as the numerical aspects and the software tools at our disposal.\n",
    "\n",
    "In this lecture we're going to briefly review the former and make a start at some of the latter.\n",
    "\n",
    "***As said previously - your backgrounds are quite varied so for some of you much of this material will already be very familiar, while for some of you some parts may be new. There is a lot of material here, we will start simply but try to move quite rapidly.***\n",
    "\n",
    "This material will give us ample opportunity to practice our use of NumPy and SciPy, and to gain further experience in plotting.\n",
    "\n",
    "I will go through this first section very quickly in order to move on to more interesting material.\n",
    "    \n",
    "</div>"
   ]
  },
  {
   "cell_type": "markdown",
   "metadata": {},
   "source": [
    "If nothing else, at the end of this lecture you should understand how to create animations like this using linear algebra\n",
    "\n",
    "<video controls loop width=\"600\" src=\"animations/logo.mp4\"/>"
   ]
  },
  {
   "cell_type": "markdown",
   "metadata": {},
   "source": [
    "and then be able to extend to things like this\n",
    "\n",
    "<video controls loop width=\"600\" src=\"animations/logo-drunk.mp4\"/>"
   ]
  },
  {
   "cell_type": "markdown",
   "metadata": {},
   "source": [
    "## Notation & terminology\n",
    "\n",
    "\n",
    "- We will use bold fonts to indicate vectors, e.g. $\\boldsymbol{x } $ :\n",
    "\n",
    "$$ \\boldsymbol{x} = (x_1,x_2,\\ldots, x_m)^T$$\n",
    "\n",
    "[the transpose is here since we generally assume a vector is a *column* vector (i.e. has dimension, or shape, $m\\times 1$), but it's clearly easier and more compact to display it as the transpose of a *row* vector in writing - note that when writing on paper it's common to indicate a bold symbol with an underline: $\\boldsymbol{x} \\equiv \\underline{x} $. Sometimes people also use the notation $\\vec{x}$ to indicate a vector.]\n",
    "\n",
    "- and capital letters to indicate matrices, e.g. $A$:\n",
    "\n",
    "$$A = \n",
    "\\begin{pmatrix}\n",
    "a_{11} & a_{12} \\\\\n",
    "a_{21} & a_{22}\n",
    "\\end{pmatrix}$$\n",
    "\n",
    "\n",
    "- Subscript letters or numbers will be used to indicate components of arrays or matrices, e.g. $x_i$ is the $i$-th component of the vector $\\boldsymbol{x}$, and $a_{ij}$ is the entry from the $i$-th row and the $j$-th column of the matrix $A$, with of course us needing to be careful over our numbering which starts from zero in our Python implementations.\n",
    "\n",
    "\n",
    "- We will identify column vectors making up the matrix $A$ as\n",
    "\n",
    "$$A = \\begin{pmatrix}\n",
    "      &     &         &     \\\\\n",
    "  \\boldsymbol{a}_{\\,:1} & \\boldsymbol{a}_{\\,:2} &  \\ldots & \\boldsymbol{a}_{\\,:n} \\\\\n",
    "      &     &         &     \n",
    "\\end{pmatrix}$$\n",
    "\n",
    "i.e. $\\boldsymbol{a}_{\\,:j}$ indicates the $j$-th column of matrix $A$.\n",
    "\n",
    "\n",
    "\n",
    "- Square or rounded (i.e. paretheses) brackets are both fine for vectors and matrices (not for intervals where they mean different things!). \n",
    "\n",
    "<br>\n",
    "\n",
    "\n",
    "See also <https://en.wikipedia.org/wiki/Matrix_(mathematics)#Notation>"
   ]
  },
  {
   "cell_type": "markdown",
   "metadata": {},
   "source": [
    "Note that I've made the choice to start my indices at '1' for the purposes of writing things down mathematically. \n",
    "\n",
    "You could choose to start with '0' to better match Python indexing if you want, you just need to be consistent."
   ]
  },
  {
   "cell_type": "markdown",
   "metadata": {},
   "source": [
    "## Matrix dimension\n",
    "\n",
    "A general [matrix](https://en.wikipedia.org/wiki/Matrix_(mathematics)) of dimension (shape in NumPy) $m \\times n$ is\n",
    "\n",
    "\\begin{pmatrix}\n",
    "    a_{11} & a_{12} & \\dots & a_{1n} \\\\\n",
    "    a_{21} & a_{22} & \\dots & a_{2n} \\\\\n",
    "    \\vdots & \\vdots & \\ddots & \\vdots \\\\\n",
    "    a_{m1} & a_{m2} & \\dots & a_{mn}   \n",
    "\\end{pmatrix}\n",
    "\n",
    "where for a real matrix all *entries* $a_{ij}\\in\\mathbb{R}$, i.e. are real numbers, and for a complex matrix $a_{ij}\\in\\mathbb{C}$.  \n",
    "\n",
    "Mathematically we could also write $A\\in\\mathbb{R}^{m\\times n}$ or $A\\in\\mathbb{C}^{m\\times n}$.\n",
    "\n",
    "We would say out loud that the matrix is of dimension \"m rows by n columns\" or just \"m by n\".\n",
    "\n",
    "The convention is to state the number of rows first, and columns second - we will see why this is sensible when we talk about matrix multiplication - indeed thinking about matrix multiplication is exactly how I remember that incrementing the first index ($i$) means we move down, and incrementing the second index ($j$) means we move to the right.\n",
    "\n",
    "A *square* matrix is one where $m=n$.\n",
    "\n",
    "An $m\\times 1$ matrix is also a *column vector*.\n",
    "\n",
    "A $1\\times n$ matrix is also a *row vector*."
   ]
  },
  {
   "cell_type": "markdown",
   "metadata": {},
   "source": [
    "## Arithmetic and other simple matrix operations (and some other introductory NumPy comments)\n",
    "\n",
    "We can also use the notation\n",
    "\n",
    "$$A = [a_{ij}]_{m\\times n}$$\n",
    "\n",
    "as shorthand to indicate that matrix $A$ is of dimension ${m\\times n}$ with entries signified by the variables $a_{ij}$."
   ]
  },
  {
   "cell_type": "markdown",
   "metadata": {},
   "source": [
    "### Matrix equivalence\n",
    "\n",
    "We can use this notation to define how two matrices are equivalent - there individually entires each need to be equivalent:\n",
    "\n",
    "$$A = B \\iff  a_{ij} = b_{ij}, \\quad \\forall\\; 1\\leq i \\leq m,\\;\\; 1\\leq j \\leq n$$\n",
    "\n",
    "Note that this definition only make sense if we are comparing matrices of the same size.\n",
    "\n",
    "In case you haven't seen it before $\\forall$ is mathematical shorthand notation for \"for all\" (https://en.wikipedia.org/wiki/Universal_quantification).\n",
    "\n",
    "NB. when proving things in mathamtical analysis, sequences etc, it's often used with a symbol for \"there exists\": $\\exists$."
   ]
  },
  {
   "cell_type": "code",
   "execution_count": 3,
   "metadata": {},
   "outputs": [
    {
     "name": "stdout",
     "output_type": "stream",
     "text": [
      "[[ True  True]\n",
      " [ True  True]]\n",
      "True\n",
      "\n",
      " [[ True  True]\n",
      " [ True False]]\n",
      "False\n"
     ]
    }
   ],
   "source": [
    "A = np.array([[1, 2], [3, 4]])\n",
    "B = np.array([[1, 2], [3, 4]])\n",
    "\n",
    "# the following compares element-wise\n",
    "print(A==B)\n",
    "# above works on pairs of entries element-wise, \n",
    "\n",
    "# while array_equal looks at the whole array.\n",
    "print(np.array_equal(A,B))\n",
    "\n",
    "# change one of the entries\n",
    "B = np.array([[1, 2], [3, 5]])\n",
    "\n",
    "print('\\n',A==B)\n",
    "print(np.array_equal(A,B))"
   ]
  },
  {
   "cell_type": "markdown",
   "metadata": {},
   "source": [
    "### Addition and subtraction\n",
    "\n",
    "With this notation we can also succinctly define the operation of adding two matrices (with the implicit requirement that the two matrices are of the same dimension)\n",
    "\n",
    "$$A + B = [a_{ij} + b_{ij}]_{m\\times n}$$\n",
    "\n",
    "and similar for subtraction.\n",
    "\n",
    "Let's check the mathematical description agrees with NumPy!"
   ]
  },
  {
   "cell_type": "code",
   "execution_count": 4,
   "metadata": {},
   "outputs": [
    {
     "name": "stdout",
     "output_type": "stream",
     "text": [
      "A =\n",
      " [[1 2]\n",
      " [3 4]] \n",
      "\n",
      "B =\n",
      " [[ 6 -2]\n",
      " [ 1 -7]] \n",
      "\n",
      "A+B =\n",
      " [[ 7  0]\n",
      " [ 4 -3]] \n",
      "\n",
      "A-B =\n",
      " [[-5  4]\n",
      " [ 2 11]] \n",
      "\n"
     ]
    }
   ],
   "source": [
    "# any old matrix\n",
    "A = np.array([[1, 2], [3, 4]])\n",
    "\n",
    "print('A =\\n', A, '\\n')\n",
    "# The '\\n's start new lines and are used just to make the printed text easier to read.\n",
    "\n",
    "# and another one\n",
    "B = np.array([[6, -2], [1, -7]])\n",
    "\n",
    "print('B =\\n', B, '\\n')\n",
    "\n",
    "C = A+B \n",
    "\n",
    "print('A+B =\\n', C, '\\n')\n",
    "\n",
    "print('A-B =\\n', A-B, '\\n')"
   ]
  },
  {
   "cell_type": "markdown",
   "metadata": {},
   "source": [
    "What happens when we try to perform arithmetic with matrices of different sizes?\n",
    "\n",
    "Remember that error/warning messages should be designed (by you and by other) to help the user - when you get an error/warning read it and try to understand what it's telling you!\n",
    "\n",
    "If you're note sure Google it!"
   ]
  },
  {
   "cell_type": "code",
   "execution_count": 5,
   "metadata": {},
   "outputs": [
    {
     "name": "stdout",
     "output_type": "stream",
     "text": [
      "A =\n",
      " [[1 2]\n",
      " [3 4]] \n",
      "\n",
      "B =\n",
      " [[ 6 -2]\n",
      " [ 1 -7]\n",
      " [ 5 -1]] \n",
      "\n"
     ]
    },
    {
     "ename": "ValueError",
     "evalue": "operands could not be broadcast together with shapes (2,2) (3,2) ",
     "output_type": "error",
     "traceback": [
      "\u001b[0;31m---------------------------------------------------------------------------\u001b[0m",
      "\u001b[0;31mValueError\u001b[0m                                Traceback (most recent call last)",
      "\u001b[0;32m/var/folders/_z/2x9hsl9j0zj9120mnkznvdxc0000gp/T/ipykernel_92252/2805576986.py\u001b[0m in \u001b[0;36m<module>\u001b[0;34m\u001b[0m\n\u001b[1;32m      3\u001b[0m \u001b[0mB\u001b[0m \u001b[0;34m=\u001b[0m \u001b[0mnp\u001b[0m\u001b[0;34m.\u001b[0m\u001b[0marray\u001b[0m\u001b[0;34m(\u001b[0m\u001b[0;34m[\u001b[0m\u001b[0;34m[\u001b[0m\u001b[0;36m6\u001b[0m\u001b[0;34m,\u001b[0m \u001b[0;34m-\u001b[0m\u001b[0;36m2\u001b[0m\u001b[0;34m]\u001b[0m\u001b[0;34m,\u001b[0m \u001b[0;34m[\u001b[0m\u001b[0;36m1\u001b[0m\u001b[0;34m,\u001b[0m \u001b[0;34m-\u001b[0m\u001b[0;36m7\u001b[0m\u001b[0;34m]\u001b[0m\u001b[0;34m,\u001b[0m \u001b[0;34m[\u001b[0m\u001b[0;36m5\u001b[0m\u001b[0;34m,\u001b[0m \u001b[0;34m-\u001b[0m\u001b[0;36m1\u001b[0m\u001b[0;34m]\u001b[0m\u001b[0;34m]\u001b[0m\u001b[0;34m)\u001b[0m\u001b[0;34m\u001b[0m\u001b[0;34m\u001b[0m\u001b[0m\n\u001b[1;32m      4\u001b[0m \u001b[0mprint\u001b[0m\u001b[0;34m(\u001b[0m\u001b[0;34m'B =\\n'\u001b[0m\u001b[0;34m,\u001b[0m \u001b[0mB\u001b[0m\u001b[0;34m,\u001b[0m\u001b[0;34m'\\n'\u001b[0m\u001b[0;34m)\u001b[0m\u001b[0;34m\u001b[0m\u001b[0;34m\u001b[0m\u001b[0m\n\u001b[0;32m----> 5\u001b[0;31m \u001b[0mC\u001b[0m \u001b[0;34m=\u001b[0m \u001b[0mA\u001b[0m\u001b[0;34m+\u001b[0m\u001b[0mB\u001b[0m\u001b[0;34m\u001b[0m\u001b[0;34m\u001b[0m\u001b[0m\n\u001b[0m",
      "\u001b[0;31mValueError\u001b[0m: operands could not be broadcast together with shapes (2,2) (3,2) "
     ]
    }
   ],
   "source": [
    "A = np.array([[1, 2], [3, 4]])\n",
    "print('A =\\n', A, '\\n')\n",
    "B = np.array([[6, -2], [1, -7], [5, -1]])\n",
    "print('B =\\n', B,'\\n')\n",
    "C = A+B"
   ]
  },
  {
   "cell_type": "markdown",
   "metadata": {},
   "source": [
    "### Code\n",
    "\n",
    "For practice, let's code up our own function to perform matrix addition and check it against the NumPy result for some examples.\n",
    "\n",
    "We'll also look a bit more at the use of some NumPy functions to check for the equivalence of arrays."
   ]
  },
  {
   "cell_type": "code",
   "execution_count": 6,
   "metadata": {},
   "outputs": [
    {
     "name": "stdout",
     "output_type": "stream",
     "text": [
      "mat_mat_addition(A,B) == A+B (using allclose): True\n",
      "mat_mat_addition(A,B) == A+B (allclose with tighter tols): True\n",
      "mat_mat_addition(A,B) == A+B (using array_equal):  True\n",
      "mat_mat_addition(A,B) == A+B+very small perturbation (using array_equal):  False\n",
      "mat_mat_addition(A,B) == A+B+very small perturbation (using allclose):  True\n"
     ]
    }
   ],
   "source": [
    "def mat_mat_addition(A,B):\n",
    "    \"\"\" Return the addition A+B\n",
    "    \"\"\"\n",
    "    mA, nA = np.shape(A)\n",
    "    mB, nB = np.shape(B)\n",
    "    # add a check that the two provided matrices are the same size\n",
    "    assert mA==mB and nA==nB \n",
    "    # initialise some space for the result\n",
    "    C = np.zeros((mA, mB))\n",
    "    # loop over the rows\n",
    "    for i in range(mA):\n",
    "        # loop over the columns\n",
    "        for j in range(nA):\n",
    "            C[i, j] = A[i, j] + B[i, j]\n",
    "    return C\n",
    "\n",
    "# check with a simple 2x2 case\n",
    "A = np.array([[1, 2], [3, 4]])\n",
    "B = np.array([[6, -2], [1, -7]])\n",
    "\n",
    "# we can use numpy.allclose to check if our function's result agrees with NumPy\n",
    "print('mat_mat_addition(A,B) == A+B (using allclose):', \n",
    "      np.allclose(mat_mat_addition(A,B), A+B))\n",
    "# numpy.allclose returns True provided that \n",
    "# absolute(`a` - `b`) <= (`atol` + `rtol` * absolute(`b`))\n",
    "# in an elementwise-sense, i.e. if it is true for all elements.\n",
    "\n",
    "# we can tighten up tolerances as follows (the default values are rtol=1e-05, atol=1e-08)\n",
    "print('mat_mat_addition(A,B) == A+B (allclose with tighter tols):', \n",
    "      np.allclose(mat_mat_addition(A,B), A+B, rtol=1e-14, atol=1e-14))\n",
    "\n",
    "# alternatively you could use array_equal - read the docs to see what the difference is\n",
    "print('mat_mat_addition(A,B) == A+B (using array_equal): ',\n",
    "      np.array_equal(mat_mat_addition(A,B), A+B))\n",
    "\n",
    "# when performing arithmetic operations round-off could mean that array_equal fails,\n",
    "# lets add a very small perturbation to one of the entries to demonstrate\n",
    "pert = np.array([[1.e-15, 0],[0,0]])\n",
    "print('mat_mat_addition(A,B) == A+B+very small perturbation (using array_equal): ',\n",
    "      np.array_equal(mat_mat_addition(A,B), A+B+pert))\n",
    "\n",
    "# but allclose lets us get away with this difference\n",
    "print('mat_mat_addition(A,B) == A+B+very small perturbation (using allclose): ',\n",
    "      np.allclose(mat_mat_addition(A,B), A+B+pert))"
   ]
  },
  {
   "cell_type": "markdown",
   "metadata": {},
   "source": [
    "So we do need to be a little bit careful on what equality means when using floating point arithmetic!\n",
    "(`numpy.allclose` is a useful function for us here.)\n",
    "\n",
    "You saw this in the Modern Programming Methods module.\n",
    "\n",
    "\n",
    "We can get our code to do subtraction just by adding minus the second matrix:"
   ]
  },
  {
   "cell_type": "code",
   "execution_count": 7,
   "metadata": {},
   "outputs": [
    {
     "name": "stdout",
     "output_type": "stream",
     "text": [
      "mat_mat_addition(A,-B) == A-B: True\n"
     ]
    }
   ],
   "source": [
    "# we can check it can do subtraction as well\n",
    "A = np.array([[1, 2], [3, 4]])\n",
    "B = np.array([[6, -2], [1, -7]])\n",
    "\n",
    "print('mat_mat_addition(A,-B) == A-B:', np.allclose(mat_mat_addition(A,-B), A-B))"
   ]
  },
  {
   "cell_type": "code",
   "execution_count": 8,
   "metadata": {},
   "outputs": [
    {
     "ename": "AssertionError",
     "evalue": "",
     "output_type": "error",
     "traceback": [
      "\u001b[0;31m---------------------------------------------------------------------------\u001b[0m",
      "\u001b[0;31mAssertionError\u001b[0m                            Traceback (most recent call last)",
      "\u001b[0;32m/var/folders/_z/2x9hsl9j0zj9120mnkznvdxc0000gp/T/ipykernel_92252/184313397.py\u001b[0m in \u001b[0;36m<module>\u001b[0;34m\u001b[0m\n\u001b[1;32m      3\u001b[0m \u001b[0mB\u001b[0m \u001b[0;34m=\u001b[0m \u001b[0mnp\u001b[0m\u001b[0;34m.\u001b[0m\u001b[0marray\u001b[0m\u001b[0;34m(\u001b[0m\u001b[0;34m[\u001b[0m\u001b[0;34m[\u001b[0m\u001b[0;36m6\u001b[0m\u001b[0;34m,\u001b[0m \u001b[0;34m-\u001b[0m\u001b[0;36m2\u001b[0m\u001b[0;34m]\u001b[0m\u001b[0;34m,\u001b[0m \u001b[0;34m[\u001b[0m\u001b[0;36m1\u001b[0m\u001b[0;34m,\u001b[0m \u001b[0;34m-\u001b[0m\u001b[0;36m7\u001b[0m\u001b[0;34m]\u001b[0m\u001b[0;34m,\u001b[0m \u001b[0;34m[\u001b[0m\u001b[0;36m5\u001b[0m\u001b[0;34m,\u001b[0m \u001b[0;34m-\u001b[0m\u001b[0;36m1\u001b[0m\u001b[0;34m]\u001b[0m\u001b[0;34m]\u001b[0m\u001b[0;34m)\u001b[0m\u001b[0;34m\u001b[0m\u001b[0;34m\u001b[0m\u001b[0m\n\u001b[1;32m      4\u001b[0m \u001b[0;34m\u001b[0m\u001b[0m\n\u001b[0;32m----> 5\u001b[0;31m \u001b[0mprint\u001b[0m\u001b[0;34m(\u001b[0m\u001b[0;34m'mat_mat_addition(A,B) == A+B:'\u001b[0m\u001b[0;34m,\u001b[0m \u001b[0mnp\u001b[0m\u001b[0;34m.\u001b[0m\u001b[0mallclose\u001b[0m\u001b[0;34m(\u001b[0m\u001b[0mmat_mat_addition\u001b[0m\u001b[0;34m(\u001b[0m\u001b[0mA\u001b[0m\u001b[0;34m,\u001b[0m\u001b[0mB\u001b[0m\u001b[0;34m)\u001b[0m\u001b[0;34m,\u001b[0m \u001b[0mA\u001b[0m\u001b[0;34m+\u001b[0m\u001b[0mB\u001b[0m\u001b[0;34m)\u001b[0m\u001b[0;34m)\u001b[0m\u001b[0;34m\u001b[0m\u001b[0;34m\u001b[0m\u001b[0m\n\u001b[0m",
      "\u001b[0;32m/var/folders/_z/2x9hsl9j0zj9120mnkznvdxc0000gp/T/ipykernel_92252/646624673.py\u001b[0m in \u001b[0;36mmat_mat_addition\u001b[0;34m(A, B)\u001b[0m\n\u001b[1;32m      5\u001b[0m     \u001b[0mmB\u001b[0m\u001b[0;34m,\u001b[0m \u001b[0mnB\u001b[0m \u001b[0;34m=\u001b[0m \u001b[0mnp\u001b[0m\u001b[0;34m.\u001b[0m\u001b[0mshape\u001b[0m\u001b[0;34m(\u001b[0m\u001b[0mB\u001b[0m\u001b[0;34m)\u001b[0m\u001b[0;34m\u001b[0m\u001b[0;34m\u001b[0m\u001b[0m\n\u001b[1;32m      6\u001b[0m     \u001b[0;31m# add a check that the two provided matrices are the same size\u001b[0m\u001b[0;34m\u001b[0m\u001b[0;34m\u001b[0m\u001b[0m\n\u001b[0;32m----> 7\u001b[0;31m     \u001b[0;32massert\u001b[0m \u001b[0mmA\u001b[0m\u001b[0;34m==\u001b[0m\u001b[0mmB\u001b[0m \u001b[0;32mand\u001b[0m \u001b[0mnA\u001b[0m\u001b[0;34m==\u001b[0m\u001b[0mnB\u001b[0m\u001b[0;34m\u001b[0m\u001b[0;34m\u001b[0m\u001b[0m\n\u001b[0m\u001b[1;32m      8\u001b[0m     \u001b[0;31m# initialise some space for the result\u001b[0m\u001b[0;34m\u001b[0m\u001b[0;34m\u001b[0m\u001b[0m\n\u001b[1;32m      9\u001b[0m     \u001b[0mC\u001b[0m \u001b[0;34m=\u001b[0m \u001b[0mnp\u001b[0m\u001b[0;34m.\u001b[0m\u001b[0mzeros\u001b[0m\u001b[0;34m(\u001b[0m\u001b[0;34m(\u001b[0m\u001b[0mmA\u001b[0m\u001b[0;34m,\u001b[0m \u001b[0mmB\u001b[0m\u001b[0;34m)\u001b[0m\u001b[0;34m)\u001b[0m\u001b[0;34m\u001b[0m\u001b[0;34m\u001b[0m\u001b[0m\n",
      "\u001b[0;31mAssertionError\u001b[0m: "
     ]
    }
   ],
   "source": [
    "# what does OUR function do when the matrices are of different size\n",
    "A = np.array([[1, 2], [3, 4]])\n",
    "B = np.array([[6, -2], [1, -7], [5, -1]])\n",
    "\n",
    "print('mat_mat_addition(A,B) == A+B:', np.allclose(mat_mat_addition(A,B), A+B))"
   ]
  },
  {
   "cell_type": "markdown",
   "metadata": {},
   "source": [
    "### Scalar multiplication\n",
    "\n",
    "We can multiply through by a scalar simply by multiplying each entry by that scalar:\n",
    "\n",
    "Given a matrix $A = [ a_{ij}]_{m\\times n}$ and a scalar $\\alpha$\n",
    "\n",
    "$$\\alpha A = [\\alpha a_{ij}]_{m\\times n}$$"
   ]
  },
  {
   "cell_type": "code",
   "execution_count": 9,
   "metadata": {},
   "outputs": [
    {
     "name": "stdout",
     "output_type": "stream",
     "text": [
      "[[1 2]\n",
      " [3 4]]\n",
      "alpha * A =\n",
      " [[ 4  8]\n",
      " [12 16]] \n",
      "\n"
     ]
    }
   ],
   "source": [
    "alpha = 4\n",
    "\n",
    "# The * operator is the correct thing to use here - cf. later when we introduce @!\n",
    "print(A)\n",
    "print('alpha * A =\\n', alpha*A, '\\n')"
   ]
  },
  {
   "cell_type": "markdown",
   "metadata": {},
   "source": [
    "### Be careful about assignments vs copies\n",
    "\n",
    "This was mentioned in your previous module.\n",
    "\n",
    "See the two examples below, and discussions at \n",
    "\n",
    "<https://www.jessicayung.com/numpy-views-vs-copies-avoiding-costly-mistakes/>\n",
    "\n",
    "<https://numpy.org/devdocs/user/quickstart.html#copies-and-views>"
   ]
  },
  {
   "cell_type": "code",
   "execution_count": 10,
   "metadata": {},
   "outputs": [
    {
     "name": "stdout",
     "output_type": "stream",
     "text": [
      "True\n",
      "True\n"
     ]
    }
   ],
   "source": [
    "A = np.array([[1, 2], [3, 4]])\n",
    "B = A\n",
    "\n",
    "# the following should of course be true\n",
    "print(np.array_equal(A,B))\n",
    "\n",
    "# is it still true if we update one of the entries of ONE of the matrices but not the other?\n",
    "B[0]=2\n",
    "print(np.array_equal(A,B))"
   ]
  },
  {
   "cell_type": "code",
   "execution_count": 11,
   "metadata": {},
   "outputs": [
    {
     "name": "stdout",
     "output_type": "stream",
     "text": [
      "True\n",
      "False\n"
     ]
    }
   ],
   "source": [
    "# we may or may not want the above behaviour\n",
    "\n",
    "# alternatively we can make a copy:\n",
    "A = np.array([[1, 2], [3, 4]])\n",
    "B = np.copy(A)\n",
    "print(np.array_equal(A,B))\n",
    "B[0]=2\n",
    "print(np.array_equal(A,B))"
   ]
  },
  {
   "cell_type": "markdown",
   "metadata": {},
   "source": [
    "### Matrix transpose and complex conjugate\n",
    "\n",
    "The transpose of a matrix $A$ is written as $A^T$ and defined as\n",
    "\n",
    "$$\\text{if} \\quad A = [a_{ij}]_{m\\times n}, \\qquad \\text{then}\\quad A^T = [a_{ji}]_{n\\times m} $$\n",
    "\n",
    "i.e. we just swap the rows and columns - for a non-square matrix note that this operation is perfectly allowed, the dimensions will then also swap:"
   ]
  },
  {
   "cell_type": "code",
   "execution_count": 12,
   "metadata": {},
   "outputs": [
    {
     "name": "stdout",
     "output_type": "stream",
     "text": [
      "[[1 2]\n",
      " [3 4]\n",
      " [5 6]]\n",
      "\n",
      " [[1 3 5]\n",
      " [2 4 6]]\n",
      "\n",
      " [[1 3 5]\n",
      " [2 4 6]]\n"
     ]
    }
   ],
   "source": [
    "A = np.array([[1, 2], [3, 4], [5,6]])\n",
    "print(A)\n",
    "# two NumPy ways to take the transpose:\n",
    "print('\\n',A.T)\n",
    "print('\\n',np.transpose(A))"
   ]
  },
  {
   "cell_type": "code",
   "execution_count": 13,
   "metadata": {},
   "outputs": [
    {
     "name": "stdout",
     "output_type": "stream",
     "text": [
      "\n",
      " [[1 3]\n",
      " [2 4]]\n",
      "\n",
      " [[ 1  3]\n",
      " [10  4]]\n"
     ]
    }
   ],
   "source": [
    "# again be careful about views vs copies:\n",
    "\n",
    "A = np.array([[1, 2], [3, 4]])\n",
    "B = A.T\n",
    "print('\\n',B)\n",
    "\n",
    "# updating the [0,1] entry of A\n",
    "A[0,1]=10\n",
    "\n",
    "# has the effect of changing the [1,0] entry of B!\n",
    "print('\\n',B)"
   ]
  },
  {
   "cell_type": "markdown",
   "metadata": {},
   "source": [
    "We won't generally deal with complex valued matrices, but in this case the [conjugate transpose (or Hermitian transpose)](https://en.wikipedia.org/wiki/Conjugate_transpose) is defined by additionally taking the complex conjugate of the entries:\n",
    "\n",
    "$$A^H = \\overline{A^T} = \\left(\\overline{A}\\right)^T = [\\overline{a}_{ji}]_{n\\times m} $$\n",
    "\n",
    "where $\\overline{(\\cdot)}$ indicates the complex conjugate:  \n",
    "\n",
    "$$\\overline{a+ bi} = a-bi,\\qquad \\text{where}\\qquad i=\\sqrt{-1}.$$"
   ]
  },
  {
   "cell_type": "code",
   "execution_count": 14,
   "metadata": {},
   "outputs": [
    {
     "name": "stdout",
     "output_type": "stream",
     "text": [
      "[[ 1.+1.j  3.+0.j]\n",
      " [ 4.-4.j -1.+2.j]]\n",
      "\n",
      " [[ 1.-1.j  3.-0.j]\n",
      " [ 4.+4.j -1.-2.j]]\n"
     ]
    }
   ],
   "source": [
    "# if we have a complex matrix the complex conjugate (i.e. no transpose) is sometimes useful:\n",
    "\n",
    "A = np.array( [[1+1j, 3], [4-4j, -1+2j]])\n",
    "print(A)\n",
    "print('\\n',np.conjugate(A))"
   ]
  },
  {
   "cell_type": "markdown",
   "metadata": {},
   "source": [
    "If you're wondering why `j` and not `i` is used for the square root of -1 see the discussion here:\n",
    "<https://stackoverflow.com/questions/24812444/why-are-complex-numbers-in-python-denoted-with-j-instead-of-i?>\n",
    "\n",
    "Which of the two you're used to will probably be due to what subject your first degree was in."
   ]
  },
  {
   "cell_type": "code",
   "execution_count": 15,
   "metadata": {},
   "outputs": [
    {
     "name": "stdout",
     "output_type": "stream",
     "text": [
      "[[ 1.+1.j  3.+0.j]\n",
      " [ 4.-4.j -1.+2.j]]\n",
      "\n",
      " [[ 1.-1.j  4.+4.j]\n",
      " [ 3.-0.j -1.-2.j]]\n"
     ]
    }
   ],
   "source": [
    "# and the conjugate transpose (sometimes the Hermitian transpose):\n",
    "\n",
    "A = np.array( [[1+1j, 3], [4-4j, -1+2j]])\n",
    "print(A)\n",
    "print('\\n',np.conjugate(A).T)\n",
    "# If A was a matrix object rather than just a numpy array we could also use A.H, but we won't use these"
   ]
  },
  {
   "cell_type": "markdown",
   "metadata": {},
   "source": [
    "To initialise an array of complex type we can specify the `dtype`:"
   ]
  },
  {
   "cell_type": "code",
   "execution_count": 16,
   "metadata": {},
   "outputs": [
    {
     "name": "stdout",
     "output_type": "stream",
     "text": [
      "[[0.+0.j 0.+0.j]\n",
      " [0.+0.j 0.+0.j]]\n",
      "\n",
      " [[0. 0.]\n",
      " [0. 0.]]\n"
     ]
    }
   ],
   "source": [
    "A = np.zeros((2,2), dtype=complex)\n",
    "print(A)\n",
    "\n",
    "# and if we only wanted the real part of this\n",
    "print('\\n',np.real(A))"
   ]
  },
  {
   "cell_type": "markdown",
   "metadata": {},
   "source": [
    "- If $A=A^T$ we say that $A$ is symmetric.\n",
    "\n",
    "\n",
    "- If $A=-A^T$ we say that $A$ is skew-symmetric (what does this imply the diagonal must be?)\n",
    "\n",
    "\n",
    "- If $A=A^H$ then we say that $A$ is [Hermitian](https://en.wikipedia.org/wiki/Hermitian_matrix) (so real symmetric matrices are a subset of Hermitian matrices)"
   ]
  },
  {
   "cell_type": "markdown",
   "metadata": {},
   "source": [
    "#### Properties of the transpose operator\n",
    "\n",
    "The following properties are easy to establish:\n",
    "\n",
    "For matrices $A$ and $B$ of appropriate sizes (i.e. [*conformable*](https://en.wikipedia.org/wiki/Conformable_matrix) for the given operation - addition or multiplication - see later) and a scalar $\\alpha$:\n",
    "\n",
    "\n",
    "1. $(A+B)^T = A^T + B^T$\n",
    "\n",
    "\n",
    "2. $(\\alpha A)^T = \\alpha (A^T)$\n",
    "\n",
    "\n",
    "3. $(AB)^T = B^T A^T$\n",
    "\n",
    "\n",
    "4. $(A^T)^T = A$\n",
    "\n",
    "\n",
    "As an exercise you can try and prove these from the mathematical definitions, and also demonstrate for some simple matrices using appropriate NumPy commands. The third is particularly interesting and perhaps non-obvious so worth trying to prove/verify - see the homework exercises.\n",
    "\n",
    "NB. We haven't actually defined matrix multiplication ($AB$) yet, but we will do so shortly.\n",
    "\n",
    "How does the multiplicative property expand to more matrices, i.e. what is $(ABC)^T$?"
   ]
  },
  {
   "cell_type": "markdown",
   "metadata": {},
   "source": [
    "### Indexing, slicing etc\n",
    "\n",
    "You covered some of this in your previous module.\n",
    "\n",
    "For more examples see\n",
    "[https://docs.scipy.org/doc/numpy/reference/arrays.indexing.html](https://docs.scipy.org/doc/numpy/reference/arrays.indexing.html)"
   ]
  },
  {
   "cell_type": "markdown",
   "metadata": {},
   "source": [
    "### Other useful NumPy attributes"
   ]
  },
  {
   "cell_type": "code",
   "execution_count": 17,
   "metadata": {},
   "outputs": [
    {
     "name": "stdout",
     "output_type": "stream",
     "text": [
      "A = \n",
      " [[10.  2.  1.]\n",
      " [ 6.  5.  4.]\n",
      " [ 1.  4.  7.]] \n",
      "\n",
      "array([[10.,  2.,  1.],\n",
      "       [ 6.,  5.,  4.],\n",
      "       [ 1.,  4.,  7.]])\n",
      "\n",
      "Size of the array storing A: np.size(A) =  9\n",
      "\n",
      "The number of dimensions of the matrix A: np.ndim(A) =  2\n",
      "\n",
      "The shape of the matrix A: np.shape(A) =  (3, 3)\n",
      "\n",
      "The number of rows: np.shape(A)[0] =  3\n"
     ]
    }
   ],
   "source": [
    "A = np.array([[10., 2., 1.], [6., 5., 4.], [1., 4., 7.]])\n",
    "\n",
    "print('A = \\n', A, '\\n')\n",
    "\n",
    "# pretty printing - useful for cutting and pasting directly into code.\n",
    "pprint(A)\n",
    "\n",
    "print('\\nSize of the array storing A: np.size(A) = ', np.size(A)) # also print(A.size) \n",
    "\n",
    "print('\\nThe number of dimensions of the matrix A: np.ndim(A) = ', np.ndim(A)) # also print(A.ndim)  \n",
    "# so note that there is a bit of a difference between NumPy and my use of \"dimension\"\n",
    "\n",
    "print('\\nThe shape of the matrix A: np.shape(A) = ', np.shape(A)) # also print(A.shape)\n",
    "\n",
    "print('\\nThe number of rows: np.shape(A)[0] = ', np.shape(A)[0]) # also print(A.shape[0]),   etc...."
   ]
  },
  {
   "cell_type": "markdown",
   "metadata": {},
   "source": [
    "# Matrix-vector multiplication\n",
    "\n",
    "## Mathematical definition\n",
    "\n",
    "This is a good point to review how we can pre-multiply a vector by a matrix, and code up this operation ourselves.\n",
    "\n",
    "[Note that matrix-vector multiplication is just a special case of the more general matrix-matrix multiplication that we will return to a little later].\n",
    "\n",
    "Given an $m\\times n$ matrix $A$ and a vector $\\boldsymbol{x}\\;$ the product is a new vector we will call $\\boldsymbol{b}\\;$:\n",
    "\n",
    "$$ A\\boldsymbol{x}=\\boldsymbol{b}$$\n",
    "\n",
    "The size of $A$ dictates the size of $\\boldsymbol{x}\\;$ where this product makes sense (is defined), and tells us the resulting size of $\\boldsymbol{b}\\;$: \n",
    "\n",
    "if $A$ is $m\\times n$, then \n",
    "$\\boldsymbol{x}\\;$ has to be $n\\times 1$  and $\\boldsymbol{b}\\;$ will then be  $m\\times 1$.\n",
    "\n",
    "\n",
    "$$b_i = \\sum_{j=1}^n a_{ij} x_j \\quad\\text{for}\\quad i=1,\\ldots, m $$\n"
   ]
  },
  {
   "cell_type": "markdown",
   "metadata": {},
   "source": [
    "## Code\n",
    "\n",
    "Let's implement our own matrix vector product function"
   ]
  },
  {
   "cell_type": "code",
   "execution_count": 18,
   "metadata": {},
   "outputs": [],
   "source": [
    "def mat_vec_product(A, x):\n",
    "    \"\"\" Return the matrix vector product Ax\n",
    "    \"\"\"\n",
    "    m, n = np.shape(A)\n",
    "    assert x.ndim == 1 # restrict to the case where x is 1D\n",
    "    assert n == len(x) # as 1D we can check the length of x is consistent with A\n",
    "    b = np.zeros(m) # and then initialise to zero the appropriate length array for b\n",
    "    for i in range(m):\n",
    "        for j in range(n):\n",
    "            b[i] += A[i, j] * x[j]\n",
    "    return b"
   ]
  },
  {
   "cell_type": "markdown",
   "metadata": {},
   "source": [
    "We'll test this shortly, but first well think about some properties and see how to do this in NumPy."
   ]
  },
  {
   "cell_type": "markdown",
   "metadata": {},
   "source": [
    "## Properties\n",
    "\n",
    "Note that the action of multiplying by a matrix is what is called a [linear operator](https://en.wikipedia.org/wiki/Linear_map). This means that matrix multiplication satisfies the properties (for a matrix $A$, vectors $\\boldsymbol{x}$ and $\\boldsymbol{y}$, and scalar $\\alpha$)\n",
    "\n",
    "\n",
    "1. $A (x + y) = Ax + Ay$\n",
    "\n",
    "\n",
    "2. $A (\\alpha x) = \\alpha A x$"
   ]
  },
  {
   "cell_type": "markdown",
   "metadata": {},
   "source": [
    "## Matrix multiplication using NumPy\n",
    "\n",
    "We can easily work out that for any $2 \\times 2$ matrix $A$ and\n",
    "\n",
    "$$\\boldsymbol{x} = \\begin{pmatrix}\n",
    "    1\\\\\n",
    "    1\n",
    "\\end{pmatrix}$$ \n",
    "\n",
    "$A\\boldsymbol{x}$ will just be the vector which is the summation of the columns of $A$. \n",
    "\n",
    "[We'll come back to this idea of interpreting matrix vector multiplication as a weighted sums of the columns of the matrix shortly.]\n",
    "\n",
    "Let's test this using NumPy."
   ]
  },
  {
   "cell_type": "code",
   "execution_count": 19,
   "metadata": {},
   "outputs": [
    {
     "name": "stdout",
     "output_type": "stream",
     "text": [
      "[[ 2  3]\n",
      " [ 1 -4]]\n",
      "\n",
      " [[ 2  3]\n",
      " [ 1 -4]]\n"
     ]
    }
   ],
   "source": [
    "A = np.array([[2, 3], [1, -4]])\n",
    "x = np.array([1, 1])\n",
    "\n",
    "print(A)\n",
    "print('\\n',A*x)"
   ]
  },
  {
   "cell_type": "markdown",
   "metadata": {},
   "source": [
    "**Not** what we were expecting.  \n",
    "\n",
    "The `*` operator is equivalent to `np.multiply` <https://docs.scipy.org/doc/numpy/reference/generated/numpy.multiply.html>, \n",
    "\n",
    "this is the same as the elementwise product in Matlab: `.*`. \n",
    "\n",
    "We want the `@` operator:"
   ]
  },
  {
   "cell_type": "code",
   "execution_count": 20,
   "metadata": {},
   "outputs": [
    {
     "name": "stdout",
     "output_type": "stream",
     "text": [
      "[[ 2  3]\n",
      " [ 1 -4]]\n",
      "\n",
      " [ 5 -3]\n"
     ]
    }
   ],
   "source": [
    "A = np.array([[2, 3], [1, -4]])\n",
    "x = np.array([1, 1])\n",
    "\n",
    "print(A)\n",
    "print('\\n',A@x)"
   ]
  },
  {
   "cell_type": "markdown",
   "metadata": {},
   "source": [
    "Note that the `@` operator was introduced relatively recently. If you look at older code you may see the use of \n",
    "`numpy.dot` <https://numpy.org/devdocs/reference/generated/numpy.dot.html> or `numpy.matmul` <https://numpy.org/devdocs/reference/generated/numpy.matmul.html#numpy.matmul>"
   ]
  },
  {
   "cell_type": "code",
   "execution_count": 21,
   "metadata": {},
   "outputs": [
    {
     "name": "stdout",
     "output_type": "stream",
     "text": [
      "[ 5 -3]\n",
      "\n",
      " [ 5 -3]\n"
     ]
    }
   ],
   "source": [
    "A = np.array([[2, 3], [1, -4]])\n",
    "x = np.array([1, 1])\n",
    "\n",
    "print(np.dot(A,x))   #  or   print('\\n',A.dot(x))\n",
    "print('\\n',np.matmul(A,x))   #  or print('\\n',A.matmul(x))"
   ]
  },
  {
   "cell_type": "markdown",
   "metadata": {},
   "source": [
    "<div class=\"optional\">\n",
    "\n",
    "### Aside: matrix objects [*]\n",
    "\n",
    "Note that NumPy does possess a matrix object as a sub-class of the NumPy array.  \n",
    "\n",
    "If needed we can cast the above two-dimensional arrays into matrix objects (with `np.mat(A)`), one consequence of this is that the `*` operator now will yield the expected matrix product. (Note that this may also be the case with certain libraries - we will see this in lecture 4 when we make use of `mpmath`, so be careful.)\n",
    "\n",
    "However, since the introduction of the `@` operator for NumPy arrays use of matrix data types is not recommended. We won't use them here.\n",
    "\n",
    "</div>"
   ]
  },
  {
   "cell_type": "markdown",
   "metadata": {},
   "source": [
    "## Testing our code\n",
    "\n",
    "OK, so now we know how to do matrix-vector multiplication properly with NumPy, let's use it to check our code."
   ]
  },
  {
   "cell_type": "code",
   "execution_count": 22,
   "metadata": {},
   "outputs": [
    {
     "name": "stdout",
     "output_type": "stream",
     "text": [
      "[ 5. -3.]\n",
      "mat_vec_product(A, x) == A@x:   True\n",
      "[ 5. -3.  2.]\n",
      "mat_vec_product(A, x) == A@x:   True\n"
     ]
    }
   ],
   "source": [
    "A = np.array([[2, 3], [1, -4]])\n",
    "x = np.array([1, 1])\n",
    "\n",
    "print(mat_vec_product(A,x))\n",
    "print('mat_vec_product(A, x) == A@x:  ', np.allclose(mat_vec_product(A, x), A@x))\n",
    "\n",
    "# Check a non-square matrix\n",
    "A = np.array([[2, 3], [1, -4], [1,1]])\n",
    "# based on the above weighted sum of columns, what should Ax be for the following x?\n",
    "x = np.array([1, 1])\n",
    "\n",
    "print(mat_vec_product(A,x))\n",
    "print('mat_vec_product(A, x) == A@x:  ', np.allclose(mat_vec_product(A, x), A@x))"
   ]
  },
  {
   "cell_type": "markdown",
   "metadata": {},
   "source": [
    "## Another useful interpretation\n",
    "\n",
    "If you think about it, the resultant vector $\\boldsymbol{b}$ in \n",
    "\n",
    "$$ \\boldsymbol{b} = A\\boldsymbol{x}$$\n",
    "\n",
    "\n",
    "is the weighted sum (i.e. a linear combination) of the columns of $A$, where the weighting of each column comes from the entries of $\\boldsymbol{x}$:\n",
    "\n",
    "\\begin{align}\n",
    "\\begin{pmatrix}\n",
    "    b_1\\\\\n",
    "    b_2\\\\\n",
    "    \\vdots\\\\\n",
    "    b_m\n",
    "\\end{pmatrix}\n",
    "&=\n",
    "\\begin{pmatrix}\n",
    "      &     &         &     \\\\      \n",
    "      &     &         &     \\\\      \n",
    "  \\boldsymbol{a}_{\\,:1} & \\boldsymbol{a}_{\\,:2} &  \\ldots & \\boldsymbol{a}_{\\,:n} \\\\\n",
    "      &     &         &     \\\\\n",
    "      &     &         &     \\\\\n",
    "\\end{pmatrix}\n",
    "\\begin{pmatrix}\n",
    "    x_1\\\\\n",
    "    x_2\\\\\n",
    "    \\vdots\\\\\n",
    "    x_n\n",
    "\\end{pmatrix}\\\\\n",
    "&=\n",
    "x_1 \n",
    "\\begin{pmatrix}\n",
    "       \\\\\n",
    "       \\\\\n",
    "   \\boldsymbol{a}_{\\,:1} \\\\\n",
    "       \\\\\n",
    "    ~   \n",
    "\\end{pmatrix}\n",
    "+\n",
    "x_2 \n",
    "\\begin{pmatrix}\n",
    "       \\\\\n",
    "       \\\\\n",
    "   \\boldsymbol{a}_{\\,:2} \\\\\n",
    "       \\\\\n",
    "    ~   \n",
    "\\end{pmatrix}\n",
    "+ \\cdots +\n",
    "x_n\n",
    "\\begin{pmatrix}\n",
    "       \\\\\n",
    "       \\\\\n",
    "   \\boldsymbol{a}_{\\,:n} \\\\\n",
    "       \\\\\n",
    "    ~   \n",
    "\\end{pmatrix}\n",
    "\\end{align}\n",
    "\n",
    "where we have used the notation $\\boldsymbol{a}_{\\,:j}$ to indicate the $j$-th column of matrix $A$.\n",
    "\n",
    "If you find it easier to think about things geometrically, then you will see later that this is a very useful way to think about what's going on when you multiply a matrix by a vector.\n",
    "\n",
    "<br>\n",
    "\n",
    "A homework exercise asks you to code up a version of matrix-vector multiplication based on this mathematical interpretation."
   ]
  },
  {
   "cell_type": "markdown",
   "metadata": {},
   "source": [
    "# Motivation - linear (or matrix) systems\n",
    "\n",
    "Almost every topic in this course, at some point (which may be hidden under the hood), requires the solution of a linear (or matrix) system of the form\n",
    "\n",
    "$$A\\boldsymbol{x}=\\boldsymbol{b},$$\n",
    "\n",
    "where for a given $m\\times n$ matrix $A$ and a given $m\\times 1$ right hand side vector $\\boldsymbol{b}\\;$ we want to find an $n\\times 1$ vector $\\boldsymbol{x}\\;$.\n",
    "\n",
    "[Remember that the product of an $m\\times n$ and an $n\\times p$ matrix (in that order) results in an $m\\times p$ matrix - we'll see this below.]  \n",
    "\n",
    "Often, but not always, we will be considering a square problem, i.e. where $m=n$. \n",
    "[The module Inversion & Optimisation in particular is concerned with problems that lead to non-square systems].\n",
    "\n",
    "For many methods or algorithms the solution of linear systems such as this also turns out to be the most costly component of that method.  And also where sensible vs stupid algorithm choices can lead to terrible run times and even instability (e.g. not being able to obtain a solution at all).\n",
    "\n",
    "Hence, it is vitally important for us to understand the methods available to us to solve this problem accurately and efficiently.\n",
    "\n",
    "We also need to understand situations where the solution of this problem may be more difficult - that is more expensive and/or more difficult to achieve an accurate solution."
   ]
  },
  {
   "cell_type": "markdown",
   "metadata": {},
   "source": [
    "## A simple example\n",
    "\n",
    "Recall that we can re-write a system of simultaneous (linear) equations in matrix form.  \n",
    "\n",
    "For example, consider the following example:\n",
    "\n",
    "\\begin{eqnarray*}\n",
    "  2x + 3y &=& 7 \\\\[5pt]\n",
    "   x - 4y &=& 3,\n",
    "\\end{eqnarray*} \n",
    "\n",
    "this is completely equivalent to the following problem written in matrix form:\n",
    "\n",
    "$$\n",
    "\\begin{pmatrix}\n",
    "    2 & 3 \\\\\n",
    "    1 & -4  \n",
    "\\end{pmatrix}  \n",
    "\\begin{pmatrix}\n",
    "    x \\\\\n",
    "    y \n",
    "\\end{pmatrix}  =\n",
    "\\begin{pmatrix}\n",
    "    7 \\\\\n",
    "    3 \n",
    "\\end{pmatrix}.\n",
    "$$\n",
    "\n",
    "Indeed when you see or are given a linear system, i.e. an $A$ and a $\\boldsymbol{b}$, it's often helpful to think about the set of linear equations its representing.\n",
    "\n",
    "A collection of multiple linear equations for multiple unknowns is the general situation that will lead us to need to solve a matrix system; we may easily have a scenario where we have billions of unknowns."
   ]
  },
  {
   "cell_type": "markdown",
   "metadata": {},
   "source": [
    "## The general case\n",
    "\n",
    "More generally, consider the arbitrary system of $n$ linear equations for $n$ unknowns\n",
    "\n",
    "\\begin{eqnarray*}\n",
    "  a_{11}x_1 + a_{12}x_2 + \\dots + a_{1n}x_n &=& b_1 \\\\[5pt] \n",
    "  a_{21}x_1 + a_{22}x_2 + \\dots + a_{2n}x_n &=& b_2 \\\\[5pt]\n",
    "  \\vdots &=& \\vdots \\\\ \n",
    "  a_{n1}x_1 + a_{n2}x_2 + \\dots + a_{nn}x_n &=& b_n,\n",
    "\\end{eqnarray*}\n",
    "\n",
    "where $a_{ij}$ are the constant coefficients of the linear system, $x_j$ are the unknown variables, and $b_i$\n",
    "are the terms on the right hand side (RHS).  \n",
    "\n",
    "Here the index $i$ is referring to the equation number (equivalently the row in the matrix below), with the index $j$ referring to the component of the unknown vector $\\boldsymbol{x}$ (equivalently the column of the matrix).\n",
    "\n",
    "This system of equations can be represented as the matrix equation $A\\boldsymbol{x}=\\boldsymbol{b}\\;$: \n",
    "\n",
    "$$\n",
    "\\left(\n",
    "  \\begin{array}{cccc}\n",
    "    a_{11} & a_{12} & \\dots & a_{1n} \\\\\n",
    "    a_{21} & a_{22} & \\dots & a_{2n} \\\\\n",
    "    \\vdots & \\vdots & \\ddots & \\vdots \\\\\n",
    "    a_{n1} & a_{n2} & \\dots & a_{nn} \n",
    "  \\end{array}\n",
    "\\right)\\left(\n",
    "         \\begin{array}{c}\n",
    "           x_1 \\\\\n",
    "           x_2 \\\\\n",
    "           \\vdots \\\\\n",
    "           x_n \n",
    "         \\end{array}\n",
    "       \\right)  = \\left(\n",
    "                   \\begin{array}{c}\n",
    "                     b_1 \\\\\n",
    "                     b_2 \\\\\n",
    "                     \\vdots \\\\\n",
    "                     b_n \n",
    "                   \\end{array}\n",
    "                 \\right).\n",
    "$$\n",
    "\n",
    "We've written it here as a square matrix (of *dimension* $n\\times n$) - the same number of equations as unknowns, but this doesn't necessarily need to be the case - we may have $m$ equations and $n$ unknowns and then our matrix would be of *dimension* $m \\times n$."
   ]
  },
  {
   "cell_type": "markdown",
   "metadata": {},
   "source": [
    "## A geometric interpretation\n",
    "\n",
    "Let's go back to our simple example\n",
    "\n",
    "\\begin{eqnarray*}\n",
    "  2x + 3y &=& 7 \\\\[5pt]\n",
    "   x - 4y &=& 3\n",
    "\\end{eqnarray*} \n",
    "\n",
    "which is completely equivalent to the following problem written in matrix form:\n",
    "\n",
    "$$\n",
    "\\begin{pmatrix}\n",
    "    2 & 3 \\\\\n",
    "    1 & -4  \n",
    "\\end{pmatrix}  \n",
    "\\begin{pmatrix}\n",
    "    x \\\\\n",
    "    y \n",
    "\\end{pmatrix}  =\n",
    "\\begin{pmatrix}\n",
    "    7 \\\\\n",
    "    3 \n",
    "\\end{pmatrix}.\n",
    "$$\n",
    "\n",
    "We can rearrange the first of these equations to\n",
    "\n",
    "$$y = -\\frac{2}{3} x + \\frac{7}{3}$$\n",
    "\n",
    "which we recognise as the equation of a straight line in 2D space: $y=mx +c$ where $m$ is the slope and $c$ is the intercept.\n",
    "\n",
    "Similarly the second equation can be rearranged into the standard form for a straignt line in 2D.\n",
    "\n",
    "\n",
    "\n",
    "\n",
    "\n",
    "<br>\n",
    "\n",
    "\n",
    "Let's think through another interpretation which further utilises geometrical thinking. \n",
    "\n",
    "Consider all of $(x,y)$ space where $x$ and $y$ are independent variables that are free to vary arbitrarily - they will map out, or cover/span, all of 2D space.  \n",
    "\n",
    "By stating that $ 2x + 3y = 7 $ we are now saying that $x$ and $y$ are not both independent - they cannot vary arbitrarily, one is effectively dependent on the other. \n",
    "\n",
    "For a linear system this one equation *restricts*, or *constrains*, us to a line in 2D (with a linear equation containing $x$, $y$ and $z$ variables constraining us to a plane in 3D etc). \n",
    "\n",
    "Indeed we can think about the equation as a constraint, we might even simply call it a constraint rather than an equation.\n",
    "\n",
    "In the module Inversion & Optimisation you will encounter nonlinear equations where the situation is a bit more complicated but the equations can still be considered as constraints.\n",
    "\n",
    "Above we wrote this as $y\\equiv y(x)$ ($y$ is a function of $x$) to emphasise a point, but of course we could have just as easily rearranged to $x\\equiv x(y)$. If instead of $2x + 3y = 7$ we had the equation  $2x = 7$ then of course we couldn't rearrange into the form $y\\equiv y(x)$, but trivially can into the form $x\\equiv x(y)$ (a constant in this case) - this just reflects the fact that this particular equation example represents a vertical line in 2D space ($m=\\infty$)!\n",
    "\n",
    "Of course our second equation can also be interpreted as a line in 2D space.\n",
    "\n",
    "Let's go back to our original example and plot the two lines that are defined by our two equations/constraints.\n",
    "\n",
    "\n"
   ]
  },
  {
   "cell_type": "code",
   "execution_count": 23,
   "metadata": {},
   "outputs": [
    {
     "data": {
      "text/plain": [
       "<matplotlib.legend.Legend at 0x7f9a4011bac0>"
      ]
     },
     "execution_count": 23,
     "metadata": {},
     "output_type": "execute_result"
    },
    {
     "data": {
      "image/png": "[encoded data removed]",
      "text/plain": [
       "<Figure size 360x360 with 1 Axes>"
      ]
     },
     "metadata": {
      "needs_background": "light"
     },
     "output_type": "display_data"
    }
   ],
   "source": [
    "x = np.linspace(-1,5,100)\n",
    "y1 = -(2./3.)*x + (7./3.)\n",
    "y2 = (1./4.)*x - (3./4.)\n",
    "\n",
    "fig = plt.figure(figsize=(5, 5))\n",
    "\n",
    "ax1 = fig.add_subplot(111)\n",
    "\n",
    "ax1.set_xlabel(\"$x$\", fontsize=14)\n",
    "ax1.set_ylabel(\"$y$\", fontsize=14)\n",
    "ax1.set_title('Two lines', fontsize=14)\n",
    "ax1.grid(True)\n",
    "\n",
    "ax1.plot(x,y1,'b', label='$2x+3y=7$')\n",
    "ax1.plot(x,y2,'r', label='$x-4y=3$')\n",
    "\n",
    "ax1.legend(loc='best', fontsize=14)"
   ]
  },
  {
   "cell_type": "markdown",
   "metadata": {},
   "source": [
    "\n",
    "The blue line maps out all combinations of $x$ and $y$ values that satisfy the first equation/constraint, and the red all the $x$ and $y$ values that satisfy the second.\n",
    "\n",
    "So in solving the system of simultaneous equations, or equivalently solving the corresponding matrix system, we are asking the question what $x$ and $y$ values satisfy BOTH equations (or constraints)?\n",
    "\n",
    "\n",
    "From the image above we see that **there is a solution** (at the intersection) and it is clearly **unique** (there is only one intersection), for these particular equations. This is the only combination of $x$ and $y$ values that satisfy BOTH equations/constraints.\n",
    "\n",
    "\n",
    "In 2D for this example, one constraint restricts our 2D space of $x,y$ values to a 1D subset, the other to another 1D subset, combined they restrict the 2D space down to 0D, i.e. a single point - our unique solution.\n",
    "\n",
    "\n",
    "But of course in 2D there are two other possible scenarios - what are these?  Can you construct suitable pairs of equations that demonstrate these possibilities, and the corresponding plots to help explain what is going in visually? \n",
    "\n",
    "\n",
    ".... see the exercises."
   ]
  },
  {
   "cell_type": "markdown",
   "metadata": {},
   "source": [
    "## Solving a general linear system\n",
    "\n",
    "In this simple $2\\times 2$ case we can find the solution via the above geometric method, or we can substitute one equation into the other to solve the system:\n",
    "\n",
    "\\begin{eqnarray*}\n",
    "  2x + 3y &=& 7 \\\\[5pt]\n",
    "   x - 4y &=& 3\n",
    "\\end{eqnarray*} \n",
    "\n",
    "Lots of ways we could do this, but as $x$ is already on its own in the second equation perhaps easiest (as it delays the need to deal with fractions) to rearrange and substitute $x=3+4y$ into the first:\n",
    "\n",
    "$$ 2x + 3y = 7 \\quad\\implies\\quad 2(3+4y)+3y=7 \\quad\\implies\\quad  (2\\times 4 + 3)y=7 - 2\\times 3  \\quad\\implies\\quad y = \\frac{1}{11} $$\n",
    "\n",
    "Then substitute this back into one of the equations to find $x$, again easiest option is the second:\n",
    "\n",
    "$$x=3+4y = 3+4\\times \\frac{1}{11} = \\frac{37}{11}$$\n",
    "\n",
    "But we can't really use either of these approaches (plotting or substitution) if our system is much larger in dimension - what if we had billions of unknowns (which on today's computers are problem sizes we would certainly be wanting to solve.)\n",
    "\n",
    "We can check our solution to the $2\\times 2$ problem by adding this point we just derived to our plot and comfirm if it agrees with the intersection."
   ]
  },
  {
   "cell_type": "code",
   "execution_count": 24,
   "metadata": {},
   "outputs": [
    {
     "data": {
      "text/plain": [
       "<matplotlib.legend.Legend at 0x7f9a0800e850>"
      ]
     },
     "execution_count": 24,
     "metadata": {},
     "output_type": "execute_result"
    },
    {
     "data": {
      "image/png": "[encoded data removed]",
      "text/plain": [
       "<Figure size 360x360 with 1 Axes>"
      ]
     },
     "metadata": {
      "needs_background": "light"
     },
     "output_type": "display_data"
    }
   ],
   "source": [
    "x = np.linspace(-1,5,100)\n",
    "y1 = -(2./3.)*x + (7./3.)\n",
    "y2 = (1./4.)*x - (3./4.)\n",
    "\n",
    "fig = plt.figure(figsize=(5, 5))\n",
    "\n",
    "ax1 = fig.add_subplot(111)\n",
    "\n",
    "ax1.set_xlabel(\"$x$\", fontsize=14)\n",
    "ax1.set_ylabel(\"$y$\", fontsize=14)\n",
    "ax1.set_title('Two lines', fontsize=14)\n",
    "ax1.grid(True)\n",
    "\n",
    "ax1.plot(x,y1,'b', label='$2x+3y=7$')\n",
    "ax1.plot(x,y2,'r', label='$x-4y=3$')\n",
    "ax1.plot(37./11,1./11, 'ko', label='Our solution')\n",
    "\n",
    "ax1.legend(loc='best', fontsize=14)"
   ]
  },
  {
   "cell_type": "markdown",
   "metadata": {},
   "source": [
    "Success!!"
   ]
  },
  {
   "cell_type": "markdown",
   "metadata": {},
   "source": [
    "# Matrix inverse\n",
    "\n",
    "For a square $n\\times n$ matrix $A$, its inverse is defined as the matrix $B$ with the same dimensions as $A$ that satisfies\n",
    "\n",
    "$$AB = BA = I$$\n",
    "\n",
    "where $I$ is the identity matrix of size $n\\times n$ (sometimes to explicitly indicate its dimension we would write $I_n$) - see a couple of cells below for the formal definition.\n",
    "\n",
    "That is if we pre- or post-multiply $A$ by this matrix we get the identity matrix. "
   ]
  },
  {
   "cell_type": "markdown",
   "metadata": {},
   "source": [
    "<div class=\"optional\">\n",
    "\n",
    "**Aside:**\n",
    "\n",
    "To understand this we need to recall what it means to multiple two matrices together. \n",
    "\n",
    "We'll go through this in detail in an optional section below rather than getting bogged down in the details here, for now we just state that mat-mat multiplication is just a straightforward extension of matrix-vector multiplication applied to each column of the matrix on the right of the pair:\n",
    "\n",
    "\n",
    "$$C=AB \\qquad \\iff \\qquad c_{ij} = \\sum_{k=1}^n a_{ik} b_{kj}$$\n",
    "\n",
    "</div>"
   ]
  },
  {
   "cell_type": "markdown",
   "metadata": {},
   "source": [
    "Such a matrix $B$, if its exists (more on this later), is called the inverse of $A$ and denoted $A^{-1}$. Note that  $(A^{-1})^{-1} = A$.\n",
    "\n",
    "The action of taking the inverse can be written $\\text{inv}(A)$, so for example $\\text{inv}(\\text{inv}(A)) = A$.\n",
    "\n",
    "Note that since we established above that $AB \\ne BA$ in general, then for non-square matrices it is certainly possible to find a matrix $B$ such that $AB=I$ but $BA\\ne I$. In this case we say that $B$ is a *right inverse*. Similar definition for *left inverse*. \n",
    "\n",
    "For square matrices a left inverse is also the right inverse and vice-versa."
   ]
  },
  {
   "cell_type": "markdown",
   "metadata": {},
   "source": [
    "## Properties of the matrix inverse\n",
    "\n",
    "If a matrix has an inverse, then that inverse is unique.\n",
    "\n",
    "How could you prove a result like this:\n",
    "\n",
    "consider a matrix $A$ and suppose $B$ and $C$ are both inverses, i.e.\n",
    "\n",
    "$$AB = BA = I\\quad\\text{and}\\quad AC = CA = I$$\n",
    "\n",
    "then it must follow that\n",
    "\n",
    "$$B = BI = B(AC) = (BA)C = IC = C$$\n",
    "\n",
    "Hence the inverse is unique."
   ]
  },
  {
   "cell_type": "markdown",
   "metadata": {},
   "source": [
    "The following properties of inverses hold\n",
    "\n",
    "For invertible matrices $A$ and $B$ (of the same square size) and scalar $\\alpha\\ne 0$\n",
    "\n",
    "\n",
    "1. $\\alpha A$ is invertible and $(\\alpha A)^{-1} = \\alpha^{-1} A^{-1}$\n",
    "\n",
    "\n",
    "2. $AB$ is invertible and $(AB)^{-1} = B^{-1}A^{-1}$\n",
    "\n",
    "\n",
    "3. $A^{-1}$ is invertible and $(A^{-1})^{-1}=A$\n",
    "\n",
    "\n",
    "4. $A^{T}$ is invertible and $(A^{T})^{-1}=(A^{-1})^T$\n",
    "\n",
    "\n",
    "As an exercise you can check these through some example using NumPy."
   ]
  },
  {
   "cell_type": "markdown",
   "metadata": {},
   "source": [
    "## Using the inverse matrix to solve a linear system\n",
    "\n",
    "**IF** we have the inverse matrix, then to solve the matrix equation \n",
    "\n",
    "$$ A\\boldsymbol{x}=\\boldsymbol{b} $$\n",
    "\n",
    "we can simply multiply both sides by the inverse of the matrix $A$:\n",
    "\n",
    "\\begin{align}\n",
    "A\\boldsymbol{x} & = \\boldsymbol{b}\\\\\n",
    "\\implies A^{-1}A\\boldsymbol{x} & = A^{-1}\\boldsymbol{b}\\\\\n",
    "\\implies I\\boldsymbol{x} & = A^{-1}\\boldsymbol{b}\\\\\n",
    "\\implies \\boldsymbol{x} & = A^{-1}\\boldsymbol{b}\n",
    "\\end{align}\n",
    "\n",
    "so we can find the solution $\\boldsymbol{x}$ by multiplying the inverse of $A$ with the RHS vector $\\boldsymbol{b}$."
   ]
  },
  {
   "cell_type": "markdown",
   "metadata": {},
   "source": [
    "### The inverse for our simple example\n",
    "\n",
    "Note that for our $2\\times 2$ case, when we went through the steps of substituting one equation into another to solve the system, this actually pretty much gave us enough information to write down the inverse matrix.\n",
    "\n",
    "Let's check that we do indeed have an inverse:"
   ]
  },
  {
   "cell_type": "code",
   "execution_count": 25,
   "metadata": {},
   "outputs": [
    {
     "name": "stdout",
     "output_type": "stream",
     "text": [
      "[[1. 0.]\n",
      " [0. 1.]]\n",
      "[[1. 0.]\n",
      " [0. 1.]]\n"
     ]
    }
   ],
   "source": [
    "# our matrix\n",
    "A = np.array([[2, 3], [1, -4]])\n",
    "\n",
    "# I claim this is the inverse to that matrix\n",
    "B = (-1./11)*np.array([[-4, -3], [-1, 2]])\n",
    "\n",
    "# let's check\n",
    "print(A@B)\n",
    "print(B@A)"
   ]
  },
  {
   "cell_type": "markdown",
   "metadata": {},
   "source": [
    "<div class=\"optional\">\n",
    "    \n",
    "### Row operations and a glimpse at Gaussian elimination [\\* - please read through this in your own time]\n",
    "\n",
    "What did we do when we used substitution to solve our problem\n",
    "\n",
    "$$\n",
    "\\begin{align*}\n",
    "  2x + 3y &= 7 \\\\[5pt]\n",
    "   x - 4y &= 3 \n",
    "\\end{align*}\n",
    "   \\quad \\iff \\quad\n",
    "  \\begin{pmatrix}\n",
    "    2 & 3 \\\\\n",
    "    1 & -4  \n",
    "  \\end{pmatrix}\n",
    "  \\begin{pmatrix}\n",
    "    x \\\\\n",
    "    y \n",
    "  \\end{pmatrix}=\n",
    "  \\begin{pmatrix}\n",
    "    7 \\\\\n",
    "    3 \n",
    "  \\end{pmatrix}   \n",
    "$$\n",
    "\n",
    "We rearranged the second equation to yield $x=3+4y$ and substituted it into the first to obtain an equation that contained $y$'s only. \n",
    "\n",
    "We can achieve exactly the same thing if we subtract twice the second equation from the first: the $x$'s cancel, we get $3-2\\times (-4)$ (i.e. 11) $y$'s on the LHS, and on the RHS we get $7-2\\times 3$, i.e. 1.  \n",
    "\n",
    "Hence, we have $11y=1$ and so $y=1/11$.\n",
    "\n",
    "We effectively performed what are called **row operations** on the matrix and the RHS vector. Recalling that each row of the matrix encodes an algebraic equation, we can multiply each row by a non-zero scalar, add multiples of one row to another, and swap rows, without changing the overall information that the rows (or the corresponding equations) are telling us (as long as we remember that we must apply the same operation to the RHS value, otherwise the equation would change!).\n",
    "\n",
    "\n",
    "<br>\n",
    "\n",
    "**Row operations** are thus defined as\n",
    "\n",
    "\n",
    "1. multiply each row by a non-zero scalar\n",
    "\n",
    "\n",
    "2. add multiples of one row to another \n",
    "\n",
    "\n",
    "3. swap rows\n",
    "\n",
    "\n",
    "<br>\n",
    "<br>\n",
    "\n",
    "For the example above, multiplying a row by a scalar or swapping rows would not change the two lines in the plot and so not change the solution.  Adding a multiple of one row to another and replacing one row with this updated row **will** change one of the lines, **but** the intersection point won't change - convince yourself of this with some additional plotting.\n",
    "    \n",
    "<br>\n",
    "    \n",
    "    \n",
    "We can perform these operations in a way that is easy to keep track of by forming an **augmented matrix** (we add the RHS vector as an additional column). \n",
    "\n",
    "In this demonstration where we also want to form the inverse matrix let's additionally add columns corresponding to the inverse matrix. \n",
    "\n",
    "The notation above the arrows should hopefully be clear, it's encoding the operations we are performing on the rows, with '(1)' and '(2)' identifying the first and second row, respectively. '$(1)\\leftarrow (1)-2(2)$' means replace the first row with the first row minus twice the second row - the operation we performed above.\n",
    "\n",
    "When we perform these operations on the rows of the matrix $A$, we also apply them to the additional columns in our augmented matrix:\n",
    "\n",
    "\\begin{align*}\n",
    "[A \\, | \\, \\boldsymbol{b} \\, | \\, I] = \n",
    "&\\left[\n",
    "  \\begin{array}{cc|c|cc}\n",
    "    2 & 3 & 7 & 1 & 0 \\\\\n",
    "    1 & -4 & 3 & 0 & 1  \n",
    "  \\end{array}\n",
    "\\right]\n",
    "\\xrightarrow{(1)\\leftarrow (1)-2(2)}\n",
    "\\left[\n",
    "  \\begin{array}{cc|c|cc}\n",
    "    0 & 11 & 1 & 1 & -2 \\\\\n",
    "    1 & -4 & 3 & 0 & 1  \n",
    "  \\end{array}\n",
    "\\right]\n",
    "\\xrightarrow{(1)\\leftarrow (1)/11}\n",
    "\\left[\n",
    "  \\begin{array}{cc|c|cc}\n",
    "    0 & 1 & 1/11 & 1/11 & -2/11 \\\\\n",
    "    1 & -4 & 3 & 0 & 1  \n",
    "  \\end{array}\n",
    "\\right]\\\\\n",
    "&\\xrightarrow{(2)\\leftarrow (2)+4(1)}\n",
    "\\left[\n",
    "  \\begin{array}{cc|c|cc}\n",
    "    0 & 1 & 1/11 & 1/11 & -2/11 \\\\\n",
    "    1 & 0 & 3+4/11 & 4/11 & 1-8/11  \n",
    "  \\end{array}\n",
    "\\right]\n",
    "\\xrightarrow{(1)\\leftrightarrow (2)}\n",
    "\\left[\n",
    "  \\begin{array}{cc|c|cc}\n",
    "    1 & 0 & 3+4/11 & 4/11 & 1-8/11  \\\\\n",
    "    0 & 1 & 1/11 & 1/11 & -2/11 \n",
    "  \\end{array}\n",
    "\\right]\n",
    "\\end{align*}\n",
    "\n",
    "Now the fact that we have transformed $A$ into $I$ via these so-called *row operations* means that what was originally in the $\\boldsymbol{b}$ position is now the solution $\\boldsymbol{x}$, and what was originally $I$ is now $A^{-1}$:\n",
    "\n",
    "$$\\boldsymbol{x} =\n",
    "\\begin{pmatrix}\n",
    "3+4/11\\\\\n",
    "1/11\n",
    "\\end{pmatrix}=\n",
    "\\begin{pmatrix}\n",
    "37/11\\\\\n",
    "1/11\n",
    "\\end{pmatrix},$$\n",
    "\n",
    "so this approach has indeed given us the correct solution to our original problem - it's vital that we also performed the same row operations on the RHS vector, hence considered the augmented matrix rather than the $A$ matrix alone.\n",
    "\n",
    "\n",
    "<br>\n",
    "<br>\n",
    "\n",
    "In addition we have\n",
    "\n",
    "$$A^{-1} = \n",
    "\\begin{pmatrix}\n",
    "    4/11 & 1-8/11  \\\\\n",
    "    1/11 & -2/11 \n",
    "\\end{pmatrix}= \n",
    "\\begin{pmatrix}\n",
    "    4/11 & 3/11  \\\\\n",
    "    1/11 & -2/11 \n",
    "\\end{pmatrix}= \\frac{-1}{11}\n",
    "\\begin{pmatrix}\n",
    "    -4 & -3  \\\\\n",
    "    -1 & 2 \n",
    "\\end{pmatrix}\n",
    "$$\n",
    "\n",
    "which can also be checked for correctness.\n",
    "\n",
    "\n",
    "<br>\n",
    "<br>\n",
    "\n",
    "A homework exercise asks you to repeat these steps to derive the inverse of the completely general $2\\times 2$ matrix\n",
    "\n",
    "$$A = \\begin{pmatrix}\n",
    "a & b\\\\\n",
    "c & d\n",
    "\\end{pmatrix}$$\n",
    "\n",
    "\n",
    "<br>\n",
    "<br>\n",
    "\n",
    "These ideas (i.e. use of row operation to simplify the form of the linear system without changing its solution) underlies the Gaussian elimination and the LU decomposition algorithms.\n",
    "\n",
    "</div>"
   ]
  },
  {
   "cell_type": "markdown",
   "metadata": {},
   "source": [
    "### Solving our simple example using the inverse matrix\n",
    "\n",
    "So we have enough information now to solve our problem\n",
    "\n",
    "$$\n",
    "\\begin{align*}\n",
    "  2x + 3y &= 7 \\\\[5pt]\n",
    "   x - 4y &= 3 \n",
    "\\end{align*}\n",
    "   \\quad \\iff \\quad\n",
    "  \\begin{pmatrix}\n",
    "    2 & 3 \\\\\n",
    "    1 & -4  \n",
    "  \\end{pmatrix}\n",
    "  \\begin{pmatrix}\n",
    "    x \\\\\n",
    "    y \n",
    "  \\end{pmatrix}=\n",
    "  \\begin{pmatrix}\n",
    "    7 \\\\\n",
    "    3 \n",
    "  \\end{pmatrix}   \n",
    "$$\n",
    "\n",
    "\n",
    "Recalling the solution we calculated through substitution: $x=37/11$ and $y=1/11$, we can use to check our numerical solution.\n",
    "\n",
    "Let's calculate \n",
    "\n",
    "$$\\boldsymbol{x} = A^{-1}\\boldsymbol{b}$$"
   ]
  },
  {
   "cell_type": "code",
   "execution_count": 26,
   "metadata": {},
   "outputs": [
    {
     "name": "stdout",
     "output_type": "stream",
     "text": [
      "x =  [3.363636 0.090909]\n",
      "\n",
      "Our computed solution solves the linear system (Ax == b):  True\n",
      "\n",
      "and agrees with the exact solution we computed by hand:  True\n"
     ]
    }
   ],
   "source": [
    "# form the LHS matrix\n",
    "A = np.array([[2., 3.], [1., -4.]])\n",
    "\n",
    "# form the RHS vector\n",
    "b = np.array([7., 3.])\n",
    "\n",
    "# the inverse matrix from above:\n",
    "invA = (-1./11)*np.array([[-4, -3], [-1, 2]])\n",
    "\n",
    "# compute and print our solution\n",
    "x = invA@b\n",
    "print('x = ',x)\n",
    "\n",
    "# Check our two numerical solutions using the numpy allclose function\n",
    "print('\\nOur computed solution solves the linear system (Ax == b): ', \n",
    "      np.allclose(A@x, b))\n",
    "\n",
    "# and check further that this agrees with the solution we computed by hand\n",
    "print('\\nand agrees with the exact solution we computed by hand: ', \n",
    "      np.allclose(x, [37./11., 1./11.]))"
   ]
  },
  {
   "cell_type": "markdown",
   "metadata": {},
   "source": [
    "<div class=\"optional\">\n",
    "\n",
    "## Aside: constructing some useful simple matrices in NumPy [*]\n",
    "\n",
    "Now is perhaps a good opportunity to review some more useful NumPy commands to construct certain common matrices.\n",
    "\n",
    "[NB. Everything below can be extended to higher rank tensors]\n",
    "\n",
    "</div>"
   ]
  },
  {
   "cell_type": "markdown",
   "metadata": {},
   "source": [
    "<div class=\"optional\">\n",
    "    \n",
    "### The identity matrix\n",
    "\n",
    "The identity matrix $I$ (sometimes to indicate dimension we would write $I_n$ or even $I(n)$) is of size $n\\times n$ and is zero everywhere except for the main diagonal where all entries are 1 (sometimes you will see people use the word unity).\n",
    "\n",
    "</div>"
   ]
  },
  {
   "cell_type": "code",
   "execution_count": 27,
   "metadata": {
    "scrolled": true
   },
   "outputs": [
    {
     "name": "stdout",
     "output_type": "stream",
     "text": [
      "[[1. 0. 0.]\n",
      " [0. 1. 0.]\n",
      " [0. 0. 1.]]\n"
     ]
    }
   ],
   "source": [
    "# how to initialise the identity matrix, I or Id\n",
    "print(np.eye(3))"
   ]
  },
  {
   "cell_type": "markdown",
   "metadata": {},
   "source": [
    "<div class=\"optional\">\n",
    "\n",
    "### Diagonal matrices\n",
    "\n",
    "Diagonal matrices are very useful and occur a lot.\n",
    "\n",
    "The command `numpy.diag` can be used to both extract diagonals from matrices, and to place vectors in place on the diagonals of matrices.\n",
    "\n",
    "For example:\n",
    "\n",
    "</div>"
   ]
  },
  {
   "cell_type": "code",
   "execution_count": 28,
   "metadata": {},
   "outputs": [
    {
     "name": "stdout",
     "output_type": "stream",
     "text": [
      "[1. 1. 1.]\n",
      "\n",
      " [1. 1. 1.]\n",
      "\n",
      " [0. 0.]\n"
     ]
    }
   ],
   "source": [
    "# extract a diagonal of given a matrix (2D array)\n",
    "print(np.diag(np.eye(3)))\n",
    "# the default is to extract the leading diagonal (k=0)\n",
    "print('\\n',np.diag(np.eye(3),k=0))\n",
    "# can also extract off diagonals with positive/negative integer k's:\n",
    "print('\\n',np.diag(np.eye(3),k=1))"
   ]
  },
  {
   "cell_type": "code",
   "execution_count": 29,
   "metadata": {},
   "outputs": [
    {
     "name": "stdout",
     "output_type": "stream",
     "text": [
      "[[1 0 0]\n",
      " [0 2 0]\n",
      " [0 0 3]]\n",
      "\n",
      " [[0 0 0 0]\n",
      " [1 0 0 0]\n",
      " [0 2 0 0]\n",
      " [0 0 3 0]]\n"
     ]
    }
   ],
   "source": [
    "# given a 1D array diag constructs a 2D array:\n",
    "print(np.diag(np.array([1,2,3])))\n",
    "# again default is to place on the leading diagonal, but we can specify other diagonals:\n",
    "print('\\n',np.diag(np.array([1,2,3]), k=-1))"
   ]
  },
  {
   "cell_type": "markdown",
   "metadata": {},
   "source": [
    "<div class=\"optional\">\n",
    "\n",
    "### Matrices of zeros or ones, empty matrices\n",
    "\n",
    "The matrix $\\boldsymbol{0}$ made up of zero entries is termed the zero matrix or the null matrix.\n",
    "\n",
    "Mathematically, we will see it's use when we talk about eigenvalues next lecture, as well as null spaces.\n",
    "\n",
    "Computationally, we will often initialise an array or matrix to zero if we subsequently perform operations which add entries to it.\n",
    "\n",
    "</div>"
   ]
  },
  {
   "cell_type": "code",
   "execution_count": 30,
   "metadata": {},
   "outputs": [
    {
     "name": "stdout",
     "output_type": "stream",
     "text": [
      "[0. 0. 0.]\n",
      "\n",
      " [0. 0.]\n",
      "\n",
      " [[0 0]\n",
      " [0 0]]\n"
     ]
    }
   ],
   "source": [
    "# how to initialise a vector of zeros \n",
    "print(np.zeros(3))\n",
    "# vector of zeros of length the same as number of rows in A\n",
    "A = np.array([[2, 3], [1, -4]])\n",
    "print('\\n', np.zeros(np.shape(A)[0]))\n",
    "# matrix of zeros of length the same shape as A\n",
    "print('\\n', np.zeros_like(A))"
   ]
  },
  {
   "cell_type": "code",
   "execution_count": 31,
   "metadata": {},
   "outputs": [
    {
     "name": "stdout",
     "output_type": "stream",
     "text": [
      "[[0. 0. 0.]\n",
      " [0. 0. 0.]\n",
      " [0. 0. 0.]]\n"
     ]
    }
   ],
   "source": [
    "# how to initialise a matrix of zeros\n",
    "print(np.zeros((3,3)))\n",
    "\n",
    "# also\n",
    "\n",
    "#print('\\n', np.zeros(np.shape(A)))\n",
    "#print('\\n', np.zeros_like(A))"
   ]
  },
  {
   "cell_type": "code",
   "execution_count": 32,
   "metadata": {},
   "outputs": [
    {
     "name": "stdout",
     "output_type": "stream",
     "text": [
      "[[[0. 0. 0.]\n",
      "  [0. 0. 0.]\n",
      "  [0. 0. 0.]]\n",
      "\n",
      " [[0. 0. 0.]\n",
      "  [0. 0. 0.]\n",
      "  [0. 0. 0.]]\n",
      "\n",
      " [[0. 0. 0.]\n",
      "  [0. 0. 0.]\n",
      "  [0. 0. 0.]]]\n",
      "27\n",
      "(3, 3, 3)\n"
     ]
    }
   ],
   "source": [
    "# how to initialise a 3rd-order tensor of zeros\n",
    "print(np.zeros((3,3,3)))\n",
    "\n",
    "print(np.size(np.zeros((3,3,3))))\n",
    "\n",
    "print(np.shape(np.zeros((3,3,3))))"
   ]
  },
  {
   "cell_type": "markdown",
   "metadata": {},
   "source": [
    "<div class=\"optional\">\n",
    "    \n",
    "Initialising an array or matrix to have all entries one (unity) is useful if we subsequently apply multiplicative operations on its entries.\n",
    "\n",
    "</div>"
   ]
  },
  {
   "cell_type": "code",
   "execution_count": 33,
   "metadata": {},
   "outputs": [
    {
     "name": "stdout",
     "output_type": "stream",
     "text": [
      "[1. 1. 1.]\n",
      "\n",
      " [[1. 1. 1.]\n",
      " [1. 1. 1.]\n",
      " [1. 1. 1.]]\n",
      "\n",
      " [[1 1]\n",
      " [1 1]]\n"
     ]
    }
   ],
   "source": [
    "# how to initialise a vector of ones \n",
    "print(np.ones(3))\n",
    "print('\\n',np.ones((3,3)))\n",
    "# A matrix of ones, the same size as A\n",
    "A = np.array([[2, 3], [1, -4]])\n",
    "print('\\n', np.ones_like(A))"
   ]
  },
  {
   "cell_type": "code",
   "execution_count": 34,
   "metadata": {},
   "outputs": [
    {
     "name": "stdout",
     "output_type": "stream",
     "text": [
      "\n",
      " [1. 1. 1.]\n"
     ]
    }
   ],
   "source": [
    "# if you don't care about initialise to zero you can use\n",
    "print('\\n', np.empty(3))\n",
    "# but the entries will be random\n",
    "\n",
    "# (they might appear as zeros but you can't guarantee this)\n",
    "# as you're not setting values on initialisation this will be\n",
    "# slightly faster - but not enough to really warrant use in this course."
   ]
  },
  {
   "cell_type": "markdown",
   "metadata": {},
   "source": [
    "# The determinant \n",
    "\n",
    "So for linear systems (and next lecture we will see also for eigenvalues), we need a method to determine whether a given matrix is invertible or not - the determinant of the matrix tells us this.\n",
    "\n",
    "The [*determinant*](https://en.wikipedia.org/wiki/Determinant) is a quantity of a square matrix which can be computed directly from its entries.\n",
    "\n",
    "It can be written as either $\\det(A)$ or $|A|$.\n",
    "\n",
    "Geometrically it gives the scaling of the volume (area in 2D) of a shape under the linear transformation represented by the matrix - proved at the end, and more on linear transformations next lecture. \n",
    "\n",
    "If the mapped volume has zero volume, how does this fact alone tell you that the matrix can't have an inverse?\n",
    "\n",
    "[since zero volume in the mapping implies that (at least) two distinct points are mapped to the same point - we therefore do not have a well-defined inverse]."
   ]
  },
  {
   "cell_type": "markdown",
   "metadata": {},
   "source": [
    "Consider the matrix\n",
    "\n",
    "$$\n",
    "\\left(\n",
    "  \\begin{array}{rr}\n",
    "    2 & 3 \\\\\n",
    "    4 & 6  \\\\\n",
    "  \\end{array}\n",
    "\\right),\n",
    "$$\n",
    "\n",
    "for a $2 \\times 2$ matrix we can compute the determinant in our heads (or with a calculator!) - we multiply the two main diagonal entries and subtract the multiple of the off-diagonal entries:\n",
    "\n",
    "$$\\det(A) = (2\\times 6) - (3\\times 4) = 0$$\n",
    "\n",
    "Let's check this using a SciPy function for computing determinants:"
   ]
  },
  {
   "cell_type": "code",
   "execution_count": 35,
   "metadata": {},
   "outputs": [
    {
     "name": "stdout",
     "output_type": "stream",
     "text": [
      "0.0\n",
      "True\n"
     ]
    }
   ],
   "source": [
    "A = np.array( [[2, 3], [4, 6] ] )\n",
    "print(sl.det(A))\n",
    "print(np.allclose(0,sl.det(A)))"
   ]
  },
  {
   "cell_type": "code",
   "execution_count": 36,
   "metadata": {},
   "outputs": [
    {
     "name": "stdout",
     "output_type": "stream",
     "text": [
      "-11.0\n"
     ]
    }
   ],
   "source": [
    "# and for our linear system example above:\n",
    "A = np.array([[2, 3], [1, -4]])\n",
    "print(sl.det(A))"
   ]
  },
  {
   "cell_type": "markdown",
   "metadata": {},
   "source": [
    "The former determinant is zero (to round off) and this means that the corresponding matrix does not have an inverse, \n",
    "\n",
    "the latter is safely non-zero and hence is why we were able to find the inverse without problem.\n",
    "\n",
    "We'll review the general formula for the determinant later.\n",
    "\n",
    "A homework exercise includes writing our own function to compute the determinant of a general matrix."
   ]
  },
  {
   "cell_type": "markdown",
   "metadata": {},
   "source": [
    "<div class=\"optional\">\n",
    "\n",
    "# Matrix-vector multiplication (again; code speed) [\\*]\n",
    "\n",
    "Let's go back to our matrix vector multiplication code to test our calculation above, and we will also think about speed!\n",
    "\n",
    "</div>"
   ]
  },
  {
   "cell_type": "code",
   "execution_count": 37,
   "metadata": {},
   "outputs": [],
   "source": [
    "# copied from above\n",
    "\n",
    "def mat_vec_product(A, x):\n",
    "    \"\"\" Return the matrix vector product Ax\n",
    "    \"\"\"\n",
    "    m, n = np.shape(A)\n",
    "    assert x.ndim == 1 # restrict to the case where x is 1D\n",
    "    assert n == len(x) # as 1D we can check the length of x is consistent with A\n",
    "    b = np.zeros(m) # and then initialise the appropriate length array for b\n",
    "    for i in range(m):\n",
    "        for j in range(n):\n",
    "            b[i] += A[i, j] * x[j]\n",
    "    return b"
   ]
  },
  {
   "cell_type": "markdown",
   "metadata": {},
   "source": [
    "<div class=\"optional\">\n",
    "\n",
    "## Testing our code \n",
    "\n",
    "Let's test our code by comparing it against our case from above.\n",
    "\n",
    "</div>"
   ]
  },
  {
   "cell_type": "code",
   "execution_count": 38,
   "metadata": {},
   "outputs": [
    {
     "name": "stdout",
     "output_type": "stream",
     "text": [
      "Ax=b (NumPy):  True\n",
      "Ax=b (mat_vec_product):  True\n"
     ]
    }
   ],
   "source": [
    "# our LHS matrix\n",
    "A = np.array([[2., 3.], [1., -4.]])\n",
    "# our RHS vector\n",
    "b = np.array([7., 3.])\n",
    "# the solution we calculated\n",
    "x = np.array([37./11., 1./11.])\n",
    "\n",
    "# first let's check that Ax = b using NumPy's matrix-vector multiplication\n",
    "print('Ax=b (NumPy): ',np.allclose(A@x, b))\n",
    "\n",
    "# and with our function\n",
    "print('Ax=b (mat_vec_product): ',np.allclose(mat_vec_product(A,x), b))\n"
   ]
  },
  {
   "cell_type": "markdown",
   "metadata": {},
   "source": [
    "<div class=\"optional\">\n",
    "\n",
    "## Checking the speed of our code!\n",
    "\n",
    "Let's check how efficient out code is compared to NumPy - as mentioned above `@` and `np.dot` are two in-built methods to perform matrix multiplication, let's consider both to see if there's any difference between them.\n",
    "\n",
    "</div>"
   ]
  },
  {
   "cell_type": "code",
   "execution_count": 39,
   "metadata": {},
   "outputs": [
    {
     "name": "stdout",
     "output_type": "stream",
     "text": [
      "896 ns ± 1.09 ns per loop (mean ± std. dev. of 7 runs, 1000000 loops each)\n",
      "447 ns ± 0.857 ns per loop (mean ± std. dev. of 7 runs, 1000000 loops each)\n",
      "3.13 µs ± 10.3 ns per loop (mean ± std. dev. of 7 runs, 100000 loops each)\n",
      "8.943127500001538e-07 4.4569816700004595e-07 3.114320829999997e-06 3.4823621043079855\n"
     ]
    }
   ],
   "source": [
    "A = np.array([[2., 3.], [1., -4.]])\n",
    "x = np.array([37./11., 1./11.])\n",
    "\n",
    "time_at = %timeit -o b=A@x  \n",
    "time_dot = %timeit -o b=A.dot(x)\n",
    "time_ours = %timeit -o b=mat_vec_product(A, x)\n",
    "\n",
    "# if you wanted to control number of calls to reduce time use something like: %timeit -n 10 -r 3 -o b=A@x\n",
    "\n",
    "print(time_at.best, time_dot.best, time_ours.best, time_ours.best/time_at.best)"
   ]
  },
  {
   "cell_type": "markdown",
   "metadata": {},
   "source": [
    "<div class=\"optional\">\n",
    "\n",
    "So for our $2\\times 2$ example we're slower, but not disastrously.\n",
    "\n",
    "Let's try a larger example using some matrices made up of random entries.\n",
    "\n",
    "</div>"
   ]
  },
  {
   "cell_type": "code",
   "execution_count": 40,
   "metadata": {},
   "outputs": [
    {
     "name": "stdout",
     "output_type": "stream",
     "text": [
      "A @ x = mat_vec_product(A, x):   True\n",
      "226 µs ± 57 µs per loop (mean ± std. dev. of 3 runs, 10 loops each)\n",
      "171 µs ± 16.5 µs per loop (mean ± std. dev. of 3 runs, 10 loops each)\n",
      "741 ms ± 1.65 ms per loop (mean ± std. dev. of 3 runs, 10 loops each)\n",
      "0.00015966250000474247 0.00014817920000496088 0.7387224458999981 4626.774890021487\n"
     ]
    }
   ],
   "source": [
    "# just some random numbers, doesn't need to be square for this demo\n",
    "m = 1234\n",
    "n = 1498\n",
    "# a random (dense) matrix and vector\n",
    "A = np.random.random((m,n))\n",
    "x = np.random.random((n))\n",
    "\n",
    "print('A @ x = mat_vec_product(A, x):  ', np.allclose(A@x , mat_vec_product(A, x)))\n",
    "\n",
    "time_at = %timeit -n 10 -r 3 -o b=A@x\n",
    "time_dot = %timeit -n 10 -r 3 -o b=A.dot(x)\n",
    "time_ours = %timeit -n 10 -r 3 -o b=mat_vec_product(A, x)\n",
    "\n",
    "print(time_at.best, time_dot.best, time_ours.best, time_ours.best/time_at.best)"
   ]
  },
  {
   "cell_type": "markdown",
   "metadata": {},
   "source": [
    "<div class=\"optional\">\n",
    "\n",
    "Oh dear. A lot slower!\n",
    "\n",
    "More on this in the exercises.\n",
    "\n",
    "</div>"
   ]
  },
  {
   "cell_type": "markdown",
   "metadata": {},
   "source": [
    "<div class=\"optional\">\n",
    "\n",
    "# Matrix-matrix product [*]\n",
    "\n",
    "To test whether or not we have a matrix that is an inverse we need to know how to perform matrix-matrix multiplication in order to check, and to make use of the inverse to solve the corresponding linear system.\n",
    "\n",
    "This is just a straightforward extension of matrix-vector multiplication applied to each column of the right-hand matrix.\n",
    "\n",
    "</div>"
   ]
  },
  {
   "cell_type": "markdown",
   "metadata": {},
   "source": [
    "<div class=\"optional\">\n",
    "\n",
    "The matrix-matrix product \n",
    "\n",
    "$$C=AB$$\n",
    "\n",
    "is defined by \n",
    "\n",
    "$$c_{ij} = \\sum_{k=1}^n a_{ik} b_{kj}$$\n",
    "\n",
    "If you're familiar with [Einstein summation convention](https://en.wikipedia.org/wiki/Einstein_notation) we can also write\n",
    "\n",
    "$$c_{ij} = a_{ik} b_{kj}$$\n",
    "\n",
    "we have contracted over the inner-most index - this is why the convention to say \"m by n\" makes sense.\n",
    "\n",
    "</div>"
   ]
  },
  {
   "cell_type": "markdown",
   "metadata": {},
   "source": [
    "<div class=\"optional\">\n",
    "\n",
    "## Conformable dimensions\n",
    "\n",
    "Note that matrix multiplication needs to be conducted between matrices which are [*conformable*](https://en.wikipedia.org/wiki/Conformable_matrix) for multiplication.\n",
    "\n",
    "For matrix-vector multiplication this meant we needed the same number of columns in the matrix as entires in the vector, and the result was a new vector with the same number of rows as the matrix, we could write this as:\n",
    "\n",
    "$$ (m \\times n) \\times (n \\times 1) = (m \\times 1) $$\n",
    "\n",
    "For the general matrix-matrix case this requirement can be illustrated as\n",
    "\n",
    "$$ (m \\times n) \\times (n \\times p) = (m \\times p) $$\n",
    "\n",
    "and so in the mathematics above, $1\\leq i \\leq m$ and $1\\leq j \\leq p$, while $1\\leq k \\leq n$.\n",
    "\n",
    "</div>"
   ]
  },
  {
   "cell_type": "markdown",
   "metadata": {},
   "source": [
    "<div class=\"optional\">\n",
    "\n",
    "## Properties\n",
    "\n",
    "Matrix-matrix multiplication satisfies the properties:\n",
    "\n",
    "\n",
    "1. $A(B + C) = AB + AC$ - this is termed the *distributive* property - matrix multiplication is distributive\n",
    "\n",
    "\n",
    "2. $AB \\neq BA$, in general - matrix multiplication is not commutative\n",
    "\n",
    "\n",
    "3. $A(BC) = (AB)C$,  assuming consistent matrix dimensions - matrix multiplication is associative\n",
    "\n",
    "\n",
    "4. $A (cB) = c AB$,  for scalars $\\alpha$ - you can pull scalar factors out\n",
    "\n",
    "</div>"
   ]
  },
  {
   "cell_type": "markdown",
   "metadata": {},
   "source": [
    "<div class=\"optional\">\n",
    "\n",
    "## Code\n",
    "\n",
    "We can code this up quite easily.\n",
    "\n",
    "</div>"
   ]
  },
  {
   "cell_type": "code",
   "execution_count": 41,
   "metadata": {},
   "outputs": [],
   "source": [
    "def mat_mat_product(A, B):\n",
    "    \"\"\" Return the matrix matrix product AB\n",
    "    \"\"\"\n",
    "    m, n1 = np.shape(A)\n",
    "    n2, p = np.shape(B)\n",
    "    assert n1==n2 \n",
    "    C = np.zeros((m, p))\n",
    "    for i in range(m):\n",
    "        for j in range(p):\n",
    "            for k in range(n1):\n",
    "                C[i, j] += A[i, k] * B[k, j]\n",
    "    return C"
   ]
  },
  {
   "cell_type": "markdown",
   "metadata": {},
   "source": [
    "<div class=\"optional\">\n",
    "\n",
    "### Testing our code\n",
    "\n",
    "</div>"
   ]
  },
  {
   "cell_type": "code",
   "execution_count": 42,
   "metadata": {},
   "outputs": [
    {
     "name": "stdout",
     "output_type": "stream",
     "text": [
      "our code agree with @: True\n",
      "A(B+C)==AB+AC:  True\n",
      "A(alpha B)==alpha AB:  True\n",
      "AB==BA:  False\n"
     ]
    }
   ],
   "source": [
    "# define some random matrices\n",
    "m = 10\n",
    "n = 10\n",
    "p = 10\n",
    "A = np.random.random((m, n))\n",
    "B = np.random.random((n, p))\n",
    "C = np.random.random((n, p))\n",
    "alpha = np.random.random((1,))\n",
    "print('our code agree with @:', np.allclose(mat_mat_product(A, B), A@B))\n",
    "print('A(B+C)==AB+AC: ',np.allclose(mat_mat_product(A, (B + C)), mat_mat_product(A, B) + mat_mat_product(A, C)))\n",
    "print('A(alpha B)==alpha AB: ', np.allclose(mat_mat_product(A, alpha * B), alpha*mat_mat_product(A, B)))\n",
    "print('AB==BA: ',np.allclose(mat_mat_product(A, B), mat_mat_product(B, A)))"
   ]
  },
  {
   "cell_type": "code",
   "execution_count": 43,
   "metadata": {},
   "outputs": [
    {
     "name": "stdout",
     "output_type": "stream",
     "text": [
      "our code agree with @: True\n",
      "A(B+C)==AB+AC:  True\n",
      "A(alpha B)==alpha AB:  True\n"
     ]
    }
   ],
   "source": [
    "# define some random matrices\n",
    "m = 10\n",
    "n = 9\n",
    "p = 8\n",
    "A = np.random.random((m, n))\n",
    "B = np.random.random((n, p))\n",
    "C = np.random.random((n, p))\n",
    "alpha = np.random.random((1,))\n",
    "print('our code agree with @:', np.allclose(mat_mat_product(A, B), A@B))\n",
    "print('A(B+C)==AB+AC: ',np.allclose(mat_mat_product(A, (B + C)), mat_mat_product(A, B) + mat_mat_product(A, C)))\n",
    "print('A(alpha B)==alpha AB: ', np.allclose(mat_mat_product(A, alpha * B), alpha*mat_mat_product(A, B)))\n",
    "# print('AB==BA: ',np.allclose(mat_mat_product(A, B), mat_mat_product(B, A)))"
   ]
  },
  {
   "cell_type": "markdown",
   "metadata": {},
   "source": [
    "<div class=\"optional\">\n",
    "\n",
    "Of course $AB=BA$ certainly can't be true if $A$ and $B$ are not square matrices!\n",
    "\n",
    "When they are square only certain matrices have this property. Those that do are said to [commute](https://en.wikipedia.org/wiki/Commuting_matrices).\n",
    "\n",
    "</div>"
   ]
  },
  {
   "cell_type": "code",
   "execution_count": 44,
   "metadata": {},
   "outputs": [
    {
     "name": "stdout",
     "output_type": "stream",
     "text": [
      "[[1. 0.]\n",
      " [0. 1.]]\n",
      "[[1. 0.]\n",
      " [0. 1.]]\n"
     ]
    }
   ],
   "source": [
    "# For our linear system case from above, actually in solving the system we basically did enough work\n",
    "# to figure out what the inverse matrix is:\n",
    "A = np.array([[2, 3], [1, -4]])\n",
    "B = (-1./11)*np.array([[-4, -3], [-1, 2]])\n",
    "print(mat_mat_product(A,B))\n",
    "print(mat_mat_product(B,A))"
   ]
  },
  {
   "cell_type": "code",
   "execution_count": 45,
   "metadata": {},
   "outputs": [
    {
     "name": "stdout",
     "output_type": "stream",
     "text": [
      "[[0.631208 0.491703 0.524463]\n",
      " [0.276375 0.809053 0.775442]\n",
      " [0.403839 0.623041 0.605882]]\n",
      "[[1.211099 0.488264 0.180519]\n",
      " [0.62058  0.645698 0.610554]\n",
      " [0.517974 0.302327 0.189347]]\n",
      "A@B==B@A : False\n"
     ]
    }
   ],
   "source": [
    "# define some random matrices\n",
    "n = 3\n",
    "A = np.random.random((n, n))\n",
    "B = np.random.random((n, n))\n",
    "print(A@B)\n",
    "print(B@A)\n",
    "print(\"A@B==B@A :\",np.allclose(A@B,B@A))"
   ]
  },
  {
   "cell_type": "markdown",
   "metadata": {},
   "source": [
    "# Some linear algebra theory"
   ]
  },
  {
   "cell_type": "markdown",
   "metadata": {},
   "source": [
    "## The determinant (again)\n",
    "\n",
    "Let's return to the [*determinant*](https://en.wikipedia.org/wiki/Determinant). \n",
    "\n",
    "As said earlier, geometrically it gives the scaling of the volume of a shape under the linear transformation represented by the matrix,\n",
    "\n",
    "and it tells us whether or not an inverse matrix exits."
   ]
  },
  {
   "cell_type": "markdown",
   "metadata": {},
   "source": [
    "### Properties\n",
    "\n",
    "1. For square, equal size matrices $|AB| = |A|\\,|B|$\n",
    "\n",
    "\n",
    "2. $|A^T| = |A|$\n",
    "\n",
    "\n",
    "3. $|\\alpha A| = \\alpha^n |A|$, where $n$ is the dimension of the square matrix $A$\n",
    "\n",
    "\n",
    "4. If any row (or column) is made up of zero entries only, then the determinant of that matrix is zero\n",
    "\n",
    "\n",
    "5. [NB. Eigenvalues introduced next lecture] The determinant is equal to the product of the eigenvalues of the matrix (where we need to multiply multiple times if an eigenvalue has an algebraic multiplicity greater than one) - so a determinant of zero is equivalent to having at least one zero eigenvalue!\n",
    "\n",
    "\n",
    "6. For an upper or lower triangular matrix, the determinant is equal to the product of the main diagonal entries (as the eigenvalues in this case are the diagonal entries!)\n",
    "\n",
    "\n",
    "<br>\n",
    "\n",
    "Exercise: you can check that all of these seem to be true through considering some concrete examples."
   ]
  },
  {
   "cell_type": "markdown",
   "metadata": {},
   "source": [
    "<div class=\"optional\">\n",
    "\n",
    "### Full definition\n",
    "\n",
    "The general formula for computing the determinant of a square matrix can be built up incrementally (or recursively) based on matrix size as follows:\n",
    "\n",
    "\n",
    "1. For a $1 \\times 1$ matrix $A = a_{11}$ the determinant is defined simply as $|A| = a_{11}$\n",
    "\n",
    "<br>\n",
    "\n",
    "2. For a $2 \\times 2$ matrix \n",
    "\n",
    "$$A = \n",
    "\\begin{pmatrix}\n",
    "    a_{11} & a_{12}\\\\\n",
    "    a_{21} & a_{22}\n",
    "\\end{pmatrix}\n",
    "$$\n",
    "\n",
    "the determinant is defined as $|A| = a_{11}a_{22} - a_{12}a_{21}$\n",
    "\n",
    "where it helps for the following steps if you interpret these 4 scalars as the determinants of 4 $1\\times 1$ matrices.\n",
    "    \n",
    "</div>"
   ]
  },
  {
   "cell_type": "code",
   "execution_count": 47,
   "metadata": {},
   "outputs": [
    {
     "name": "stdout",
     "output_type": "stream",
     "text": [
      "det(A) =  0.0\n",
      "\n",
      "Marix A is singular:  True\n"
     ]
    }
   ],
   "source": [
    "# Let's check our maths!\n",
    "A = np.array([[2., 3.], [4., 6.]])\n",
    "print('det(A) = ', sl.det(A))\n",
    "print('\\nMarix A is singular: ', np.isclose(sl.det(A), 0.))"
   ]
  },
  {
   "cell_type": "markdown",
   "metadata": {},
   "source": [
    "<div class=\"optional\">\n",
    "\n",
    "3. For a $3 \\times 3$ matrix \n",
    "\n",
    "$$A = \n",
    "\\begin{pmatrix}\n",
    "    a_{11} & a_{12} & a_{13}\\\\\n",
    "    a_{21} & a_{22} & a_{23}\\\\\n",
    "    a_{31} & a_{32} & a_{33}\\\\\n",
    "\\end{pmatrix}\n",
    "$$\n",
    "\n",
    "the determinant can be computed as\n",
    "\n",
    "\n",
    "$$ |A| = \n",
    "a_{11}\n",
    "\\begin{vmatrix}\n",
    "    a_{22} & a_{23}\\\\\n",
    "    a_{32} & a_{33}\n",
    "\\end{vmatrix}\n",
    "- a_{12}\n",
    "\\begin{vmatrix}\n",
    "    a_{21} & a_{23}\\\\\n",
    "    a_{31} & a_{33}\n",
    "\\end{vmatrix}\n",
    "+ a_{13}\n",
    "\\begin{vmatrix}\n",
    "    a_{21} & a_{22}\\\\\n",
    "    a_{31} & a_{32}\n",
    "\\end{vmatrix}\n",
    "$$\n",
    "\n",
    "In this expression, the first term includes\n",
    "$$\n",
    "\\begin{vmatrix}\n",
    "    a_{22} & a_{23}\\\\\n",
    "    a_{32} & a_{33}\n",
    "\\end{vmatrix}\n",
    "$$ \n",
    "\n",
    "which is the determinant of the $2\\times 2$ matrix you get from $A$ if you omit the row and column in which the multiplier in front of this contribution (i.e. the first entry of the first row $a_{11}$) lies. \n",
    "\n",
    "The second term has a similar $2\\times 2$ determinant that comes from omitting the row and column in which the multiplier $a_{12}$ lies.  Note that we have a minus sign in front of this term.\n",
    "\n",
    "The third term is analogous, but now with a plus sign again. \n",
    "\n",
    "This is what is called the *(cofactor) expansion of the determinant from the first row*.  We get the same answer (and hence alternative computation methods that may involve less work if there are an excess of zeros on certain rows or columns!) but expanding using any row, or indeed any column.\n",
    "\n",
    "We just need to remember that the signs (pluses or minuses) in front of every term follow a chess-board pattern:\n",
    "\n",
    "$$\n",
    "\\begin{pmatrix}\n",
    "    + & - & + & \\cdots \\\\\n",
    "    - & + & - & \\cdots \\\\\n",
    "    + & - & + & \\cdots \\\\\n",
    "    \\vdots & \\vdots & \\vdots  & \\ddots\n",
    "\\end{pmatrix}\n",
    "$$\n",
    "\n",
    "We define the appropriately signed $2\\times 2$ determinant the [*cofactor*](https://en.wikipedia.org/wiki/Minor_(linear_algebra)) of the multiplier $a_{ij}$, and denote it by $C_{ij}$, e.g.\n",
    "\n",
    "$$C_{11} = \n",
    "\\begin{vmatrix}\n",
    "    a_{22} & a_{23}\\\\\n",
    "    a_{32} & a_{33}\n",
    "\\end{vmatrix}, \n",
    "\\quad\n",
    "C_{12} = -\n",
    "\\begin{vmatrix}\n",
    "    a_{21} & a_{23}\\\\\n",
    "    a_{31} & a_{33}\n",
    "\\end{vmatrix}\n",
    "$$\n",
    "\n",
    "[If you drop the sign and just keep the determinant, the quantity is called the [*minor*](https://en.wikipedia.org/wiki/Minor_(linear_algebra)#First_minors) sometimes denoted $M_{ij}$.]\n",
    "\n",
    "\n",
    "We can thus define the determinant in terms of an [expansion of cofactors](https://en.wikipedia.org/wiki/Minor_(linear_algebra)#Cofactor_expansion_of_the_determinant):\n",
    "\n",
    "$$|A| = a_{11} C_{11} + a_{12} C_{12} + a_{13} C_{13}$$ \n",
    "\n",
    "with alternative definitions of the determinant given by \n",
    "\n",
    "$$|A| = a_{31} C_{31} + a_{32} C_{32} + a_{33} C_{33}$$ \n",
    "\n",
    "or an example of expanding over a column\n",
    "\n",
    "$$|A| = a_{12} C_{12} + a_{22} C_{22} + a_{32} C_{32}$$ \n",
    "\n",
    "etc.\n",
    "\n",
    "</div>"
   ]
  },
  {
   "cell_type": "code",
   "execution_count": 48,
   "metadata": {},
   "outputs": [
    {
     "name": "stdout",
     "output_type": "stream",
     "text": [
      "A = \n",
      "[[0 1 0]\n",
      " [1 2 3]\n",
      " [4 5 6]]\n"
     ]
    }
   ],
   "source": [
    "# can you do this one in your head?\n",
    "A = np.array([[0, 1, 0], [1, 2, 3], [4, 5, 6]])\n",
    "print('A = ')\n",
    "print(A)"
   ]
  },
  {
   "cell_type": "code",
   "execution_count": 49,
   "metadata": {},
   "outputs": [
    {
     "name": "stdout",
     "output_type": "stream",
     "text": [
      "det(A) =  6.0\n"
     ]
    }
   ],
   "source": [
    "print('det(A) = ', sl.det(A))"
   ]
  },
  {
   "cell_type": "markdown",
   "metadata": {},
   "source": [
    "<div class=\"optional\">\n",
    "\n",
    "4. For an $n \\times n$ matrix \n",
    "\n",
    "**This gives us a general algorithm for computing the determinant of an arbitrary sized square matrix in terms of determinants of smaller matrices, each of which can themselves be computed in terms of determinants of even smaller matrices.** \n",
    "\n",
    "\n",
    "We can perform this expansion recursively, down to our above expression for the\n",
    "determinant of a $2\\times 2$ matrix, or indeed a $1\\times 1$ - note that the above general expression is consistent with our expression for the $2\\times 2$ case we wrote down explicitly above.\n",
    "\n",
    "\n",
    "The matrix of cofactors is the same size as $A$ and is called the *cofactor matrix*:\n",
    "\n",
    "$$C = \n",
    "\\begin{pmatrix}\n",
    "    C_{11} & C_{12} & \\cdots\\\\\n",
    "    C_{21} & C_{22} & \\cdots\\\\\n",
    "    \\vdots & \\vdots & \\ddots\\\\\n",
    "\\end{pmatrix}\n",
    "$$ \n",
    "\n",
    "and its transpose we call the adjugate or [*adjugate matrix*](https://en.wikipedia.org/wiki/Adjugate_matrix):\n",
    "\n",
    "$$\\text{adj}(A) = C^T$$\n",
    "\n",
    "\n",
    "<br>\n",
    "<br>\n",
    "    \n",
    "A **homework exercise** includes writing our own function to compute the determinant of a general matrix using the above recursive ideas.\n",
    "\n",
    "</div>"
   ]
  },
  {
   "cell_type": "markdown",
   "metadata": {},
   "source": [
    "## The inverse matrix\n",
    "\n",
    "The existence of an inverse to a matrix is equivalent to whether or not that matrix's determinant is zero or not.\n",
    "\n",
    "If the determinant is non-zero then it does have an inverse.\n",
    "\n",
    "As a $1\\times 1$ matrix is a scalar, defining its inverse is trivial."
   ]
  },
  {
   "cell_type": "markdown",
   "metadata": {},
   "source": [
    "### $2\\times 2$ case\n",
    "\n",
    "In the $2\\times 2$ case we can write down a simple formula for the inverse:\n",
    "\n",
    "For a matrix $A$ with entries\n",
    "\n",
    "$$A = \n",
    "\\begin{pmatrix}\n",
    "    a & b\\\\\n",
    "    c & d\n",
    "\\end{pmatrix}$$\n",
    "\n",
    "if $|A|\\ne 0$, i.e. $ad-bc\\ne 0$, then\n",
    "\n",
    "$$A^{-1} = \\frac{1}{|A|}\n",
    "\\begin{pmatrix}\n",
    "    d & -b\\\\\n",
    "    -c & a\n",
    "\\end{pmatrix}$$\n",
    "\n",
    "Deriving this expression is a homework exercise.\n",
    "\n",
    "Let's verify this with an example:"
   ]
  },
  {
   "cell_type": "code",
   "execution_count": 50,
   "metadata": {},
   "outputs": [
    {
     "name": "stdout",
     "output_type": "stream",
     "text": [
      "[[ 0.363636  0.272727]\n",
      " [ 0.090909 -0.181818]]\n",
      "[[1. 0.]\n",
      " [0. 1.]]\n",
      "[[1. 0.]\n",
      " [0. 1.]]\n"
     ]
    }
   ],
   "source": [
    "A = np.array([[2., 3.], [1., -4.]])\n",
    "a = A[0,0]\n",
    "b = A[0,1]\n",
    "c = A[1,0]\n",
    "d = A[1,1]\n",
    "B = (1./(a*d - b*c)) * np.array([[d, -b], [-c, a]])\n",
    "print(B)\n",
    "print(A@B)\n",
    "print(B@A)"
   ]
  },
  {
   "cell_type": "markdown",
   "metadata": {},
   "source": [
    "So for this example this formula does indeed give us a matrix $B$ such that \n",
    "$AB = BA = I$."
   ]
  },
  {
   "cell_type": "markdown",
   "metadata": {},
   "source": [
    "### $n\\times n$ case\n",
    "\n",
    "A general formula for the inverse of a square, invertible matrix is (<https://en.wikipedia.org/wiki/Invertible_matrix#Analytic_solution>):\n",
    "\n",
    "$$A^{-1} = \\frac{1}{|A|}\\text{adj}(A),$$\n",
    "\n",
    "\n",
    "where $\\text{adj}(A)$ is the adjugate matrix defined in the optional section above.\n",
    "\n",
    "Note that this is consistent with the $2 \\times 2$ case above.\n",
    "\n",
    "We will demonstrate/prove this in the section on \"Cramer's Rule\" below.  "
   ]
  },
  {
   "cell_type": "markdown",
   "metadata": {},
   "source": [
    "## Using SciPy to compute the inverse matrix\n",
    "\n",
    "A quick review of some useful SciPy/NumPy functions.\n",
    "\n",
    "Let's try a $3\\times 3$ example."
   ]
  },
  {
   "cell_type": "code",
   "execution_count": 53,
   "metadata": {},
   "outputs": [
    {
     "name": "stdout",
     "output_type": "stream",
     "text": [
      "[[ 0.1429 -0.0752  0.0226]\n",
      " [-0.2857  0.5188 -0.2556]\n",
      " [ 0.1429 -0.2857  0.2857]]\n",
      "\n",
      " [[ 0.1429 -0.0752  0.0226]\n",
      " [-0.2857  0.5188 -0.2556]\n",
      " [ 0.1429 -0.2857  0.2857]]\n",
      "133.00000000000003\n",
      "\n",
      " 133.0\n",
      "array([[ 1.0000e+00,  0.0000e+00,  0.0000e+00],\n",
      "       [-2.2204e-16,  1.0000e+00,  2.2204e-16],\n",
      "       [ 0.0000e+00, -2.2204e-16,  1.0000e+00]])\n",
      "\n",
      "\n",
      "array([[ 1.0000e+00,  0.0000e+00,  0.0000e+00],\n",
      "       [-2.2204e-16,  1.0000e+00,  2.2204e-16],\n",
      "       [ 0.0000e+00, -2.2204e-16,  1.0000e+00]])\n",
      "\n",
      " True\n",
      "array([[ 1.0000e+00,  0.0000e+00,  0.0000e+00],\n",
      "       [-2.2204e-16,  1.0000e+00,  2.2204e-16],\n",
      "       [ 0.0000e+00, -2.2204e-16,  1.0000e+00]])\n",
      "\n",
      "\n",
      "array([[ 1.0000e+00,  0.0000e+00,  0.0000e+00],\n",
      "       [-2.2204e-16,  1.0000e+00,  2.2204e-16],\n",
      "       [ 0.0000e+00, -2.2204e-16,  1.0000e+00]])\n",
      "\n",
      "\n",
      "array([[ 1.0000e+00,  0.0000e+00,  0.0000e+00],\n",
      "       [-2.2204e-16,  1.0000e+00,  2.2204e-16],\n",
      "       [ 0.0000e+00, -2.2204e-16,  1.0000e+00]])\n",
      "\n",
      "\n",
      "[[ 1.4286 -0.1504  0.0226]\n",
      " [-1.7143  2.594  -1.0226]\n",
      " [ 0.1429 -1.1429  2.    ]]\n"
     ]
    }
   ],
   "source": [
    "A = np.array([[10., 2., 1.],\n",
    "                 [6., 5., 4.],\n",
    "                 [1., 4., 7.]])\n",
    "\n",
    "# the inverse of the matrix A - computed using a scipy algorithm\n",
    "print(sl.inv(A))\n",
    "\n",
    "# or via numpy\n",
    "print('\\n', np.linalg.inv(A))\n",
    "\n",
    "# see https://docs.scipy.org/doc/scipy/reference/tutorial/linalg.html \n",
    "# for comments on scipy.linalg vs numpy.linalg\n",
    "sl.inv?\n",
    "\n",
    "# the determinant of the matrix A\n",
    "print(sl.det(A))\n",
    "\n",
    "# OR\n",
    "print('\\n', np.linalg.det(A))\n",
    "\n",
    "# it sometimes makes our life a bit easier if we don't always print out all \n",
    "# significant figures. We can do this in notebooks with \n",
    "%precision 4\n",
    "\n",
    "# Multiply A with its inverse using numpy's dot. Note that due to\n",
    "# roundoff errors the off diagonal values are not exactly zero.\n",
    "pprint(np.dot(A,sl.inv(A)))\n",
    "\n",
    "# print a blank line just to make output easier to read\n",
    "print('\\n')\n",
    "\n",
    "# check the result with the @ operator as well\n",
    "pprint(A @ sl.inv(A))\n",
    "\n",
    "# use allclose to confirm this is indeed the identity (to round-off)\n",
    "print('\\n', np.allclose(A @ sl.inv(A), np.eye(np.shape(A)[0])))\n",
    "\n",
    "\n",
    "# three ways to achieve the same thing\n",
    "pprint(np.dot(A,sl.inv(A)))\n",
    "print('\\n')\n",
    "pprint(A.dot(sl.inv(A)))\n",
    "print('\\n')\n",
    "pprint(A @ sl.inv(A))\n",
    "print('\\n')\n",
    "\n",
    "# and how not to do it: Since this is the element-wise operation\n",
    "print(A*sl.inv(A))\n",
    "# note that the * operator simply does operations \"element-wise\"\n",
    "# which is not the same thing as matrix-matrix multiplication\n",
    "# (so * in numpy is the same as \".*\" in matlab)"
   ]
  },
  {
   "cell_type": "markdown",
   "metadata": {},
   "source": [
    "We can ignore the very small numbers which are due to floating point round-off errors - `np.allclose` can be used to confirm that these are indeed the identity matrix."
   ]
  },
  {
   "cell_type": "markdown",
   "metadata": {},
   "source": [
    "## Singular matrices\n",
    "\n",
    "If $|A|=0$ then $A$ is termed a [*singular matrix*](http://mathworld.wolfram.com/SingularMatrix.html) and it does not have an inverse.\n"
   ]
  },
  {
   "cell_type": "code",
   "execution_count": 56,
   "metadata": {},
   "outputs": [
    {
     "name": "stdout",
     "output_type": "stream",
     "text": [
      "Marix A is singular:  True\n"
     ]
    }
   ],
   "source": [
    "# example from above\n",
    "A = np.array([[2., 3.], [4., 6.]])\n",
    "print('Marix A is singular: ', np.isclose(sl.det(A), 0.))"
   ]
  },
  {
   "cell_type": "markdown",
   "metadata": {},
   "source": [
    "What happens if we try to use SciPy to compute the inverse of a matrix with a zero (or very small) determinant?"
   ]
  },
  {
   "cell_type": "code",
   "execution_count": 57,
   "metadata": {
    "scrolled": true
   },
   "outputs": [],
   "source": [
    "# sl.inv(A) #No Inverse for singular matrix"
   ]
  },
  {
   "cell_type": "code",
   "execution_count": 58,
   "metadata": {},
   "outputs": [],
   "source": [
    "# np.linalg.inv(A)"
   ]
  },
  {
   "cell_type": "markdown",
   "metadata": {},
   "source": [
    "Remember - read the error message!"
   ]
  },
  {
   "cell_type": "markdown",
   "metadata": {},
   "source": [
    "## Solvability of linear systems\n",
    "\n",
    "If $\\det(A)=0$ ($A$ is singular) a linear system featuring the matrix $A$ with any RHS does **not** have a **unique** solution, it **may have either infinite *or* no solutions**.\n",
    "\n",
    "For example, consider\n",
    "\n",
    "$$\n",
    "\\left(\n",
    "  \\begin{array}{rr}\n",
    "    2 & 3 \\\\\n",
    "    4 & 6 \n",
    "  \\end{array}\n",
    "\\right)\\left(\n",
    "  \\begin{array}{c}\n",
    "    x \\\\\n",
    "    y\n",
    "  \\end{array}\n",
    "\\right) = \\left(\n",
    "  \\begin{array}{c}\n",
    "    4 \\\\\n",
    "    8\n",
    "  \\end{array}\n",
    "\\right),\n",
    "$$\n",
    "\n",
    "where the matrix on the LHS clearly has a zero determinant.\n",
    "\n",
    "Considering now the values in the RHS vector as well, the second equation is simply twice the first, and hence a solution to the first equation is also automatically a solution to the second equation.  In this case as the equations do not contradict one another we say that the equations are **consistent**.\n",
    "\n",
    "If we think geometrically, and interpret the two equations as constraints, they are **both** constraining our $x,y$ values to the same 1D subspace - any solution along this line in 2D satisfies **both** equations, and hence any of them is a solution to our linear system.\n",
    "\n",
    "We hence only have one *linearly-independent* equation here, and our problem is under-constrained: we effectively only have one equation for two unknowns and this problem has *infinitely many* possibly solutions (or said another way, we have *existence*, but *non-uniqueness*): e.g. $\\boldsymbol{x}=(2,0)^T$ is a solution, so is $\\boldsymbol{x}=(-1,2)^T$, etc.\n",
    "\n",
    "\n",
    "<br>\n",
    "\n",
    "If we instead replaced the RHS vector with $(4,7)^T$, then the two equations would now be contradictory: in this case we have *no solutions* (or *non-existence*).\n"
   ]
  },
  {
   "cell_type": "markdown",
   "metadata": {},
   "source": [
    "### Linear (in)dependence\n",
    "\n",
    "Note that a set of vectors where one can be written as a linear sum of the others are termed [***linearly-dependent***](https://en.wikipedia.org/wiki/Linear_independence). \n",
    "\n",
    "(As was the case for the rows and the columns in the example immediately above - the first row of $A$ is simply twice the second; the second column is $3/2$ times the first).\n",
    "\n",
    "<br>\n",
    "\n",
    "When this is **not** the case the vectors are termed [***linearly-independent***](https://en.wikipedia.org/wiki/Linear_independence).\n",
    "\n",
    "<br>\n",
    "\n",
    "When the rows are linearly dependent what can you conclude about the expected structure of the [***row echelon form***](https://en.wikipedia.org/wiki/Row_echelon_form) of the matrix? I.e. what do you expect to end up if you add and subtract multiples of rows to other rows in order to simplify the matrix? ............ [it's possible for us to obtain a row made up of all zeros!]\n"
   ]
  },
  {
   "cell_type": "markdown",
   "metadata": {},
   "source": [
    "### A basis for a vector space\n",
    "\n",
    "A <a href=\"https://en.wikipedia.org/wiki/Basis_(linear_algebra)\">*basis*</a> for a vector (or linear) space is a set of *linearly-independent* vectors such that every vector (or location) in the vector space is a linear combination of this set.\n",
    "\n",
    "<br>\n",
    "\n",
    "[This a [goldilocks](https://en.wikipedia.org/wiki/Goldilocks_and_the_Three_Bears) like definition - we have exactly the right number of vectors - too few and we can't reach every point in the space through their combination, and too many some will be redundant and the set of vectors will be linearly dependent.]\n",
    "\n",
    "<br>\n",
    "\n",
    "The number of vectors in this set is called the **dimension** of the vector space.\n",
    "\n",
    "For example, the unit vectors $\\,\\boldsymbol{i}$, $\\boldsymbol{j}$, $\\boldsymbol{k}\\,$ are linearly-independent and form a basis for the [three-dimensional space $\\mathbb{R}^3$](https://en.wikipedia.org/wiki/Three-dimensional_space). These unit vectors are defined as\n",
    "\n",
    "$$\\boldsymbol{i} = \\left(\n",
    "  \\begin{array}{c}\n",
    "    1 \\\\\n",
    "    0 \\\\\n",
    "    0     \n",
    "  \\end{array}\n",
    "\\right),\n",
    "\\;\\;\\;\\;\\;\\;\\;\\;\n",
    "\\boldsymbol{j} = \\left(\n",
    "  \\begin{array}{c}\n",
    "    0 \\\\\n",
    "    1 \\\\\n",
    "    0     \n",
    "  \\end{array}\n",
    "\\right),\n",
    "\\;\\;\\;\\;\\;\\;\\;\\;\n",
    "\\boldsymbol{k} = \\left(\n",
    "  \\begin{array}{c}\n",
    "    0 \\\\\n",
    "    0 \\\\\n",
    "    1     \n",
    "  \\end{array}\n",
    "\\right).\n",
    "$$\n",
    "\n",
    "By definition, these three vectors **forming a basis means that we can reach any point in $\\mathbb{R}^3$ through summing appropriate multiples of them**.\n",
    "\n",
    "These are the basis vectors which we commonly choose (as they're in some sense the simplest and cleanest choice), but clearly they are not unique - with any linearly independent set of three vectors we can reach any point in 3D space through their weighted summation - start thinking about these basis vectors being columns of a matrix forming a linear system!"
   ]
  },
  {
   "cell_type": "markdown",
   "metadata": {},
   "source": [
    "### An example | the geometrical interpretation of matrix vector multiplication\n",
    "\n",
    "Consider our $2\\times 2$ example from earlier\n",
    "\n",
    "\n",
    "$$\n",
    "\\begin{align*}\n",
    "  2x + 3y &= 7 \\\\[5pt]\n",
    "   x - 4y &= 3 \n",
    "\\end{align*}\n",
    "   \\quad \\iff \\quad\n",
    "  \\begin{pmatrix}\n",
    "    2 & 3 \\\\\n",
    "    1 & -4  \n",
    "  \\end{pmatrix}\n",
    "  \\begin{pmatrix}\n",
    "    x \\\\\n",
    "    y \n",
    "  \\end{pmatrix}=\n",
    "  \\begin{pmatrix}\n",
    "    7 \\\\\n",
    "    3 \n",
    "  \\end{pmatrix}   \n",
    "$$\n",
    "\n",
    "If we define two vectors given by the columns of the matrix, which we plot below in blue and red, \n",
    "\n",
    "along with the point $\\boldsymbol{b}$ we want to arrive at,\n",
    "\n",
    "\n",
    "we can then visualise the problem of solving the linear system as wanting to reach the black point through the appropriate weighted sum of the blue and red vectors.  Why is this?\n"
   ]
  },
  {
   "cell_type": "code",
   "execution_count": 59,
   "metadata": {},
   "outputs": [
    {
     "data": {
      "text/plain": [
       "<matplotlib.legend.Legend at 0x7f9a382769a0>"
      ]
     },
     "execution_count": 59,
     "metadata": {},
     "output_type": "execute_result"
    },
    {
     "data": {
      "image/png": "[encoded data removed]",
      "text/plain": [
       "<Figure size 432x432 with 1 Axes>"
      ]
     },
     "metadata": {
      "needs_background": "light"
     },
     "output_type": "display_data"
    }
   ],
   "source": [
    "fig = plt.figure(figsize=(6, 6))\n",
    "\n",
    "ax1 = fig.add_subplot(111)\n",
    "\n",
    "ax1.set_xlabel(\"$x$\", fontsize=14)\n",
    "ax1.set_ylabel(\"$y$\", fontsize=14)\n",
    "ax1.set_title('Position as a sum over matrix cols', fontsize=14)\n",
    "#ax1.grid(True)\n",
    "\n",
    "i = np.array([1,0])\n",
    "j = np.array([0,1])\n",
    "\n",
    "# plot the unit vectors\n",
    "ax1.quiver(i[0], i[1], angles='xy', scale_units='xy', scale=1, color='k')\n",
    "ax1.quiver(j[0], j[1], angles='xy', scale_units='xy', scale=1, color='k')\n",
    "\n",
    "ax1.set_xlim(-1,8)\n",
    "ax1.set_ylim(-5,5)\n",
    "\n",
    "A = np.array([[2, 3], [1, -4]])\n",
    "vec1 = A[:,0] # NB. This is the same as A*x\n",
    "vec2 = A[:,1] # NB. This is the same as A*y\n",
    "\n",
    "# plot them\n",
    "ax1.quiver(vec1[0], vec1[1], angles='xy', scale_units='xy', scale=1, color='b', width=0.02,  label='vec1')\n",
    "ax1.quiver(vec2[0], vec2[1], angles='xy', scale_units='xy', scale=1, color='r', width=0.02,  label='vec2')\n",
    "\n",
    "# add point b\n",
    "b = np.array([7., 3.])\n",
    "ax1.plot(b[0], b[1], 'ko',  label='${b}$')\n",
    "\n",
    "ax1.legend(loc='lower left', fontsize=14)"
   ]
  },
  {
   "cell_type": "markdown",
   "metadata": {},
   "source": [
    "As already stated, we know trivially how to write the position $\\boldsymbol{b}$ as a sum over the unit vectors $\\boldsymbol{i}$ and $\\boldsymbol{j}$ (the black vectors indicate the unit vectors $\\boldsymbol{i}$ and $\\boldsymbol{j}$ in the plot above):\n",
    "\n",
    "$$\\boldsymbol{b} = \n",
    "\\begin{pmatrix}\n",
    "b_1\\\\\n",
    "b_2\n",
    "\\end{pmatrix} =\n",
    "\\begin{pmatrix}\n",
    "b_1\\\\\n",
    "0\n",
    "\\end{pmatrix} +\n",
    "\\begin{pmatrix}\n",
    "0\\\\\n",
    "b_2\n",
    "\\end{pmatrix} =\n",
    "b_1\\begin{pmatrix}\n",
    "1\\\\\n",
    "0\n",
    "\\end{pmatrix} + b_2\n",
    "\\begin{pmatrix}\n",
    "0\\\\\n",
    "1\n",
    "\\end{pmatrix} =\n",
    "b_1 \\boldsymbol{i} + b_2\\boldsymbol{j}\n",
    "$$\n",
    "\n",
    "Finding the solution to our linear system is equivalent to asking how far along direction given by column one (blue vector), and then how far along the direction given by column two (the red vector), do I need to go to arrive at point $\\boldsymbol{b}$.\n",
    "\n",
    "This is exactly what the following interpretation of matrix-vector multiplication is telling us\n",
    "\n",
    "$$ A \\boldsymbol{x}=\\boldsymbol{b} \\quad \\iff \\quad\n",
    "\\begin{pmatrix}\n",
    "    b_1\\\\\n",
    "    b_2\\\\\n",
    "    \\vdots\\\\\n",
    "    b_m\n",
    "\\end{pmatrix}\n",
    "=\n",
    "\\begin{pmatrix}\n",
    "      &     &         &     \\\\\n",
    "      &     &         &     \\\\      \n",
    "  \\boldsymbol{a}_{\\,:1} & \\boldsymbol{a}_{\\,:2} &  \\ldots & \\boldsymbol{a}_{\\,:n} \\\\\n",
    "      &     &         &     \\\\\n",
    "      &     &         &     \n",
    "\\end{pmatrix}\n",
    "\\begin{pmatrix}\n",
    "    x_1\\\\\n",
    "    x_2\\\\\n",
    "    \\vdots\\\\\n",
    "    x_n\n",
    "\\end{pmatrix}\n",
    "=\n",
    "x_1 \n",
    "\\begin{pmatrix}\n",
    "       \\\\\n",
    "       \\\\\n",
    "   \\boldsymbol{a}_{\\,:1} \\\\\n",
    "       \\\\\n",
    "    ~   \n",
    "\\end{pmatrix}\n",
    "+\n",
    "x_2 \n",
    "\\begin{pmatrix}\n",
    "       \\\\\n",
    "       \\\\\n",
    "   \\boldsymbol{a}_{\\,:2} \\\\\n",
    "       \\\\\n",
    "    ~   \n",
    "\\end{pmatrix}\n",
    "+ \\cdots +\n",
    "x_n\n",
    "\\begin{pmatrix}\n",
    "       \\\\\n",
    "       \\\\\n",
    "   \\boldsymbol{a}_{\\,:n} \\\\\n",
    "       \\\\\n",
    "    ~   \n",
    "\\end{pmatrix}\n",
    "$$\n",
    "\n",
    "\n",
    "or in our case\n",
    "\n",
    "$$ \n",
    "\\begin{pmatrix}\n",
    "    7\\\\\n",
    "    3\n",
    "\\end{pmatrix}\n",
    "=\n",
    "\\begin{pmatrix}\n",
    "      2 & 3   \\\\\n",
    "     1  & -4    \n",
    "\\end{pmatrix}\n",
    "\\begin{pmatrix}\n",
    "    x_1\\\\\n",
    "    x_2\n",
    "\\end{pmatrix}\n",
    "=\n",
    "x_1 \n",
    "\\begin{pmatrix}\n",
    "       2 \\\\\n",
    "       1\n",
    "\\end{pmatrix}\n",
    "+\n",
    "x_2 \n",
    "\\begin{pmatrix}\n",
    "     3 \\\\\n",
    "     -4\n",
    "\\end{pmatrix}\n",
    "$$\n",
    "\n",
    "<br>\n",
    "\n",
    "We can use the solution $\\boldsymbol{x}$ we have already found (`x = np.array([37./11, 1./11])`) to emphasise this visually/geometrically: \n"
   ]
  },
  {
   "cell_type": "code",
   "execution_count": 60,
   "metadata": {
    "scrolled": false
   },
   "outputs": [
    {
     "data": {
      "text/plain": [
       "<matplotlib.quiver.Quiver at 0x7f9a49177d00>"
      ]
     },
     "execution_count": 60,
     "metadata": {},
     "output_type": "execute_result"
    },
    {
     "data": {
      "image/png": "[encoded data removed]",
      "text/plain": [
       "<Figure size 576x576 with 1 Axes>"
      ]
     },
     "metadata": {
      "needs_background": "light"
     },
     "output_type": "display_data"
    }
   ],
   "source": [
    "fig = plt.figure(figsize=(8, 8))\n",
    "\n",
    "ax1 = fig.add_subplot(111)\n",
    "\n",
    "ax1.set_xlabel(\"$x$\", fontsize=14)\n",
    "ax1.set_ylabel(\"$y$\", fontsize=14)\n",
    "ax1.set_title('Position as a sum over matrix cols', fontsize=14)\n",
    "#ax1.grid(True)\n",
    "\n",
    "i = np.array([1,0])\n",
    "j = np.array([0,1])\n",
    "\n",
    "# plot the unit vectors\n",
    "ax1.quiver(i[0], i[1], angles='xy', scale_units='xy', scale=1, color='k')\n",
    "ax1.quiver(j[0], j[1], angles='xy', scale_units='xy', scale=1, color='k')\n",
    "\n",
    "\n",
    "ax1.set_xlim(-1,8)\n",
    "ax1.set_ylim(-5,5)\n",
    "\n",
    "A = np.array([[2, 3], [1, -4]])\n",
    "vec1 = A[:,0] # NB. This is the same as A*x\n",
    "vec2 = A[:,1] # NB. This is the same as A*y\n",
    "\n",
    "# plot them\n",
    "ax1.quiver(vec1[0], vec1[1], angles='xy', scale_units='xy', scale=1, color='b', width=0.02,  label='vec1')\n",
    "ax1.quiver(vec2[0], vec2[1], angles='xy', scale_units='xy', scale=1, color='r', width=0.02,  label='vec2')\n",
    "\n",
    "# add point b\n",
    "b = np.array([7., 3.])\n",
    "ax1.plot(b[0], b[1], 'ko',  label='${b}$')\n",
    "\n",
    "ax1.legend(loc='lower left', fontsize=14)\n",
    "\n",
    "# Now move x_1 in the direction given by column one, followed by x_2 in the direction given by column 2\n",
    "# and add to the plot with thinner lines\n",
    "x = np.array([37./11, 1./11])\n",
    "ax1.quiver(x[0]*vec1[0], x[0]*vec1[1], angles='xy', scale_units='xy', scale=1, color='darkblue', width=0.005,  label='vec1')\n",
    "ax1.quiver(x[0]*vec1[0], x[0]*vec1[1],x[1]*vec2[0], x[1]*vec2[1], angles='xy', \n",
    "           scale_units='xy', scale=1, color='darkred', width=0.005,  label='vec2')"
   ]
  },
  {
   "cell_type": "markdown",
   "metadata": {},
   "source": [
    "So we need to take 37/11 multiplied by the blue arrow and add 1/11 multiplied by the red arrow to reach the black dot.\n",
    "\n",
    "[Note we don't say something like \"move 37/11 in the direction of the blue arrow, as we might with i,j,k, since these vectors are not normalised\"].\n",
    "\n",
    "Note that the columns are not orthogonal in this case, which we can demonstrate by:"
   ]
  },
  {
   "cell_type": "code",
   "execution_count": 61,
   "metadata": {},
   "outputs": [
    {
     "name": "stdout",
     "output_type": "stream",
     "text": [
      "2\n"
     ]
    }
   ],
   "source": [
    "print(vec1.dot(vec2))"
   ]
  },
  {
   "cell_type": "markdown",
   "metadata": {},
   "source": [
    "if they were orthogonal the answer should have been zero,\n",
    "\n",
    "but that's fine as we can still reach any position in 2D space from their weighted sum as long as they are linearly independent, i.e. in the 2D case as long as they don't point in the same direction."
   ]
  },
  {
   "cell_type": "markdown",
   "metadata": {},
   "source": [
    "### Solvability theory - some equivalent properties\n",
    "\n",
    "\n",
    "The following properties of a square $n\\times n$ matrix are equivalent:\n",
    "\n",
    "\n",
    "\n",
    "* $\\det(A)\\ne 0$, i.e. $A$ is non-singular.\n",
    "\n",
    "\n",
    "\n",
    "* The columns of $A$ are linearly independent.\n",
    "\n",
    "\n",
    "* The rows of $A$ are linearly independent.\n",
    "\n",
    "\n",
    "* The columns of $A$ [*span*](https://en.wikipedia.org/wiki/Linear_span) an $n$-dimensional space (this means that we can reach any point in $\\mathbb{R}^n$ through a linear combination of these vectors - recall we saw previously that this is simply what the operation $A\\boldsymbol{x}$ is doing if you write it out - the entries of $\\boldsymbol{x}$ are the weights in the linear combination - we wrote this out explicitly above.)  \n",
    "\n",
    "\n",
    "* [what this means is that for **any** given point in our space (described for example by a given $\\boldsymbol{b}$), we can reach that point through the appropriate summation of multiples of the columns of $A$, and its the $\\boldsymbol{x}$ solution vector that gives us these multiples - see example above.]\n",
    "\n",
    "\n",
    "* $A$ is invertible, i.e. there exists a matrix $A^{-1}$ such that $A^{-1}A = A A^{-1}=I$.\n",
    "\n",
    "\n",
    "* The matrix system $A\\boldsymbol{x}=\\boldsymbol{b}$ has a unique solution for every vector $\\boldsymbol{b}$.\n",
    "\n",
    "\n",
    "<br>\n",
    "\n",
    "For even more equivalent properties for square matrices see <https://en.wikipedia.org/wiki/Invertible_matrix#The_invertible_matrix_theorem>."
   ]
  },
  {
   "cell_type": "markdown",
   "metadata": {},
   "source": [
    "### Rank, range and null-Space\n",
    "\n",
    "Above we wrote for a square $n\\times n$ matrix, that being non-singular (and hence the linear system having a unique solution for any RHS vector) is equivalent to\n",
    "\n",
    "<br>\n",
    "\n",
    "* The columns of $A$ [*span*](https://en.wikipedia.org/wiki/Linear_span) an $n$-dimensional space (this means that we can reach any point in $\\mathbb{R}^n$ through a linear combination of these vectors - note that this is simply what the operation $A\\boldsymbol{x}$ is doing of course if you write it out - the entries of $\\boldsymbol{x}$ are the weights in the linear combination!)  \n",
    "\n",
    "<br>\n",
    "\n",
    "The columns of $A$ will always span an $r$-dimensional space, for some $r$, and assuming the matrix isn't the zero matrix $r \\ge 1$. \n",
    "\n",
    "What we're saying in the statement above is that *if the columns of $A$ span an $n$-dimensional space* (i.e. if $r=n$) then ... all the other properties in the previous cell hold.\n",
    "\n",
    "<br>\n",
    "\n",
    "#### Rank\n",
    "\n",
    "Let's explain a bit better what this means.\n",
    "\n",
    "The ***rank*** of an $n\\times n$ matrix $A$, written $\\text{rank}(A)$, is equal to the number of linearly independent columns that form it. It is also equal to the number of linearly independent rows that form it (as these two quantities, the column rank and the row rank can be proved to be equal). \n",
    "\n",
    "The matrix $A$ is said to have ***full rank*** if $\\text{rank}(A)=n$ and is said to be ***rank deficient*** if $\\text{rank}(A)<n)$ (in the square case - see below for the non-square case).\n",
    "\n",
    "\n",
    "<br>\n",
    "\n",
    "#### Range\n",
    "\n",
    "The ***range*** (sometimes the ***image***) of an $n\\times n$ matrix $A$, written $\\text{range}(A)$, is the *space spanned by the columns* of $A$ (so it's also sometimes also called the [***column space***](https://en.wikipedia.org/wiki/Row_and_column_spaces)), i.e. every point in that space can be reached through a linear combination of the columns of $A$, equivalently every point in the space can be written as $A\\boldsymbol{x}$ for some $\\boldsymbol{x}$. Said another way, the columns of $A$ provide a ***basis*** for $\\text{range}(A)$.\n",
    "\n",
    "This is telling us that if our matrix has full rank then we can reach ***any*** location in $\\mathbb{R}^n$ through a weighted sum of the columns, i.e. no matter what the RHS vector is (the point we want to reach after we multiply by $A$) the corresponding linear system always has a unique solution and hence the matrix has an inverse. \n",
    "\n",
    "<br>\n",
    "\n",
    "If the matrix does not have full rank (i.e. $r<n$), that means we cannot reach all point in $\\mathbb{R}^n$ through a weighted sum of the columns. \n",
    "\n",
    "We will have (**non-unique**) solutions as long as the RHS vector (the location we want to get to geometrically) is in the range of $A$, as we are able to reach some points (i.e. some RHS vectors) with a weighted sum of our columns. \n",
    "\n",
    "If our given RHS vector is not in the range of $A$ then we simply cannot reach it through the weighted summation of columns (this is the **non-existence** case).\n",
    "\n",
    "Note that the difference between the last two points is completely down to the RHS vector and is nothing to do with the entries of the matrix $A$.\n"
   ]
  },
  {
   "cell_type": "markdown",
   "metadata": {},
   "source": [
    "\n",
    "#### The null-space\n",
    "\n",
    "The ***null-space*** of the matrix $A$, written $\\text{null}(A)$, is the set of vectors $\\boldsymbol{x}$ that satisfy $A\\boldsymbol{x} = 0$.\n",
    "\n",
    "Why is the null-space important? Well for lots of reasons including: \n",
    "\n",
    "\n",
    "1. this is how we find eigenvectors (next lecture) \n",
    "    \n",
    "    \n",
    "    \n",
    "2. when solving a linear system $A\\boldsymbol{x}=\\boldsymbol{b}$, we can add any vector (or linear combination of vectors) from the null-space to a solution and get another solution, this will demonstrate non-uniqueness of solutions for this problem if the null-space contains anything other than the zero vector. \n",
    "\n",
    "\n",
    "Note that the null-space always contains the zero vector, we are not really interested in that solution, it's non-zero vectors that are important. Note if we have a non-zero vector in the null-space, then any scalar multiple of that vector will also be in the null space ($A\\boldsymbol{x}=\\boldsymbol{0}\\Rightarrow A(\\alpha\\boldsymbol{x})=\\alpha A \\boldsymbol{x}= \\boldsymbol{0}$).\n",
    "\n",
    "\n",
    "<br>\n",
    "\n",
    "#### The rank-nullity theorem\n",
    "\n",
    "A fundamental result for any matrix $A \\in \\mathbb{R}^{m\\times n}$, which maps vectors from $\\mathbb{R}^{n}$ into $\\mathbb{R}^{m}$, is the so-called [rank-nullity theorem](https://en.wikipedia.org/wiki/Rank%E2%80%93nullity_theorem).\n",
    "\n",
    "This states that the dimension of the span of the columns of $A$ (i.e. its rank) and the dimension of its null space (termed the nullity) must sum to $n$ - the number of columns:\n",
    "\n",
    "$$ \\text{rank}(A) + \\dim(\\text{null}(A)) = n$$\n",
    "\n",
    "This means that if you have worked out the rank you automatically know the dimension of the null space (and vice-versa), in particular if it contains any non-zero vectors $\\boldsymbol{x}$ such that $A\\boldsymbol{x}=\\boldsymbol{0}$.\n",
    "\n",
    "\n",
    "<br>\n",
    "<br>\n",
    "\n",
    "\n",
    "A homework exercise walks you through the calculation of the rank and the null space for a matrix.\n"
   ]
  },
  {
   "cell_type": "markdown",
   "metadata": {},
   "source": [
    "\n",
    "\n",
    "### Solving our simple example (again) \n",
    "\n",
    "Let's finish up by solving our simple $2\\times 2$ example again.\n",
    "\n",
    "In the following, as well as multiplying through by the inverse matrix obtained with `sl.inv`, we also demonstrate how to use a numerical linear algebra **solver** via `sl.solve` - this **solves the problem without actually forming the inverse**. "
   ]
  },
  {
   "cell_type": "code",
   "execution_count": 62,
   "metadata": {},
   "outputs": [
    {
     "name": "stdout",
     "output_type": "stream",
     "text": [
      "det(A) =  -11.0\n",
      "[3.3636 0.0909]\n",
      "[3.3636 0.0909]\n",
      "\n",
      "Our two numerical solutions agree:  True\n",
      "\n",
      "and sl.solve(A,b) agrees with the exact solution we computed by hand:  True\n"
     ]
    }
   ],
   "source": [
    "# form the LHS matrix\n",
    "A = np.array([[2., 3.], [1., -4.]])\n",
    "\n",
    "# check first whether the determinant of A is non-zero \n",
    "print('det(A) = ', sl.det(A))\n",
    "\n",
    "# form the RHS vector\n",
    "b = np.array([7., 3.])\n",
    "\n",
    "# compute A inverse and multiply by b (could also use np.linalg.inv(A) rather than sl.inv(A))\n",
    "print(sl.inv(A) @ b)\n",
    "\n",
    "# alternatively we can \"solve\" the linear system using SciPy \n",
    "# - actually this does the same thing as the line above but using \n",
    "# an \"LU decomposition\" of A.\n",
    "print(sl.solve(A,b))\n",
    "\n",
    "# Check our two numerical solutions using the numpy allclose function\n",
    "print('\\nOur two numerical solutions agree: ', np.allclose(sl.solve(A,b), sl.inv(A) @ b))\n",
    "# and check further that this agrees with the solution we computed by hand\n",
    "print('\\nand sl.solve(A,b) agrees with the exact solution we computed by hand: ', \n",
    "      np.allclose(sl.solve(A,b), [37./11., 1./11.]))"
   ]
  },
  {
   "cell_type": "code",
   "execution_count": 63,
   "metadata": {},
   "outputs": [
    {
     "name": "stdout",
     "output_type": "stream",
     "text": [
      "[3.3636363636363633 0.0909090909090909]\n",
      "[3.3636363636363638 0.0909090909090909]\n",
      "sl.solve(A,b) == sl.inv(A)@b: True\n",
      "sl.solve(A,b) == sl.inv(A)@b: False\n"
     ]
    }
   ],
   "source": [
    "# but let's just check the answers with lots of significant figures\n",
    "%precision 16\n",
    "A = np.array([[2., 3.], [1., -4.]])\n",
    "b = np.array([7., 3.])\n",
    "print(sl.inv(A)@b)\n",
    "print(sl.solve(A,b))\n",
    "\n",
    "# use a very tight tolerance to check equivalence\n",
    "print('sl.solve(A,b) == sl.inv(A)@b:', np.allclose(sl.solve(A,b), sl.inv(A)@b, \n",
    "                                                   rtol=0.0, atol=1e-15))\n",
    "# an even tighter tolerance\n",
    "print('sl.solve(A,b) == sl.inv(A)@b:', np.allclose(sl.solve(A,b), sl.inv(A)@b, \n",
    "                                                   rtol=0.0, atol=1e-16))"
   ]
  },
  {
   "cell_type": "markdown",
   "metadata": {},
   "source": [
    "So if we really look closely these two approaches do not yield identical results."
   ]
  },
  {
   "cell_type": "markdown",
   "metadata": {},
   "source": [
    "<div class=\"advanced\">\n",
    "\n",
    "# Cramer's rule [**]\n",
    "\n",
    "As stated above, a general formula for the inverse of a square, invertible matrix is \n",
    "\n",
    "$$A^{-1} = \\frac{1}{|A|}\\text{adj}(A)$$\n",
    "\n",
    "where the adjugate or [*adjugate matrix*](https://en.wikipedia.org/wiki/Adjugate_matrix) is\n",
    "\n",
    "$$\\text{adj}(A) = C^T$$\n",
    "\n",
    "where $C$ is the *cofactor matrix*:\n",
    "\n",
    "$$C = \n",
    "\\begin{pmatrix}\n",
    "    C_{11} & C_{12} & \\cdots\\\\\n",
    "    C_{21} & C_{22} & \\cdots\\\\\n",
    "    \\vdots & \\vdots & \\ddots\\\\\n",
    "\\end{pmatrix}\n",
    "$$ \n",
    "\n",
    "where $$C_{11} = \n",
    "\\begin{vmatrix}\n",
    "    a_{22} & a_{23}\\\\\n",
    "    a_{32} & a_{33}\n",
    "\\end{vmatrix}, \n",
    "\\quad\n",
    "C_{12} = -\n",
    "\\begin{vmatrix}\n",
    "    a_{21} & a_{23}\\\\\n",
    "    a_{31} & a_{33}\n",
    "\\end{vmatrix}\n",
    "$$\n",
    "\n",
    "etc.\n",
    "\n",
    "<\\div>"
   ]
  },
  {
   "cell_type": "markdown",
   "metadata": {},
   "source": [
    "<div class=\"advanced\">\n",
    "\n",
    "By establishing this result rigorously we can also derive a solution method for a corresponding linear system - called Cramer's Rule. Let's do this.\n",
    "\n",
    "For a given $n\\times n$ matrix $A$, consider the product with the cofactor matrix $C$ defined above:\n",
    "\n",
    "$$AC^T = \n",
    "\\begin{pmatrix}\n",
    "    a_{11} & a_{12} & \\cdots\\\\\n",
    "    a_{21} & a_{22} & \\cdots\\\\\n",
    "    \\vdots & \\vdots & \\ddots\\\\\n",
    "\\end{pmatrix}\n",
    "\\begin{pmatrix}\n",
    "    C_{11} & C_{12} & \\cdots\\\\\n",
    "    C_{21} & C_{22} & \\cdots\\\\\n",
    "    \\vdots & \\vdots & \\ddots\\\\\n",
    "\\end{pmatrix}^T= \n",
    "\\begin{pmatrix}\n",
    "    a_{11} & a_{12} & \\cdots\\\\\n",
    "    a_{21} & a_{22} & \\cdots\\\\\n",
    "    \\vdots & \\vdots & \\ddots\\\\\n",
    "\\end{pmatrix}\n",
    "\\begin{pmatrix}\n",
    "    C_{11} & C_{21} & \\cdots\\\\\n",
    "    C_{12} & C_{22} & \\cdots\\\\\n",
    "    \\vdots & \\vdots & \\ddots\\\\\n",
    "\\end{pmatrix}\n",
    "$$\n",
    "\n",
    "The result will be an $n\\times n$ matrix $[(AC^T)_{ij}]_{n\\times n}$.  Let's consider some of its entries:\n",
    "\n",
    "$$(AC^T)_{11} = a_{11} C_{11} + a_{12}C_{12} + \\ldots$$\n",
    "\n",
    "which we recognise as the formula for the determinant using the expansion over the first row.\n",
    "\n",
    "Similarly $(AC^T)_{22}$ is the determinant using the expansion over the second row, and so on - all the diagonal entries\n",
    "of this product turn out to be the determinant $|A|$.\n",
    "\n",
    "What about the off-diagonals? Let's consider one representative entry:\n",
    "\n",
    "$$(AC^T)_{12} = a_{11} C_{21} + a_{12}C_{22} + \\ldots$$\n",
    "\n",
    "where\n",
    "\n",
    "$$C_{21} = -\n",
    "\\begin{vmatrix}\n",
    "    a_{12} & a_{13} & a_{14} & \\cdots\\\\\n",
    "    a_{32} & a_{33} & a_{34} & \\cdots\\\\\n",
    "    a_{42} & a_{43} & a_{44} & \\cdots \\\\\n",
    "    \\vdots & \\vdots & \\vdots &\n",
    "\\end{vmatrix}\n",
    "$$\n",
    "\n",
    "$$C_{22} = +\n",
    "\\begin{vmatrix}\n",
    "    a_{11} & a_{13} & a_{14} & \\cdots\\\\\n",
    "    a_{31} & a_{33} & a_{34} & \\cdots\\\\\n",
    "    a_{41} & a_{34} & a_{44} & \\cdots \\\\\n",
    "    \\vdots & \\vdots & \\vdots &\n",
    "\\end{vmatrix}\n",
    "$$\n",
    "\n",
    "etc. \n",
    "\n",
    "So we have that\n",
    "\n",
    "$$ \n",
    "(AC^T)_{12} = \n",
    "-a_{11} \n",
    "\\begin{vmatrix}\n",
    "    a_{12} & a_{13} & a_{14} & \\cdots\\\\\n",
    "    a_{32} & a_{33} & a_{34} & \\cdots\\\\\n",
    "    a_{42} & a_{43} & a_{44} & \\cdots \\\\\n",
    "    \\vdots & \\vdots & \\vdots &\n",
    "\\end{vmatrix} + \n",
    "a_{12}\n",
    "\\begin{vmatrix}\n",
    "    a_{11} & a_{13} & a_{14} & \\cdots\\\\\n",
    "    a_{31} & a_{33} & a_{34} & \\cdots\\\\\n",
    "    a_{41} & a_{34} & a_{44} & \\cdots \\\\\n",
    "    \\vdots & \\vdots & \\vdots &\n",
    "\\end{vmatrix}\n",
    "+ \\ldots\n",
    "$$\n",
    "\n",
    "But notice that this is the determinant of the following matrix:\n",
    "\n",
    "$$(AC^T)_{12}=\n",
    "-\\begin{vmatrix}\n",
    "    a_{11} & a_{12} & a_{13} & \\cdots\\\\\n",
    "    a_{11} & a_{12} & a_{13} & \\cdots\\\\\n",
    "    a_{31} & a_{32} & a_{33} & \\cdots \\\\\n",
    "    a_{41} & a_{42} & a_{43} & \\cdots \\\\\n",
    "\\vdots & \\vdots & \\vdots &\n",
    "\\end{vmatrix}\n",
    "$$\n",
    "\n",
    "i.e. a matrix with a repeated row.  \n",
    "\n",
    "What do we know about matrices with repeated, i.e. non linearly independent rows - they have zero determinants. Hence this off-diagonal entry is zero. This argument can be repeated to show that every off-diagonals entry must be zero.\n",
    "\n",
    "</div>"
   ]
  },
  {
   "cell_type": "markdown",
   "metadata": {},
   "source": [
    "<div class=\"advanced\">\n",
    "\n",
    "If you don't quite follow this, let's look at the $2\\times 2$ example. In this case \n",
    "\n",
    "$$AC^T = \n",
    "\\begin{pmatrix}\n",
    "    a & b \\\\\n",
    "    c & d \n",
    "\\end{pmatrix}\n",
    "\\begin{pmatrix}\n",
    "    d & -c \\\\\n",
    "    -b & a\n",
    "\\end{pmatrix}^T= \n",
    "\\begin{pmatrix}\n",
    "    a & b  \\\\\n",
    "    c & d \n",
    "\\end{pmatrix}\n",
    "\\begin{pmatrix}\n",
    "    d & -b\\\\\n",
    "    -c & a\n",
    "\\end{pmatrix}\n",
    "$$\n",
    "\n",
    "So \n",
    "\n",
    "$$(AC^T)_{11} = ad - bc =|A|$$\n",
    "\n",
    "and \n",
    "\n",
    "$$(AC^T)_{12} = a_{11} C_{21} + a_{12}C_{22} = a(-b) + b(a) =  \n",
    "\\begin{vmatrix}\n",
    "a & b \\\\\n",
    "a & b\n",
    "\\end{vmatrix}\n",
    "=0$$\n",
    "\n",
    "as for the general case this is zero - the determinant of the matrix where we have replaced the second row with the first. \n",
    "\n",
    "</div>"
   ]
  },
  {
   "cell_type": "markdown",
   "metadata": {},
   "source": [
    "<div class=\"advanced\">\n",
    "\n",
    "Hence we have that \n",
    "\n",
    "$$ AC^T = |A| \\; I \\; \\implies \\; A \\left( \\frac{1}{|A|} C^T \\right) = I $$\n",
    "\n",
    "and so having divided through by an assumed non-zero scalar determinant we have constructed a \"right inverse\" to our matrix $A$.  \n",
    "\n",
    "\n",
    "A similar argument would show that we also have a left inverse, as $C^T A = |A|I$ - this time entries of $C^TA$ can be interpreted as the sum of cofactors multiplied by entries from a column of $A$. For the diagonals this is the determinant of $A$ (computed via a column expansion), and for off-diagonals the determinant of matrix with repeated columns, i.e. zero.\n",
    "\n",
    "Together this proves that we indeed have the inverse matrix:\n",
    "\n",
    "$$A^{-1}=\\frac{1}{|A|} C^T = \\frac{1}{|A|} \\text{adj}(A)$$\n",
    "\n",
    "</div>"
   ]
  },
  {
   "cell_type": "markdown",
   "metadata": {},
   "source": [
    "<div class=\"advanced\">\n",
    "\n",
    "Establishing that the above formula for the inverse is true points us to a method for computing the solution of the linear system, i.e.\n",
    "\n",
    "$$ A\\boldsymbol{x}=\\boldsymbol{b} \\implies \\boldsymbol{x} = A^{-1}\\boldsymbol{b} = \\frac{1}{|A|} C^T \\boldsymbol{b}, $$\n",
    "\n",
    "directly.\n",
    "\n",
    "Consider the first entry of our unknown, $x_1$. The above formula tells us that this is equal to one over the determinant of $A$, times the first row of $C^T$ multiplied by the column vector $\\boldsymbol{b}$:\n",
    "\n",
    "$$x_1 = \\frac{1}{|A|} \\left(C_{11}b_1 + C_{21}b_2 + \\ldots\\right)$$\n",
    "\n",
    "but, as above, the expansion of cofactors that appears here can be recognised as the determinant of a particular matrix, and thus an expression for the first entry of the solution vector is:\n",
    "\n",
    "$$x_1 = \\frac{1}{|A|} \n",
    "\\begin{vmatrix}\n",
    "b_1 & a_{12} & a_{13} & \\cdots \\\\\n",
    "b_2 & a_{22} & a_{23} & \\cdots \\\\\n",
    "b_3 & a_{32} & a_{33} & \\cdots \\\\\n",
    "\\vdots & \\vdots & \\vdots &\n",
    "\\end{vmatrix}\n",
    "$$\n",
    "\n",
    "Call the matrix that appears here $B_1$ (which is defined as $A$ but with the first column replaced by $\\boldsymbol{b}$).\n",
    "\n",
    "Define $B_j$ similarly as the matrix $A$ with the $j$-th column replaced by $\\boldsymbol{b}$:\n",
    "\n",
    "$$B_j = \n",
    "\\begin{pmatrix}\n",
    "      &     &         &   &&&&   \\\\\n",
    "  \\boldsymbol{a}_1 & \\boldsymbol{a}_2 &  \\ldots & \\boldsymbol{a}_{j-1} & \\boldsymbol{b} & \\boldsymbol{a}_{j+1}  & \\ldots & \\boldsymbol{a}_n \\\\\n",
    "      &     &         &   &&&&  \\\\\n",
    "      &     &         &   &&&&  \n",
    "\\end{pmatrix}\n",
    "$$\n",
    "\n",
    "Then as an extension of above we have\n",
    "\n",
    "$$x_j = \\frac{|B_j|}{|A|}, \\quad  1\\leq j \\leq n$$\n",
    "\n",
    "This solution method is called [Cramer's rule](https://en.wikipedia.org/wiki/Cramer%27s_rule), and a homework exercise asks you to implement this method in a function.\n",
    "\n",
    "</div>"
   ]
  },
  {
   "cell_type": "markdown",
   "metadata": {},
   "source": [
    "<div class=\"optional\">\n",
    "    \n",
    "# Geometric interpretation of linear transformations [* - assuming we have run out of time, please read through this section as we will pick up the next lecture from these ideas]\n",
    "\n",
    "If we consider a vector describing a position relative to the origin then we can interpret pre-multiplication of this vector by a matrix as a linear transformation applied to this position. \n",
    "\n",
    "Alternatively, in Euclidean 2D space consider two vectors describing a basis for that space (e.g. $\\boldsymbol{i}$ and $\\boldsymbol{j}$), then we can interpret pre-multiplication of these vectors by a matrix as a linear coordinate transformation. (And this is also true for any (finite) number of dimensions).\n",
    "\n",
    "Other words for transformation here include 'function' or 'map' - the action of applying it maps objects between spaces.\n",
    "\n",
    "Linear means that it does so in a manner that preserves the operations of addition and scalar multiplication: if $f(\\cdot)$ represents our transformation/mapping/function then mathematically this means that \n",
    "\n",
    "$$ f(\\boldsymbol{x}+\\boldsymbol{y}) =  f(\\boldsymbol{x}) + f(\\boldsymbol{y}) \n",
    "\\quad \\text{and}\\qquad \n",
    " f(\\alpha \\boldsymbol{x}) = \\alpha f(\\boldsymbol{x})\n",
    "$$\n",
    " \n",
    "for all objects $\\boldsymbol{x}$ in the space we're considering (e.g. Euclidean space), and all scalars $\\alpha$.\n",
    " \n",
    "In the finite dimensional case (e.g. Euclidean space, not function spaces), such a linear transformation is equivalent to multiplication by a matrix. If we map between spaces that are the same dimension then this matrix is square, non-square matrices given us mappings between spaces of different dimension (think different number of model inputs than model outputs - this case comes up in the module Inversion and Optimisation).\n",
    "\n",
    "</div>"
   ]
  },
  {
   "cell_type": "markdown",
   "metadata": {},
   "source": [
    "A few common examples in 2D are given in the cells/images below.\n",
    "\n",
    "For some additional examples see <https://en.wikipedia.org/wiki/Linear_map#Examples_of_linear_transformation_matrices>\n",
    "and <https://en.wikipedia.org/wiki/Transformation_matrix>.\n",
    "\n",
    "[Note that the examples below are all in 2D for ease of plotting/visualisation/thinking! These can all be extended to higher dimensions: parallelograms become [parallelepipeds](https://en.wikipedia.org/wiki/Parallelepiped) in 3D, ellipses become [ellipsoids](https://en.wikipedia.org/wiki/Ellipsoid) etc].\n",
    "\n",
    "For each of these tranformation we will check the statement we made above about the determinant:\n",
    "\"Geometrically it gives the scaling of the volume (area in 2D) of a shape under the linear transformation represented by the matrix.\"\n"
   ]
  },
  {
   "cell_type": "markdown",
   "metadata": {},
   "source": [
    "Firstly let's consider a point in a two dimensional space\n",
    "\n",
    "$$\\boldsymbol{p} = \n",
    "\\begin{pmatrix}\n",
    "p_1\\\\\n",
    "p_2\n",
    "\\end{pmatrix}\n",
    "$$ \n",
    "\n",
    "you can also think of this as a vector from the origin (you might write this as $\\;\\overrightarrow{op}\\;$ to avoid any ambiguities, with $o$ indicating the origin).\n",
    "\n",
    "Firstly consider what multiplication by a matrix $A$ does to this point's location, or equivalently the vector - i.e. let's compute a new point $\\boldsymbol{p}'=A\\boldsymbol{p}$ for a random matrix $A$ and plot it:"
   ]
  },
  {
   "cell_type": "code",
   "execution_count": 64,
   "metadata": {},
   "outputs": [
    {
     "data": {
      "text/plain": [
       "(-0.166, 3.4859999999999998, -0.11499999999999999, 2.415)"
      ]
     },
     "execution_count": 64,
     "metadata": {},
     "output_type": "execute_result"
    },
    {
     "data": {
      "image/png": "[encoded data removed]",
      "text/plain": [
       "<Figure size 432x432 with 1 Axes>"
      ]
     },
     "metadata": {
      "needs_background": "light"
     },
     "output_type": "display_data"
    }
   ],
   "source": [
    "fig = plt.figure(figsize=(6, 6))\n",
    "\n",
    "ax1 = fig.add_subplot(111)\n",
    "\n",
    "ax1.set_xlabel(\"$x, x'$\", fontsize=14)\n",
    "ax1.set_ylabel(\"$y, y'$\", fontsize=14)\n",
    "ax1.set_title('Transforming point', fontsize=14)\n",
    "#ax1.grid(True)\n",
    "\n",
    "# unit vectors\n",
    "i = np.array([1,0])\n",
    "j = np.array([0,1])\n",
    "\n",
    "# plot the vectors\n",
    "ax1.quiver(i[0], i[1], angles='xy', scale_units='xy', scale=1, color='k', zorder=10)\n",
    "ax1.quiver(j[0], j[1], angles='xy', scale_units='xy', scale=1, color='k', zorder=10)\n",
    "# add some text\n",
    "ax1.text(i[0]+0.1, i[1], '$i$', fontsize=12)\n",
    "ax1.text(j[0], j[1]+0.1, '$j$', fontsize=12)\n",
    "\n",
    "# a point p\n",
    "p = np.array([1.4, 2.3])\n",
    "\n",
    "# plot it\n",
    "ax1.plot(p[0],p[1],'bo')\n",
    "\n",
    "# add some text\n",
    "ax1.text(p[0],p[1]+0.1, '$p$', fontsize=12)\n",
    "\n",
    "# consider a random matrix\n",
    "A = np.array([[0.4,1.2],[-0.1,0.4]])\n",
    "\n",
    "# transform the point\n",
    "p_ = A@p\n",
    "\n",
    "# plot the transformed point\n",
    "ax1.plot(p_[0],p_[1],'ro')\n",
    "\n",
    "# add some text\n",
    "ax1.text(p_[0],p_[1]+0.1, \"$p'$\", fontsize=12)\n",
    "\n",
    "# make the axis lengths equal - so i and j are same size\n",
    "ax1.axis('equal')"
   ]
  },
  {
   "cell_type": "markdown",
   "metadata": {},
   "source": [
    "We can interpret what's happened here in terms of a coordinate transformation.\n",
    "\n",
    "Given the unit vectors which are the typical basis used for $\\mathbb{R}^2$\n",
    "\n",
    "\n",
    "$$\\boldsymbol{i} = \\left(\n",
    "  \\begin{array}{c}\n",
    "    1 \\\\\n",
    "    0     \n",
    "  \\end{array}\n",
    "\\right),\n",
    "\\;\\;\\;\\;\\;\\;\\;\\;\n",
    "\\boldsymbol{j} = \\left(\n",
    "  \\begin{array}{c}\n",
    "    0 \\\\\n",
    "    1\n",
    "  \\end{array}\n",
    "\\right),\n",
    "$$\n",
    "\n",
    "then of course we can write\n",
    "\n",
    "$$\\boldsymbol{p} = \n",
    "\\begin{pmatrix}\n",
    "p_1\\\\\n",
    "p_2\n",
    "\\end{pmatrix} = p_1 \\boldsymbol{i} + p_2 \\boldsymbol{j} \n",
    "$$\n",
    "\n",
    "the transformed point is then\n",
    "\n",
    "$$\\boldsymbol{p}' = A\\boldsymbol{p} = A(p_1 \\boldsymbol{i} + p_2 \\boldsymbol{j})\n",
    "= p_1 (A\\boldsymbol{i}) + p_2 (A\\boldsymbol{j})\n",
    "$$\n",
    "\n",
    "(by linearity of matrix multiplication).\n",
    "\n",
    "This emphasises that we can interpret multiplication by a matrix as a change of coordinates - our coordinate basis has been transformed from $(\\boldsymbol{i},\\boldsymbol{j})$ to $(A\\boldsymbol{i},A\\boldsymbol{j})$.\n",
    "\n",
    "Now in this case, due to the particularly simple/special form of the starting basis: $\\boldsymbol{i}$ and $\\boldsymbol{j}$, this new basis is made up of the columns of $A$!\n",
    "\n",
    "The transformation of a summation will then just be\n",
    "\n",
    "$$(\\boldsymbol{p}+\\boldsymbol{q})' = A(\\boldsymbol{p}+\\boldsymbol{q}) = A((p_1+q_1) \\boldsymbol{i} + (p_2+q_2) \\boldsymbol{j})\n",
    "= (p_1+q_1) (A\\boldsymbol{i}) + (p_2+q_2) (A\\boldsymbol{j})\n",
    "$$\n",
    "\n",
    "[A homework exercise asks you to plot a demonstration of this]\n",
    "\n",
    "and similar for a scalar multiple.\n"
   ]
  },
  {
   "cell_type": "markdown",
   "metadata": {},
   "source": [
    "## Some examples\n",
    "\n",
    "Let's plot a few simple examples of transformations/matrices"
   ]
  },
  {
   "cell_type": "code",
   "execution_count": 65,
   "metadata": {},
   "outputs": [
    {
     "data": {
      "text/plain": [
       "(-0.1, 2.1, -0.05, 1.05)"
      ]
     },
     "execution_count": 65,
     "metadata": {},
     "output_type": "execute_result"
    },
    {
     "data": {
      "image/png": "[encoded data removed]",
      "text/plain": [
       "<Figure size 432x432 with 1 Axes>"
      ]
     },
     "metadata": {
      "needs_background": "light"
     },
     "output_type": "display_data"
    }
   ],
   "source": [
    "from matplotlib.patches import Polygon\n",
    "\n",
    "fig = plt.figure(figsize=(6, 6))\n",
    "\n",
    "ax1 = fig.add_subplot(111)\n",
    "\n",
    "ax1.set_xlabel(\"$x, x'$\", fontsize=14)\n",
    "ax1.set_ylabel(\"$y, y'$\", fontsize=14)\n",
    "ax1.set_title('Linear transformation (shear)', fontsize=14)\n",
    "ax1.grid(True)\n",
    "\n",
    "i = np.array([1,0])\n",
    "j = np.array([0,1])\n",
    "\n",
    "# plot the vectors~\n",
    "ax1.quiver(i[0], i[1], angles='xy', scale_units='xy', scale=1, color='b', zorder=10)\n",
    "ax1.quiver(j[0], j[1], angles='xy', scale_units='xy', scale=1, color='b', zorder=10)\n",
    "# add a unit square image\n",
    "ij = np.column_stack([np.zeros(2,),i,i+j,j]) # don't need to add zero at end as we will assume closed polygons\n",
    "ax1.add_patch(Polygon( ij.T , facecolor='lightblue', alpha=0.7))\n",
    "\n",
    "A = np.array([[1,1],[0,1]])\n",
    "i_ = A@i\n",
    "j_ = A@j\n",
    "\n",
    "# and the vectors\n",
    "ax1.quiver(i_[0], i_[1], angles='xy', scale_units='xy', scale=1, color='r', zorder=10)\n",
    "ax1.quiver(j_[0], j_[1], angles='xy', scale_units='xy', scale=1, color='r', zorder=10)\n",
    "# plot how the square transforms\n",
    "ij_ = np.column_stack([np.zeros(2,),i_,i_+j_,j_]) # don't need to add zero at end as we will assume closed polygons\n",
    "ax1.add_patch(Polygon( ij_.T , facecolor='mistyrose', alpha=0.7))\n",
    "\n",
    "\n",
    "ax1.axis('equal')"
   ]
  },
  {
   "cell_type": "markdown",
   "metadata": {},
   "source": [
    "Additionally in this figure we have plotted in light blue the unit square of area 1 which is spanned by the two original unit vectors. Under the coordinate transform, as well as the unit vectors transforming into the red vectors, the light blue square transforms into the light red parallelogram.\n",
    "\n",
    "The area of a parallelogram is `base` $\\times$ `height`, but for this example this is just $1\\times 1$, i.e. the area has not changed under the transformation.\n",
    "\n",
    "Note also that the determinant of the matrix is given by\n",
    "\n",
    "$$\n",
    "\\begin{vmatrix}\n",
    "1 & 1\\\\\n",
    "0 & 1\n",
    "\\end{vmatrix} = 1\n",
    "$$\n",
    "\n",
    "and hence we have verified for this particular case the statement we made about the determinant: \"Geometrically it gives the scaling of the volume (area in 2D) of a shape under the linear transformation represented by the matrix.\"\n",
    "\n",
    "This is an example of shear <https://en.wikipedia.org/wiki/Shear_mapping>.\n",
    "\n",
    "Let's try another common example:"
   ]
  },
  {
   "cell_type": "code",
   "execution_count": 67,
   "metadata": {},
   "outputs": [
    {
     "data": {
      "text/plain": [
       "(-0.23233058655027686,\n",
       " 1.0586824088833464,\n",
       " -0.057922796533956926,\n",
       " 1.2163787272130953)"
      ]
     },
     "execution_count": 67,
     "metadata": {},
     "output_type": "execute_result"
    },
    {
     "data": {
      "image/png": "[encoded data removed]",
      "text/plain": [
       "<Figure size 432x432 with 1 Axes>"
      ]
     },
     "metadata": {
      "needs_background": "light"
     },
     "output_type": "display_data"
    }
   ],
   "source": [
    "fig = plt.figure(figsize=(6, 6))\n",
    "\n",
    "ax1 = fig.add_subplot(111)\n",
    "\n",
    "ax1.set_xlabel(\"$x, x'$\", fontsize=14)\n",
    "ax1.set_ylabel(\"$y, y'$\", fontsize=14)\n",
    "ax1.set_title('Linear transformation (rotation)', fontsize=14)\n",
    "ax1.grid(True)\n",
    "\n",
    "i = np.array([1,0])\n",
    "j = np.array([0,1])\n",
    "\n",
    "# plot the vectors\n",
    "ax1.quiver(i[0], i[1], angles='xy', scale_units='xy', scale=1, color='b', zorder=10)\n",
    "ax1.quiver(j[0], j[1], angles='xy', scale_units='xy', scale=1, color='b', zorder=10)\n",
    "# add a unit square image\n",
    "ij = np.column_stack([np.zeros(2,),i,i+j,j]) # don't need to add zero at end as we will assume closed polygons\n",
    "ax1.add_patch(Polygon( ij.T , facecolor='lightblue', alpha=0.7))\n",
    "\n",
    "theta = 10 *np.pi/180 # convert 10 degrees into radians\n",
    "A = np.array([[np.cos(theta),-np.sin(theta)],[np.sin(theta),np.cos(theta)]])\n",
    "i_ = A@i\n",
    "j_ = A@j\n",
    "\n",
    "\n",
    "# and the vectors\n",
    "ax1.quiver(i_[0], i_[1], angles='xy', scale_units='xy', scale=1, color='r', zorder=10)\n",
    "ax1.quiver(j_[0], j_[1], angles='xy', scale_units='xy', scale=1, color='r', zorder=10)\n",
    "# plot how the square transforms\n",
    "ij_ = np.column_stack([np.zeros(2,),i_,i_+j_,j_]) # don't need to add zero at end as we will assume closed polygons\n",
    "ax1.add_patch(Polygon( ij_.T , facecolor='mistyrose', alpha=0.7))\n",
    "\n",
    "ax1.axis('equal')"
   ]
  },
  {
   "cell_type": "markdown",
   "metadata": {},
   "source": [
    "In this case the matrix\n",
    "\n",
    "$$A = \n",
    "\\begin{pmatrix}\n",
    "\\cos(\\theta) & -\\sin(\\theta)\\\\\n",
    "\\sin(\\theta) & \\cos(\\theta)\n",
    "\\end{pmatrix}\n",
    "$$\n",
    "\n",
    "corresponds to a rotation in the **anti-clockwise direction** by the angle $\\theta$.  This is called a *rotation matrix*.\n",
    "\n",
    "\n",
    "1. Based upon the matrix (rather than the above image which tells you what the answer should be) what is the area of the red area compared to the blue?\n",
    "\n",
    "\n",
    "2. Are the transformed basis vectors orthonormal (unit length (normalised) and orthogonal to each other)? \n",
    "\n",
    "\n",
    "3. Consider a point $\\boldsymbol{p}$ and corresponding vector from the origin  $\\overrightarrow{op}$. Show that  $|\\overrightarrow{op}|$ = $|\\overrightarrow{op'}|$ where the latter is the length of the vector from the origin to the transformed point."
   ]
  },
  {
   "cell_type": "markdown",
   "metadata": {},
   "source": [
    "<div class=\"optional\">\n",
    "\n",
    "## A general transformation and the determinant again [\\*]\n",
    "\n",
    "Let's revert back to a general matrix \n",
    "\n",
    "$$\\begin{pmatrix}\n",
    "a & b \\\\\n",
    "c & d\n",
    "\\end{pmatrix}$$ \n",
    "\n",
    "and plot how the point\n",
    "\n",
    "$$\\boldsymbol{p} = \n",
    "\\begin{pmatrix}\n",
    "p_1\\\\\n",
    "p_2\n",
    "\\end{pmatrix} = p_1 \\boldsymbol{i} + p_2 \\boldsymbol{j} \n",
    "$$\n",
    "\n",
    "transforms:\n",
    "    \n",
    "</div>"
   ]
  },
  {
   "cell_type": "code",
   "execution_count": 66,
   "metadata": {},
   "outputs": [
    {
     "data": {
      "text/plain": [
       "(-0.2000000000000000, 2.5000000000000000)"
      ]
     },
     "execution_count": 66,
     "metadata": {},
     "output_type": "execute_result"
    },
    {
     "data": {
      "image/png": "[encoded data removed]",
      "text/plain": [
       "<Figure size 576x576 with 1 Axes>"
      ]
     },
     "metadata": {
      "needs_background": "light"
     },
     "output_type": "display_data"
    }
   ],
   "source": [
    "fig = plt.figure(figsize=(8, 8))\n",
    "\n",
    "ax1 = fig.add_subplot(111)\n",
    "\n",
    "ax1.set_xlabel(\"$x, x'$\", fontsize=14)\n",
    "ax1.set_ylabel(\"$y, y'$\", fontsize=14)\n",
    "ax1.set_title('Linear transformation (general)', fontsize=14)\n",
    "ax1.grid(True)\n",
    "\n",
    "# plot some larger axes for this image\n",
    "ax1.quiver(2,0, angles='xy', scale_units='xy', scale=1, color='k', zorder=10)\n",
    "ax1.quiver(0,2, angles='xy', scale_units='xy', scale=1, color='k', zorder=10)\n",
    "\n",
    "# basis functions\n",
    "i = np.array([1,0])\n",
    "j = np.array([0,1])\n",
    "\n",
    "# transform them\n",
    "A = np.array([[0.9,0.2],[0.6,1.1]])\n",
    "i_ = A@i\n",
    "j_ = A@j\n",
    "\n",
    "# plot how the square transforms\n",
    "ij_ = np.column_stack([np.zeros(2,),i_,i_+j_,j_]) # don't need to add zero at end as we will assume closed polygons\n",
    "ax1.add_patch(Polygon( ij_.T , facecolor='mistyrose', alpha=0.7))\n",
    "\n",
    "# some borders\n",
    "ax1.plot([0,i_[0]], [0,i_[1]], color='r', zorder=10)\n",
    "ax1.plot([0,j_[0]], [0,j_[1]], color='r', zorder=10)\n",
    "ax1.plot([i_[0],i_[0]+j_[0]], [i_[1],i_[1]+j_[1]], color='r', zorder=10)\n",
    "ax1.plot([j_[0],i_[0]+j_[0]], [j_[1],i_[1]+j_[1]], color='r', zorder=10)\n",
    "\n",
    "# add a point\n",
    "p = i+j\n",
    "\n",
    "# transform it\n",
    "p_ = A@p\n",
    "\n",
    "# plot the transformed point\n",
    "ax1.plot(p_[0],p_[1],'ro')\n",
    "\n",
    "# add some text\n",
    "ax1.text(p_[0],p_[1]+0.1, \"$p'=(a+b,c+d)^T$\", fontsize=12)\n",
    "ax1.text(i_[0]-0.3,i_[1]+0.01, \"$(a,c)^T$\", fontsize=12)\n",
    "ax1.text(j_[0]+0.025,j_[1]-0.1, \"$(b,d)^T$\", fontsize=12)\n",
    "\n",
    "ax1.set_xlim(-0.2,2.5)\n",
    "ax1.set_ylim(-0.2,2.5)\n"
   ]
  },
  {
   "cell_type": "markdown",
   "metadata": {},
   "source": [
    "<div class=\"optional\">\n",
    "    \n",
    "In this case under multiplication by $A$ the basis vectors transform as: \n",
    "\n",
    "$$\\boldsymbol{i} = \n",
    "\\begin{pmatrix}\n",
    "    1\\\\\n",
    "    0\n",
    "\\end{pmatrix}\n",
    "\\longrightarrow\n",
    "\\begin{pmatrix}\n",
    "    a\\\\\n",
    "    c\n",
    "\\end{pmatrix}=\n",
    "\\begin{pmatrix}\n",
    "    0.9\\\\\n",
    "    0.6\n",
    "\\end{pmatrix},\n",
    "\\quad\n",
    "\\boldsymbol{j} = \n",
    "\\begin{pmatrix}\n",
    "    0\\\\\n",
    "    1\n",
    "\\end{pmatrix}\n",
    "\\longrightarrow\n",
    "\\begin{pmatrix}\n",
    "    b\\\\\n",
    "    d\n",
    "\\end{pmatrix}=\n",
    "\\begin{pmatrix}\n",
    "    0.2\\\\\n",
    "    1.1\n",
    "\\end{pmatrix}\n",
    "$$\n",
    "\n",
    "What's the area of the resulting parallelogram ... it's the determinant. \n",
    "\n",
    "Let's confirm this after we first update the plot a little:\n",
    "    \n",
    "</div>"
   ]
  },
  {
   "cell_type": "code",
   "execution_count": 67,
   "metadata": {},
   "outputs": [
    {
     "data": {
      "text/plain": [
       "[<matplotlib.lines.Line2D at 0x7f9a491a48e0>]"
      ]
     },
     "execution_count": 67,
     "metadata": {},
     "output_type": "execute_result"
    },
    {
     "data": {
      "image/png": "[encoded data removed]",
      "text/plain": [
       "<Figure size 576x576 with 1 Axes>"
      ]
     },
     "metadata": {
      "needs_background": "light"
     },
     "output_type": "display_data"
    }
   ],
   "source": [
    "fig = plt.figure(figsize=(8, 8))\n",
    "\n",
    "ax1 = fig.add_subplot(111)\n",
    "\n",
    "ax1.set_xlabel(\"$x, x'$\", fontsize=14)\n",
    "ax1.set_ylabel(\"$y, y'$\", fontsize=14)\n",
    "ax1.set_title('Linear transformation (general)', fontsize=14)\n",
    "ax1.grid(True)\n",
    "\n",
    "# plot some larger axes for this image\n",
    "ax1.quiver(2,0, angles='xy', scale_units='xy', scale=1, color='k', zorder=10)\n",
    "ax1.quiver(0,2, angles='xy', scale_units='xy', scale=1, color='k', zorder=10)\n",
    "\n",
    "# basis functions\n",
    "i = np.array([1,0])\n",
    "j = np.array([0,1])\n",
    "\n",
    "# transform them\n",
    "A = np.array([[0.9,0.2],[0.6,1.1]])\n",
    "i_ = A@i\n",
    "j_ = A@j\n",
    "\n",
    "# plot how the square transforms\n",
    "ij_ = np.column_stack([np.zeros(2,),i_,i_+j_,j_]) # don't need to add zero at end as we will assume closed polygons\n",
    "ax1.add_patch(Polygon( ij_.T , facecolor='mistyrose', alpha=0.7))\n",
    "\n",
    "# some borders\n",
    "ax1.plot([0,i_[0]], [0,i_[1]], color='r', zorder=10)\n",
    "ax1.plot([0,j_[0]], [0,j_[1]], color='r', zorder=10)\n",
    "ax1.plot([i_[0],i_[0]+j_[0]], [i_[1],i_[1]+j_[1]], color='r', zorder=10)\n",
    "ax1.plot([j_[0],i_[0]+j_[0]], [j_[1],i_[1]+j_[1]], color='r', zorder=10)\n",
    "\n",
    "# add a point\n",
    "p = i+j\n",
    "\n",
    "# transform it\n",
    "p_ = A@p\n",
    "\n",
    "# plot the transformed point\n",
    "ax1.plot(p_[0],p_[1],'ro')\n",
    "\n",
    "# add some text\n",
    "ax1.text(p_[0],p_[1]+0.1, \"$p'=(a+b,c+d)^T$\", fontsize=12)\n",
    "ax1.text(i_[0]-0.3,i_[1]+0.01, \"$(a,c)^T$\", fontsize=12)\n",
    "ax1.text(j_[0]+0.025,j_[1]-0.1, \"$(b,d)^T$\", fontsize=12)\n",
    "\n",
    "ax1.set_xlim(-0.2,2.5)\n",
    "ax1.set_ylim(-0.2,2.5)\n",
    "\n",
    "# add some lines\n",
    "ax1.plot([0,p_[0]],[p_[1],p_[1]],'b',lw=1)\n",
    "ax1.plot([p_[0],p_[0]],[0,p_[1]],'b',lw=1)\n",
    "ax1.plot([i_[0],p_[0]],[i_[1],0],'b',lw=1)\n",
    "ax1.plot([j_[0],0],[j_[1],p_[1]],'b',lw=1)"
   ]
  },
  {
   "cell_type": "markdown",
   "metadata": {},
   "source": [
    "<div class=\"optional\">\n",
    "\n",
    "Using the following notation for the matrix entries\n",
    "\n",
    "$$A =\n",
    "\\begin{pmatrix}\n",
    "a & b\\\\\n",
    "c & d\n",
    "\\end{pmatrix}\n",
    "$$\n",
    "\n",
    "the area of red parallelogram in the image above can be computed as the area of the large blue square (which is $(a+b)\\times (c+d)$) minus the areas of the four outer triangles, each of which can be computed as half their base multiplied by their height (the latter of which is easy to read off for each triangle as the distance from one of the horizontal or vertical lines). In the formula below I've started at the \"Western\" triangle (which has area: $(c+d)b/2$) and proceeded clockwise.\n",
    "\n",
    "\\begin{align*}\n",
    "\\text{Volume} &\n",
    "= (a+b)(c+d) - \n",
    "\\frac{1}{2}\\left(\n",
    "(c+d)b + (a+b)c + (c+d)b + (a+b)c \n",
    "\\right)\\\\\n",
    "& = ac+ad+bc+bd- \n",
    "\\frac{1}{2}\\left(\n",
    "bc+bd+ac+bc+bc+bd+ac+bc\n",
    "\\right)\\\\\n",
    "& = ac+ad+bc+bd- \n",
    "\\frac{1}{2}\\left(\n",
    "4bc+2bd+2ac\n",
    "\\right)\\\\\n",
    "& = ac+ad+bc+bd- \n",
    "2bc-bd-ac\\\\\n",
    "&=ad-bc = |A|\n",
    "\\end{align*}\n",
    "\n",
    "This is not the only way to do this. Firstly we could have spotted that the area of the two top-left triangles is the same as the two bottom right by symmetry to simplify our calculation a bit. We could also have split each these up into one rectangle and two right-angled triangles.\n",
    "\n",
    "A homework exercise asks you to demonstrate the same thing using a [cross product](https://en.wikipedia.org/wiki/Cross_product).\n",
    "    \n",
    "</div>"
   ]
  },
  {
   "cell_type": "markdown",
   "metadata": {},
   "source": [
    "<div class=\"optional\">\n",
    "\n",
    "# An animation [*]\n",
    "\n",
    "With this knowledge we can create some interesting images/animations - a simple example now, a more exciting example displayed at the start is a homework exercise.\n",
    "\n",
    "For some pointers on generating animations see the discussions here:\n",
    "\n",
    "<https://jakevdp.github.io/blog/2012/08/18/matplotlib-animation-tutorial/>\n",
    "\n",
    "<https://matplotlib.org/api/_as_gen/matplotlib.animation.FuncAnimation.html>\n",
    "\n",
    "<https://matplotlib.org/3.1.1/gallery/animation/animated_histogram.html>\n",
    "\n",
    "<https://stackoverflow.com/questions/16037494/x-is-this-trailing-comma-the-comma-operator>\n",
    "\n",
    "</div>"
   ]
  },
  {
   "cell_type": "code",
   "execution_count": 68,
   "metadata": {
    "scrolled": false
   },
   "outputs": [
    {
     "ename": "RuntimeError",
     "evalue": "Requested MovieWriter (ffmpeg) not available",
     "output_type": "error",
     "traceback": [
      "\u001b[0;31m---------------------------------------------------------------------------\u001b[0m",
      "\u001b[0;31mRuntimeError\u001b[0m                              Traceback (most recent call last)",
      "\u001b[0;32m/var/folders/_z/2x9hsl9j0zj9120mnkznvdxc0000gp/T/ipykernel_92252/1544221705.py\u001b[0m in \u001b[0;36m<module>\u001b[0;34m\u001b[0m\n\u001b[1;32m     49\u001b[0m \u001b[0;31m# display in notebook\u001b[0m\u001b[0;34m\u001b[0m\u001b[0;34m\u001b[0m\u001b[0m\n\u001b[1;32m     50\u001b[0m \u001b[0;31m#HTML(anim.to_jshtml())\u001b[0m\u001b[0;34m\u001b[0m\u001b[0;34m\u001b[0m\u001b[0m\n\u001b[0;32m---> 51\u001b[0;31m \u001b[0mHTML\u001b[0m\u001b[0;34m(\u001b[0m\u001b[0manim\u001b[0m\u001b[0;34m.\u001b[0m\u001b[0mto_html5_video\u001b[0m\u001b[0;34m(\u001b[0m\u001b[0;34m)\u001b[0m\u001b[0;34m)\u001b[0m\u001b[0;34m\u001b[0m\u001b[0;34m\u001b[0m\u001b[0m\n\u001b[0m",
      "\u001b[0;32m~/opt/anaconda3/envs/Computational-Mathematics/lib/python3.9/site-packages/matplotlib/animation.py\u001b[0m in \u001b[0;36mto_html5_video\u001b[0;34m(self, embed_limit)\u001b[0m\n\u001b[1;32m   1346\u001b[0m                 \u001b[0;31m# We create a writer manually so that we can get the\u001b[0m\u001b[0;34m\u001b[0m\u001b[0;34m\u001b[0m\u001b[0m\n\u001b[1;32m   1347\u001b[0m                 \u001b[0;31m# appropriate size for the tag\u001b[0m\u001b[0;34m\u001b[0m\u001b[0;34m\u001b[0m\u001b[0m\n\u001b[0;32m-> 1348\u001b[0;31m                 \u001b[0mWriter\u001b[0m \u001b[0;34m=\u001b[0m \u001b[0mwriters\u001b[0m\u001b[0;34m[\u001b[0m\u001b[0mmpl\u001b[0m\u001b[0;34m.\u001b[0m\u001b[0mrcParams\u001b[0m\u001b[0;34m[\u001b[0m\u001b[0;34m'animation.writer'\u001b[0m\u001b[0;34m]\u001b[0m\u001b[0;34m]\u001b[0m\u001b[0;34m\u001b[0m\u001b[0;34m\u001b[0m\u001b[0m\n\u001b[0m\u001b[1;32m   1349\u001b[0m                 writer = Writer(codec='h264',\n\u001b[1;32m   1350\u001b[0m                                 \u001b[0mbitrate\u001b[0m\u001b[0;34m=\u001b[0m\u001b[0mmpl\u001b[0m\u001b[0;34m.\u001b[0m\u001b[0mrcParams\u001b[0m\u001b[0;34m[\u001b[0m\u001b[0;34m'animation.bitrate'\u001b[0m\u001b[0;34m]\u001b[0m\u001b[0;34m,\u001b[0m\u001b[0;34m\u001b[0m\u001b[0;34m\u001b[0m\u001b[0m\n",
      "\u001b[0;32m~/opt/anaconda3/envs/Computational-Mathematics/lib/python3.9/site-packages/matplotlib/animation.py\u001b[0m in \u001b[0;36m__getitem__\u001b[0;34m(self, name)\u001b[0m\n\u001b[1;32m    149\u001b[0m         \u001b[0;32mif\u001b[0m \u001b[0mself\u001b[0m\u001b[0;34m.\u001b[0m\u001b[0mis_available\u001b[0m\u001b[0;34m(\u001b[0m\u001b[0mname\u001b[0m\u001b[0;34m)\u001b[0m\u001b[0;34m:\u001b[0m\u001b[0;34m\u001b[0m\u001b[0;34m\u001b[0m\u001b[0m\n\u001b[1;32m    150\u001b[0m             \u001b[0;32mreturn\u001b[0m \u001b[0mself\u001b[0m\u001b[0;34m.\u001b[0m\u001b[0m_registered\u001b[0m\u001b[0;34m[\u001b[0m\u001b[0mname\u001b[0m\u001b[0;34m]\u001b[0m\u001b[0;34m\u001b[0m\u001b[0;34m\u001b[0m\u001b[0m\n\u001b[0;32m--> 151\u001b[0;31m         \u001b[0;32mraise\u001b[0m \u001b[0mRuntimeError\u001b[0m\u001b[0;34m(\u001b[0m\u001b[0;34mf\"Requested MovieWriter ({name}) not available\"\u001b[0m\u001b[0;34m)\u001b[0m\u001b[0;34m\u001b[0m\u001b[0;34m\u001b[0m\u001b[0m\n\u001b[0m\u001b[1;32m    152\u001b[0m \u001b[0;34m\u001b[0m\u001b[0m\n\u001b[1;32m    153\u001b[0m \u001b[0;34m\u001b[0m\u001b[0m\n",
      "\u001b[0;31mRuntimeError\u001b[0m: Requested MovieWriter (ffmpeg) not available"
     ]
    }
   ],
   "source": [
    "from matplotlib.path import Path\n",
    "from matplotlib.textpath import TextToPath\n",
    "from matplotlib.font_manager import FontProperties\n",
    "from matplotlib.patches import PathPatch\n",
    "import matplotlib.animation as animation\n",
    "from IPython.display import HTML\n",
    "\n",
    "# set up a figure and axes\n",
    "fig = plt.figure(figsize=(8, 8))\n",
    "ax1 = fig.add_subplot(111)\n",
    "ax1.set_xlabel(\"$x$\", fontsize=14)\n",
    "ax1.set_ylabel(\"$y$\", fontsize=14)\n",
    "ax1.set_title('Linear transformation', fontsize=14)\n",
    "ax1.set_xlim(-550, 550)\n",
    "ax1.set_ylim(-550, 550)\n",
    "\n",
    "# set-up the thing we're going to change in the animation\n",
    "fp = FontProperties(family='Arial', style='italic', weight='semibold')\n",
    "verts, codes = TextToPath().get_text_path(fp, \"ACSE / EDSML 2021\")\n",
    "# turn verts into a numpy array of size Nx2\n",
    "verts = np.array(verts)\n",
    "path = Path(verts, codes, closed=True)\n",
    "patch = PathPatch(path, facecolor='r', lw=2)\n",
    "ax1.add_patch(patch)\n",
    "plt.close()\n",
    "\n",
    "## initialization function\n",
    "def init():\n",
    "    return patch,\n",
    "      \n",
    "def animate(i, verts, n_frames):\n",
    "    theta = -2.*np.pi*i/n_frames # minus sign to rotate clockwise; rotate once\n",
    "    A = np.array([[np.cos(theta),-np.sin(theta)],[np.sin(theta),np.cos(theta)]]) # rotation matrix\n",
    "    verts = (A@(verts.T)).T  # make verts 2xN, then convert result back to Nx2 \n",
    "    verts = 0.5*verts # scale to fit in window nicely\n",
    "    # update the vertics that make up our PathPatch\n",
    "    patch.get_path().vertices = verts\n",
    "    return patch,\n",
    "\n",
    "n_frames = 20\n",
    "anim = animation.FuncAnimation(fig, animate, init_func=init, frames=np.arange(0, n_frames), \n",
    "                               fargs=(verts, n_frames),\n",
    "                               interval=100, blit=True)\n",
    "\n",
    "# save the animation as gif or mp4 if needed\n",
    "#anim.save('animations/logo.gif', writer='imagemagick')\n",
    "#anim.save('animations/logo.mp4', extra_args=['-vcodec', 'libx264'])\n",
    "\n",
    "# display in notebook\n",
    "#HTML(anim.to_jshtml())\n",
    "HTML(anim.to_html5_video())"
   ]
  },
  {
   "cell_type": "markdown",
   "metadata": {},
   "source": [
    "# Summary\n",
    "\n",
    "We have covered:\n",
    "\n",
    "\n",
    "- A reminder on linear algebra - matrices, vectors and arithmetic with them.\n",
    "\n",
    "\n",
    "- How to formulate and solve linear systems.\n",
    "\n",
    "\n",
    "- When linear systems have a unique solution ... determinant ... the inverse of a matrix, Cramer's rule.\n",
    "\n",
    "\n",
    "- Vector bases, linear independence, rank of a matrix etc, and how this links to the solution of linear systems.\n",
    "\n",
    "\n",
    "- Some geometrical interpretations of linear systems/transformations; the solvability of linear systems in terms of columns/vector basis."
   ]
  },
  {
   "cell_type": "markdown",
   "metadata": {},
   "source": [
    "## Next lecture\n",
    "\n",
    "We will move the linear algebra review on to eigenvalues and eigenvectors, more geometrical interpretations, and use of linear algebra in the analysis and solution of (systems of) ordinary differential equations (ODEs).\n"
   ]
  }
 ],
 "metadata": {
  "celltoolbar": "Slideshow",
  "kernelspec": {
   "display_name": "Python 3 (ipykernel)",
   "language": "python",
   "name": "python3"
  },
  "language_info": {
   "codemirror_mode": {
    "name": "ipython",
    "version": 3
   },
   "file_extension": ".py",
   "mimetype": "text/x-python",
   "name": "python",
   "nbconvert_exporter": "python",
   "pygments_lexer": "ipython3",
   "version": "3.9.7"
  },
  "latex_envs": {
   "LaTeX_envs_menu_present": true,
   "autoclose": true,
   "autocomplete": true,
   "bibliofile": "biblio.bib",
   "cite_by": "apalike",
   "current_citInitial": 1,
   "eqLabelWithNumbers": true,
   "eqNumInitial": 1,
   "hotkeys": {
    "equation": "Ctrl-E",
    "itemize": "Ctrl-I"
   },
   "labels_anchors": false,
   "latex_user_defs": false,
   "report_style_numbering": false,
   "user_envs_cfg": true
  },
  "toc": {
   "base_numbering": 1,
   "nav_menu": {},
   "number_sections": true,
   "sideBar": true,
   "skip_h1_title": false,
   "title_cell": "Table of Contents",
   "title_sidebar": "Contents",
   "toc_cell": true,
   "toc_position": {
    "height": "calc(100% - 180px)",
    "left": "10px",
    "top": "150px",
    "width": "197.197px"
   },
   "toc_section_display": true,
   "toc_window_display": false
  }
 },
 "nbformat": 4,
 "nbformat_minor": 1
}
