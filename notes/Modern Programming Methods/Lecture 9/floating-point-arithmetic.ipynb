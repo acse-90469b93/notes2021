{
 "cells": [
  {
   "cell_type": "code",
   "execution_count": 430,
   "id": "78a3a5b7",
   "metadata": {
    "slideshow": {
     "slide_type": "skip"
    }
   },
   "outputs": [],
   "source": [
    "import numpy as np\n",
    "import matplotlib.pyplot as plt\n",
    "import matplotlib.ticker as ticker\n",
    "\n",
    "def single_axis(figsize=(8, 0.5)):\n",
    "    fig, ax = plt.subplots(figsize=figsize)\n",
    "    ax.spines['right'].set_color('none')\n",
    "    ax.spines['left'].set_color('none')\n",
    "    ax.spines['top'].set_color('none')\n",
    "    ax.yaxis.set_major_locator(ticker.NullLocator())\n",
    "    ax.xaxis.set_major_locator(ticker.AutoLocator())\n",
    "    ax.xaxis.set_minor_locator(ticker.AutoMinorLocator())\n",
    "\n",
    "    return fig, ax"
   ]
  },
  {
   "cell_type": "markdown",
   "id": "39cc42dd",
   "metadata": {
    "slideshow": {
     "slide_type": "slide"
    }
   },
   "source": [
    "# Floating-point arithmetic\n",
    "\n",
    "* **Marijan Beg** and Navjot Kukreja \n",
    "* *Modern Programming Methods*, 25 October 2021"
   ]
  },
  {
   "cell_type": "markdown",
   "id": "2ac226e9",
   "metadata": {
    "slideshow": {
     "slide_type": "slide"
    }
   },
   "source": [
    "## How to find me?\n",
    "\n",
    "* Marijan Beg\n",
    "* email: m.beg@imperial.ac.uk\n",
    "* GitHub: `@marijanbeg`\n",
    "* MS Teams: `@Beg, Marijan`"
   ]
  },
  {
   "cell_type": "markdown",
   "id": "407439d8",
   "metadata": {
    "slideshow": {
     "slide_type": "slide"
    }
   },
   "source": [
    "## By the end of this lecture you should be able to:\n",
    "\n",
    "* represent numbers in different number systems;\n",
    "* read and write floating-point numbers according to IEEE-754 standard;\n",
    "* understand and calculate round-off errors;\n",
    "* apply \"Theorem on loss of precision\";\n",
    "* use different techniques to reduce the loss of precision by subtraction."
   ]
  },
  {
   "cell_type": "markdown",
   "id": "441be9d1",
   "metadata": {
    "cell_style": "center",
    "slideshow": {
     "slide_type": "slide"
    }
   },
   "source": [
    "## Representation of real numbers\n",
    "\n",
    "- Every real number $x \\in \\mathbb{R}$ is a **point** on the real axis."
   ]
  },
  {
   "cell_type": "code",
   "execution_count": 431,
   "id": "a5e2a580",
   "metadata": {
    "cell_style": "center",
    "slideshow": {
     "slide_type": "fragment"
    }
   },
   "outputs": [
    {
     "data": {
      "image/png": "[encoded data removed]",
      "text/plain": [
       "<Figure size 1440x72 with 1 Axes>"
      ]
     },
     "metadata": {
      "needs_background": "light"
     },
     "output_type": "display_data"
    }
   ],
   "source": [
    "fig, ax = single_axis(figsize=(20, 1))\n",
    "ax.set_xlim(-10, 10)\n",
    "ax.set_ylim(0, 0.1)\n",
    "ax.scatter(0.466, 0, s=200)\n",
    "plt.xlabel('$\\mathbb{R}$')\n",
    "plt.show()"
   ]
  },
  {
   "cell_type": "markdown",
   "id": "b8431dfb",
   "metadata": {
    "slideshow": {
     "slide_type": "fragment"
    }
   },
   "source": [
    "- How do we communicate them? How do we represent real numbers?"
   ]
  },
  {
   "cell_type": "markdown",
   "id": "c35d5bb7",
   "metadata": {
    "cell_style": "center",
    "slideshow": {
     "slide_type": "slide"
    }
   },
   "source": [
    "### Example: Decimal (base-10) representation\n",
    "\n",
    "- $x = 28\\,763.437$\n",
    "\n",
    "- Integer part:\n",
    "$$\n",
    "\\begin{split}\n",
    "28\\,763 & = 20\\,000 + 8\\,000 + 700 + 60 + 3 \\\\\n",
    "        & = 2 \\times 10^{4} + 8 \\times 10^{3} + 7 \\times 10^{2} + 6 \\times 10^{1} + 3 \\times 10^{0}\n",
    "\\end{split}\n",
    "$$\n",
    "\n",
    "- Fractional part:\n",
    "$$\n",
    "\\begin{split}\n",
    "0.437 & = \\frac{4}{10} + \\frac{3}{100} + \\frac{7}{1\\,000}\\\\\n",
    "      & = 4 \\times 10^{-1} + 3 \\times 10^{-2} + 7 \\times 10^{-3}\n",
    "\\end{split}\n",
    "$$"
   ]
  },
  {
   "cell_type": "code",
   "execution_count": 432,
   "id": "74e353c5",
   "metadata": {
    "slideshow": {
     "slide_type": "fragment"
    }
   },
   "outputs": [
    {
     "data": {
      "text/plain": [
       "28763.437"
      ]
     },
     "execution_count": 432,
     "metadata": {},
     "output_type": "execute_result"
    }
   ],
   "source": [
    "x = 28763.437\n",
    "x"
   ]
  },
  {
   "cell_type": "markdown",
   "id": "d45453b2",
   "metadata": {
    "slideshow": {
     "slide_type": "slide"
    }
   },
   "source": [
    "### General decimal (base-10) expression\n",
    "\n",
    "$$\n",
    "a_{n}a_{n-1}\\ldots a_1 a_0 \\, . \\, b_{1} b_{2} b_{3} \\ldots = \\sum_{i=0}^{n} a_{i} \\times 10^{i} + \\sum_{i=1}^{\\infty} b_{i} \\times 10^{-i}\n",
    "$$\n",
    "\n",
    "- $a_{i}, b_{i} \\in \\mathbb{Z}_{10} = \\{0, 1, 2, \\ldots, 9\\} \\quad (0 \\le a_{i}, b_{i} \\le 9)$\n",
    "\n",
    "| | |\n",
    "| - | - |\n",
    "| $a_{n}a_{n-1}\\ldots a_1 a_0$ | integer part |\n",
    "| $.$ | decimal point |\n",
    "| $b_{1} b_{2} b_{3} \\ldots$ | fractional part |"
   ]
  },
  {
   "cell_type": "markdown",
   "id": "9e13dacf",
   "metadata": {
    "slideshow": {
     "slide_type": "slide"
    }
   },
   "source": [
    "### Example: Binary (base-2) representation\n",
    "\n",
    "$$x = (1\\,011.101)_{2}$$\n",
    "\n",
    "- **Note:** We write $(1\\,011.101)_{2}$ to make sure we do not interpret the number as decimal (*one thousand and eleven point one zero one*)\n",
    "\n",
    "- Integer part:\n",
    "$$\n",
    "\\begin{split}\n",
    "(1\\,011)_{2} & = 1 \\times 2^{3} + 0 \\times 2^{2} + 1 \\times 2^{1} + 1 \\times 2^{0}\\\\\n",
    "             & = (11)_{10}\n",
    "\\end{split}\n",
    "$$\n",
    "\n",
    "- Fractional part:\n",
    "$$\n",
    "\\begin{split}\n",
    "(0.101)_{10} & = \\frac{1}{2} + \\frac{0}{4} + \\frac{1}{8}\\\\\n",
    "             & = 1 \\times 2^{-1} + 0 \\times 2^{-2} + 1 \\times 2^{-3}\\\\\n",
    "             & = (0.625)_{10}\n",
    "\\end{split}\n",
    "$$"
   ]
  },
  {
   "cell_type": "markdown",
   "id": "040337d1",
   "metadata": {
    "slideshow": {
     "slide_type": "slide"
    }
   },
   "source": [
    "How can we write binary numbers in Python?\n",
    "\n",
    "```python\n",
    "x = 0b1011.101\n",
    "x\n",
    "\n",
    "  File \"/var/folders/lr/hsg067s53m3bw35fmxmfyb680000gn/T/ipykernel_72996/2192814046.py\", line 1\n",
    "    x = 0b1011.101\n",
    "              ^\n",
    "SyntaxError: invalid syntax\n",
    "```\n",
    "\n",
    "We can write integers in binary format:"
   ]
  },
  {
   "cell_type": "code",
   "execution_count": 433,
   "id": "ef86d376",
   "metadata": {
    "slideshow": {
     "slide_type": "fragment"
    }
   },
   "outputs": [
    {
     "data": {
      "text/plain": [
       "11"
      ]
     },
     "execution_count": 433,
     "metadata": {},
     "output_type": "execute_result"
    }
   ],
   "source": [
    "x = 0b1011\n",
    "x  # we get decimal as the output"
   ]
  },
  {
   "cell_type": "markdown",
   "id": "8abcac08",
   "metadata": {
    "slideshow": {
     "slide_type": "slide"
    }
   },
   "source": [
    "### General binary (base-2) expression\n",
    "\n",
    "$$\n",
    "a_{n} a_{n-1}\\ldots a_1 a_0 \\, . \\, b_{1} b_{2} b_{3} \\ldots = \\sum_{i=0}^{n} a_{i} \\times 2^{i} + \\sum_{i=1}^{\\infty} b_{i} \\times 2^{-i}\n",
    "$$\n",
    "\n",
    "- $a_{i}, b_{i} \\in \\mathbb{Z}_{2} = \\{0, 1\\} \\quad (0 \\le a_{i}, b_{i} \\le 1)$\n",
    "\n",
    "| | |\n",
    "| - | - |\n",
    "| $a_{n} a_{n-1}\\ldots a_1 a_0$ | integer part |\n",
    "| $.$ | radix point |\n",
    "| $b_{1} b_{2} b_{3} \\ldots$ | fractional part |"
   ]
  },
  {
   "cell_type": "markdown",
   "id": "ea5cbfa2",
   "metadata": {
    "slideshow": {
     "slide_type": "slide"
    }
   },
   "source": [
    "## Exercise 1\n",
    "\n",
    "Write function `bin2dec(x2)` which takes a binary number $(x)_{2} = a_{n} a_{n-1}\\ldots a_1 a_0 \\, . \\, b_{1} b_{2} b_{3} \\ldots$ as a string (e.g. `'1011.101'`), computes its decimal equivalent $(x)_{10}$, and returns it as a float. Input string does not have to contain fractional part - radix point could be missing."
   ]
  },
  {
   "cell_type": "code",
   "execution_count": 434,
   "id": "f9509e80",
   "metadata": {
    "slideshow": {
     "slide_type": "fragment"
    }
   },
   "outputs": [],
   "source": [
    "# My solution\n",
    "# def bin2dec(x2):\n",
    "#     # Write your code here.\n",
    "#     string_list = x2.split('.')\n",
    "    \n",
    "#     if len(string_list) >1:\n",
    "#         integer_part = int(string_list[0],2) if string_list[0] != '' else 0\n",
    "#         fractional_part = int(string_list[1],2) / 2.**len(string_list[1])\n",
    "#     else:\n",
    "#         integer_part = int(string_list[0],2)\n",
    "#         fractional_part = 0\n",
    "        \n",
    "#     x10 = float(integer_part + fractional_part)\n",
    "#     return x10"
   ]
  },
  {
   "cell_type": "code",
   "execution_count": 435,
   "id": "3a53c9c6",
   "metadata": {},
   "outputs": [],
   "source": [
    "# Sample solution\n",
    "def bin2dec(x2): \n",
    "    if '.' in x2:\n",
    "        integer, frac = x2.split('.')\n",
    "    else:\n",
    "        integer = x2\n",
    "        frac = '0'\n",
    "\n",
    "    s = 0\n",
    "    counter = 0\n",
    "    i = sum(int(digit) * (2**i) for i,digit in enumerate(reversed(integer)))\n",
    "    f = sum(int(digit) * (2**-i) for i,digit in enumerate(frac,start=1))\n",
    "\n",
    "    return i + f"
   ]
  },
  {
   "cell_type": "code",
   "execution_count": 436,
   "id": "b02ac3f7",
   "metadata": {
    "slideshow": {
     "slide_type": "skip"
    }
   },
   "outputs": [],
   "source": [
    "assert bin2dec('110101') == 53\n",
    "assert abs(bin2dec('.01101') - 0.40625) < 1e-10\n",
    "assert abs(bin2dec('110101.01101') - 53.40625) < 1e-10"
   ]
  },
  {
   "cell_type": "markdown",
   "id": "fd6ae5af",
   "metadata": {
    "slideshow": {
     "slide_type": "slide"
    }
   },
   "source": [
    "### General base-$\\beta$ expression\n",
    "\n",
    "$$\n",
    "a_{n} a_{n-1}\\ldots a_1 a_0 \\, . \\, b_{1} b_{2} b_{3} \\ldots = \\sum_{i=0}^{n} a_{i} \\times \\beta^{i} + \\sum_{i=1}^{\\infty} b_{i} \\times \\beta^{-i}\n",
    "$$\n",
    "\n",
    "- $\\beta \\in \\{x \\in \\mathbb{N} | x > 1\\}$\n",
    "- $a_{i}, b_{i} \\in \\mathbb{Z}_{\\beta} = \\{0, \\ldots, \\beta-1\\}$\n",
    "\n",
    "| binary | decimal | octal | hexadecimal |\n",
    "| -- | - | - | - |\n",
    "| 1 | 1 | 1 | 1 |\n",
    "| $\\beta$ = 2 | $\\beta$ = 10 | $\\beta$ = 8 | $\\beta$ = 16 |\n",
    "\n",
    "- For $\\beta > 10$, we need additional symbols for $d_{i} > 9$. For instance, in hexadecimal: $0, 1, 2, \\ldots, 9, \\mathrm{a}=10, \\mathrm{b}=11, \\mathrm{c}=12, \\mathrm{d}=13, \\mathrm{e}=14, \\mathrm{f}=15$."
   ]
  },
  {
   "cell_type": "code",
   "execution_count": 437,
   "id": "b059e4f3",
   "metadata": {
    "slideshow": {
     "slide_type": "slide"
    }
   },
   "outputs": [
    {
     "data": {
      "text/plain": [
       "True"
      ]
     },
     "execution_count": 437,
     "metadata": {},
     "output_type": "execute_result"
    }
   ],
   "source": [
    "int('11111100101', base=2) == 0b11111100101 == 2021  # binary"
   ]
  },
  {
   "cell_type": "code",
   "execution_count": 438,
   "id": "cc61306f",
   "metadata": {
    "slideshow": {
     "slide_type": "fragment"
    }
   },
   "outputs": [
    {
     "data": {
      "text/plain": [
       "True"
      ]
     },
     "execution_count": 438,
     "metadata": {},
     "output_type": "execute_result"
    }
   ],
   "source": [
    "int('7e5', base=16) == 0x7e5 == 2021  # hexadecimal"
   ]
  },
  {
   "cell_type": "code",
   "execution_count": 439,
   "id": "0098c3c0",
   "metadata": {
    "slideshow": {
     "slide_type": "fragment"
    }
   },
   "outputs": [
    {
     "data": {
      "text/plain": [
       "True"
      ]
     },
     "execution_count": 439,
     "metadata": {},
     "output_type": "execute_result"
    }
   ],
   "source": [
    "int('3745', base=8) == 0o3745 == 2021  # octal"
   ]
  },
  {
   "cell_type": "markdown",
   "id": "84ff78fb",
   "metadata": {
    "slideshow": {
     "slide_type": "slide"
    }
   },
   "source": [
    "## Base conversion\n",
    "\n",
    "### Integer part\n",
    "\n",
    "- We can write an integer $x$ in nested polynomial form:\n",
    "\n",
    "$$\n",
    "\\begin{split}\n",
    "x &= (c_{n}c_{n-1} \\ldots c_{1}c_{0})_{\\beta} \\\\\n",
    "  &= \\sum_{i=0}^{n} c_{i} \\times \\beta^{i} \\\\\n",
    "  &= c_{0} + \\beta(c_{1} + \\beta (c_{2} + \\beta (\\ldots)))\n",
    "\\end{split}\n",
    "$$\n",
    "\n",
    "- Dividing $x$ by $\\beta$ results in remainder $c_{0}$ and quotient $c_{1} + \\beta (c_{2} + \\beta (\\ldots))$.\n",
    "- By repeating the division we obtain digits $c_{0}$, $c_{1}$, $c_{2}$, etc."
   ]
  },
  {
   "cell_type": "markdown",
   "id": "fa9ef5d7",
   "metadata": {
    "slideshow": {
     "slide_type": "slide"
    }
   },
   "source": [
    "### Fractional part\n",
    "\n",
    "- A real number $x < 1$ in base-$\\beta$ can be written as:\n",
    "$$\n",
    "\\begin{split}\n",
    "x &= \\sum_{i=1}^{\\infty}c_{i}\\beta^{-i} \\\\\n",
    "  &= (0.c_{1}c_{2}c_{3}\\ldots)_{\\beta}\n",
    "\\end{split}\n",
    "$$\n",
    "\n",
    "- If we multiply $x$ by $\\beta$, we get:\n",
    "$$\n",
    "\\beta x = (c_{1}.c_{2}c_{3}\\ldots)_{\\beta}\n",
    "$$\n",
    "\n",
    "- Digit $c_{1}$ we get by taking the integer part of $\\beta x$.\n",
    "- By repeating the multiplication by $\\beta$ we obtain all decimal digits (if the number has a finite representation) or until we obtain enough significant digits."
   ]
  },
  {
   "cell_type": "markdown",
   "id": "eec37913",
   "metadata": {
    "slideshow": {
     "slide_type": "slide"
    }
   },
   "source": [
    "## Exercise 2\n",
    "\n",
    "Write function `dec2bin(x10, ndigits=10)` which takes a decimal real number $(x)_{10}$ as a float, computes its binary representation, and returns it as a string $a_{n} a_{n-1}\\ldots a_1 a_0 \\, . \\, b_{1} b_{2} b_{3} \\ldots$. The fractional part should not contain more than `ndigits`. Input real number `x10` does not have to contain both integer and fractional part."
   ]
  },
  {
   "cell_type": "code",
   "execution_count": 440,
   "id": "a98985b7",
   "metadata": {
    "slideshow": {
     "slide_type": "fragment"
    }
   },
   "outputs": [],
   "source": [
    "def dec2bin(x10, ndigits=10):\n",
    "    integer = abs(int(x10))\n",
    "    frac = abs(x10) - integer\n",
    "        \n",
    "    x2 = ''\n",
    "    while integer >=1 :\n",
    "        remainder = int(integer)%2\n",
    "        integer = int(integer)/2\n",
    "        x2 += str(remainder)\n",
    "        \n",
    "    x2 = x2[::-1] if x10 >= 0 else '-'+x2[::-1]\n",
    "    \n",
    "    if frac != 0:\n",
    "        x2 += '.'\n",
    "\n",
    "        while ndigits:\n",
    "            frac *= 2\n",
    "            bit = int(frac)\n",
    "            if bit == 1:\n",
    "                x2 += '1'\n",
    "                frac -= 1\n",
    "            else:\n",
    "                x2 += '0'\n",
    "            ndigits -=1\n",
    "            \n",
    "    return x2"
   ]
  },
  {
   "cell_type": "code",
   "execution_count": 441,
   "id": "f7b0e39a",
   "metadata": {
    "slideshow": {
     "slide_type": "skip"
    }
   },
   "outputs": [],
   "source": [
    "assert dec2bin(118.61328125, ndigits=8) == '1110110.10011101'\n",
    "assert dec2bin(118) == '1110110'\n",
    "assert dec2bin(0.61328125, ndigits=8) == '.10011101'"
   ]
  },
  {
   "cell_type": "markdown",
   "id": "c28de8a2",
   "metadata": {
    "slideshow": {
     "slide_type": "slide"
    }
   },
   "source": [
    "## Octal $\\leftrightarrow{}$ binary\n",
    "\n",
    "| octal | binary | octal | binary |\n",
    "| - | - | - | - |\n",
    "| 0 | 000 | 1 | 001 |\n",
    "| 2 | 010 | 3 | 011 |\n",
    "| 4 | 100 | 5 | 101 |\n",
    "| 6 | 110 | 7 | 111 |\n",
    "\n",
    "- Groups of three binary digits can be converted to a single octal digit (and vice versa):\n",
    "\n",
    "$$\n",
    "(364.23)_{8} = (\\,011\\,110\\,100\\,.\\,010\\,011\\,)_{2}\n",
    "$$\n",
    "\n",
    "- Why?! Proof for a fractional part:\n",
    "\n",
    "$$\n",
    "\\begin{split}\n",
    "(0.b_{1}b_{2}b_{3}b_{4}b_{5}b_{6}\\ldots) & = b_{1}2^{-1} + b_{2}2^{-2} + b_{3}2^{-3} + b_{4}2^{-4} + b_{5}2^{-5} + b_{6}2^{-6} + \\ldots\\\\\n",
    "& = (b_{1}2^{2} + b_{2}2^{1} + b_{3}2^{0})8^{-1} + (b_{4}2^{2} + b_{5}2^{1} + b_{6}2^{0})8^{-2} + \\ldots\n",
    "\\end{split}\n",
    "$$\n",
    "\n",
    "- Because of the grouping, octal is often used as an intermediate step between binary-decimal conversion."
   ]
  },
  {
   "cell_type": "markdown",
   "id": "ea825e33",
   "metadata": {
    "slideshow": {
     "slide_type": "slide"
    }
   },
   "source": [
    "## Hexadecimal $\\leftrightarrow{}$ binary\n",
    "\n",
    "| hex | binary | hex | binary |\n",
    "| - | - | - | - |\n",
    "| 0 | 0000 | 1 | 0001 |\n",
    "| 2 | 0010 | 3 | 0011 |\n",
    "| 4 | 0100 | 5 | 0101 |\n",
    "| 6 | 0110 | 7 | 0111 |\n",
    "| 8 | 1000 | 9 | 1001 |\n",
    "| a | 1010 | b | 1011 |\n",
    "| c | 1100 | d | 1101 |\n",
    "| e | 1110 | f | 1111 |\n",
    "\n",
    "- Groups of four binary digits can be converted to a single hexadecimal digit (and vice versa):\n",
    "\n",
    "$$\n",
    "(\\textrm{a2f.b4})_{8} = (\\,1010\\,0010\\,1111\\,.\\,1011\\,0100\\,)_{2}\n",
    "$$"
   ]
  },
  {
   "cell_type": "markdown",
   "id": "e775836f",
   "metadata": {
    "slideshow": {
     "slide_type": "slide"
    }
   },
   "source": [
    "## Exercise 3\n",
    "\n",
    "Complete the following table\n",
    "\n",
    "| decimal | binary | hexadecimal | octal |\n",
    "| - | - | - | - |\n",
    "| 2.65 |10.1010011001 |2.a6 |2.514 |\n",
    "| 19.8125| 10011.1101 |13.d |23.64 |\n",
    "|244.76953125 |11110100.11000101 | f4.c5 |364.612 |\n"
   ]
  },
  {
   "cell_type": "code",
   "execution_count": 442,
   "id": "44ae5a43",
   "metadata": {
    "slideshow": {
     "slide_type": "skip"
    }
   },
   "outputs": [
    {
     "name": "stdout",
     "output_type": "stream",
     "text": [
      "10.101001100\n",
      "10.10100110\n",
      "0o2\n",
      "0o514\n",
      "0x2\n",
      "0xa6\n"
     ]
    }
   ],
   "source": [
    "# 2.65: b,h,o\n",
    "print(dec2bin(2.65 ,ndigits=9))\n",
    "print(dec2bin(2.65 ,ndigits=8))\n",
    "print(oct(0b10))\n",
    "print(oct(0b101001100))\n",
    "print(hex(0b10))\n",
    "print(hex(0b10100110))\n",
    "\n",
    "\n",
    "# 10011.1101: d,h,o\n",
    "# ...\n",
    "\n",
    "\n",
    "# f4.c5: d,b,o\n",
    "# hex_1 = str(bin(0xf4))[2:]\n",
    "# hex_2 = str(bin(0xc5))[2:]\n",
    "# hex_str = hex_1+'.'+hex_2\n",
    "# print(bin2dec(hex_str))\n",
    "# print(dec2bin(244.76953125 ,ndigits=9))\n",
    "# print(oct(0b11110100))\n",
    "# print(oct(0b110001010))"
   ]
  },
  {
   "cell_type": "markdown",
   "id": "031f50f2",
   "metadata": {
    "slideshow": {
     "slide_type": "slide"
    }
   },
   "source": [
    "## IEEE floating point standard (IEEE-754)"
   ]
  },
  {
   "cell_type": "markdown",
   "id": "81ca6553",
   "metadata": {
    "slideshow": {
     "slide_type": "slide"
    }
   },
   "source": [
    "Let us say we want to write the following constants into memory:\n",
    "* $e = 2.718281828459045\\ldots$\n",
    "* vacuum permeability: $\\mu_{0} = 4\\pi \\times 10^{-7} \\,\\mathrm{NA}^{-2}$\n",
    "* Planck's constant: $h = 6.626070040 \\times 10^{−34} \\,\\mathrm{Js}$"
   ]
  },
  {
   "cell_type": "code",
   "execution_count": 443,
   "id": "ccad47c4",
   "metadata": {
    "slideshow": {
     "slide_type": "slide"
    }
   },
   "outputs": [
    {
     "data": {
      "text/plain": [
       "'10.1011011111100001010100010110001010001010111011010010000000000000'"
      ]
     },
     "execution_count": 443,
     "metadata": {},
     "output_type": "execute_result"
    }
   ],
   "source": [
    "dec2bin(np.e, ndigits=64)"
   ]
  },
  {
   "cell_type": "code",
   "execution_count": 444,
   "id": "b7834e3d",
   "metadata": {
    "slideshow": {
     "slide_type": "fragment"
    }
   },
   "outputs": [
    {
     "data": {
      "text/plain": [
       "'.0000000000000000000101010001010100110111000011111001100111110110'"
      ]
     },
     "execution_count": 444,
     "metadata": {},
     "output_type": "execute_result"
    }
   ],
   "source": [
    "mu0 = 4 * np.pi * 1e-7  # N/A\n",
    "dec2bin(mu0, ndigits=64)"
   ]
  },
  {
   "cell_type": "code",
   "execution_count": 445,
   "id": "2b0c4697",
   "metadata": {
    "slideshow": {
     "slide_type": "fragment"
    }
   },
   "outputs": [
    {
     "data": {
      "text/plain": [
       "'.0000000000000000000000000000000000000000000000000000000000000000'"
      ]
     },
     "execution_count": 445,
     "metadata": {},
     "output_type": "execute_result"
    }
   ],
   "source": [
    "h = 6.626070040e-34  # Js\n",
    "dec2bin(h, ndigits=64)"
   ]
  },
  {
   "cell_type": "markdown",
   "id": "dc7b5504",
   "metadata": {
    "slideshow": {
     "slide_type": "slide"
    }
   },
   "source": [
    "### Scientific notation\n",
    "\n",
    "- We usually write integer part and fractional part together with a (decimal/radix) point in between.\n",
    "- On the other hand, we can also write:\n",
    "\n",
    "$$\n",
    "\\begin{split}\n",
    "37541.23 &= 37.54123 \\times 10^{3}\\\\ \n",
    "         &= 3.754123 \\times 10^{4}\\\\\n",
    "         &= 0.3754123 \\times 10^{5}\n",
    "\\end{split}\n",
    "$$\n",
    "\n",
    "- This representation is *not unique*."
   ]
  },
  {
   "cell_type": "markdown",
   "id": "11c94b1a",
   "metadata": {
    "slideshow": {
     "slide_type": "slide"
    }
   },
   "source": [
    "### Normalised scientific notation\n",
    "\n",
    "- To ensure uniqueness, we introduce normalised scientific notation:\n",
    "\n",
    "$$x = 0.d_{1}d_{2}d_{3}\\ldots \\times 10^{e}, \\quad d_{1} \\ne 0$$\n",
    "\n",
    "- Leading digit in the fractional part is not zero (except when the number is zero):\n",
    "\n",
    "$$37541.23 = 0.3754123 \\times 10^{5}$$\n",
    "\n",
    "$$0.009765 = 0.9765 \\times 10^{-2}$$"
   ]
  },
  {
   "cell_type": "markdown",
   "id": "ada37aef",
   "metadata": {
    "cell_style": "split",
    "slideshow": {
     "slide_type": "slide"
    }
   },
   "source": [
    "### Normalised scientific notation in decimal form\n",
    "\n",
    "Any $x \\in \\{x \\in \\mathbb{R} | x \\ne 0\\}$ can be written as:\n",
    "\n",
    "$$\n",
    "x = \\pm m \\times 10^{e}, \\quad \\frac{1}{10} \\le m < 1\n",
    "$$\n",
    "\n",
    "| label | name |\n",
    "| - | - |\n",
    "| $\\pm$ | sign\n",
    "| $m$ | mantissa |\n",
    "| $e$ | exponent |\n",
    "\n",
    "$$\n",
    "m = \\pm 0.d_{1}d_{2}d_{3}\\ldots, \\quad d_{1} \\ne 0, \\; d_{i} \\in \\mathbb{Z}_{10},\n",
    "$$"
   ]
  },
  {
   "cell_type": "markdown",
   "id": "a6a36486",
   "metadata": {
    "cell_style": "split",
    "slideshow": {
     "slide_type": "-"
    }
   },
   "source": [
    "### Normalised scientific notation in binary form\n",
    "\n",
    "Any $x \\in \\{x \\in \\mathbb{R} | x \\ne 0\\}$ can be written as:\n",
    "\n",
    "$$\n",
    "x = \\pm m \\times 2^{e}, \\quad \\frac{1}{2} \\le m < 1\n",
    "$$\n",
    "\n",
    "| label | name |\n",
    "| - | - |\n",
    "| $\\pm$ | sign\n",
    "| $m$ | mantissa |\n",
    "| $e$ | exponent |\n",
    "\n",
    "$$\n",
    "m = \\pm 0.b_{1}b_{2}b_{3}\\ldots, \\quad b_{1} = 1, \\; b_{i} \\in \\{0, 1\\}.\n",
    "$$"
   ]
  },
  {
   "cell_type": "markdown",
   "id": "5c8aa3f0",
   "metadata": {
    "slideshow": {
     "slide_type": "slide"
    }
   },
   "source": [
    "### Floating-point representation\n",
    "\n",
    "$$\n",
    "x = \\pm m \\times 2^{e}, \\quad \\frac{1}{2} \\le m < 1\n",
    "$$\n",
    "\n",
    "- We need to save the sign ($\\pm$), mantissa ($m$), and exponent ($e$) separatately.\n",
    "- Every computer has a finite word length\n",
    "    - We cannot exactly represent:\n",
    "        - irrational numbers, e.g. $\\pi$, $\\mathrm{e}$, ...,\n",
    "        - rational numbers that do not fit the finite form, e.g. $\\frac{1}{3}$.\n",
    "    - A disrete set of numbers that are exactly representable are called **machine numbers**.\n",
    "    - A number with a terminating expansion in one base might have a non-terminating expansion in another base, e.g.\n",
    "    \n",
    "    $$(0.1)_{10} = (0.0001100110011001100110011001100110011001100110011\\ldots)_{2}$$"
   ]
  },
  {
   "cell_type": "markdown",
   "id": "9e91f1e0",
   "metadata": {
    "slideshow": {
     "slide_type": "slide"
    }
   },
   "source": [
    "## Exercise 4\n",
    "\n",
    "Let us assume we have a machine that represents floating-point numbers using the following representation:\n",
    "\n",
    "$$x = \\pm(0.b_{1}b_{2}b_{3})_{2} \\times 2^{e}, \\quad b_{1}, b_{2}, b_{3}, e \\in \\{0, 1\\}$$\n",
    "\n",
    "1. How many machine numbers are there? What are they?\n",
    "2. How do the machine numbers change if we enforce normalisation?"
   ]
  },
  {
   "cell_type": "code",
   "execution_count": 446,
   "id": "ee45c9f1",
   "metadata": {
    "slideshow": {
     "slide_type": "skip"
    }
   },
   "outputs": [
    {
     "name": "stdout",
     "output_type": "stream",
     "text": [
      " machine numbers: [-0.0, -0.0, -0.125, -0.25, -0.25, -0.5, -0.375, -0.75, -0.5, -1.0, -0.625, -1.25, -0.75, -1.5, -0.875, -1.75, -0.0, -0.0, -0.125, -0.25, -0.25, -0.5, -0.375, -0.75, -0.5, -1.0, -0.625, -1.25, -0.75, -1.5, -0.875, -1.75]\n"
     ]
    }
   ],
   "source": [
    "import itertools\n",
    "\n",
    "def compute_decimal_bits(sign,b1,b2,b3,exp):\n",
    "    mantissa = b1 * 2 ** -1 + b2 * 2 ** -2 + b3 * 2 ** -3\n",
    "    return  -1** sign * mantissa * 2**exp\n",
    "\n",
    "machine_numbers = [compute_decimal_bits(*bits) for bits in itertools.product(*[(0,1) for _ in range(5)])]\n",
    "print(f' machine numbers: {machine_numbers}')\n",
    "\n",
    "# ?"
   ]
  },
  {
   "cell_type": "markdown",
   "id": "18dd11bf",
   "metadata": {
    "slideshow": {
     "slide_type": "slide"
    }
   },
   "source": [
    "- Larger numbers result in overflow.\n",
    "    - Overflow could be handled differently.\n",
    "- Smaller numbers result in underflow - commonly rounded to zero.\n",
    "- Most numbers cannot be represented exactly."
   ]
  },
  {
   "cell_type": "markdown",
   "id": "4ca2ea35",
   "metadata": {
    "slideshow": {
     "slide_type": "slide"
    }
   },
   "source": [
    "## IEEE-754\n",
    "\n",
    "- In early 1980s, IEEE (Institute of Electrical and Electronics Engineers) established floating-point standard (IEEE-754).\n",
    "- Before the standard, computer manufacturers developed their own floating-point number systems.\n",
    "    - There were inconsistencies in results between different machines.\n",
    "- There are three common levels of precison:\n",
    "\n",
    "| precision   | bits | sign | exponent | mantissa |\n",
    "| ----------- | ---- | ---- | -------- | -------- |\n",
    "| single      | 32   | 1    | 8        | 23       |\n",
    "| double      | 64   | 1    | 11       | 52       |\n",
    "| long double | 80   | 1    | 15       | 64       |\n",
    "\n",
    "- As computational scientists, we do not need to know all the details, but we need to understand it."
   ]
  },
  {
   "cell_type": "markdown",
   "id": "447b9313",
   "metadata": {
    "slideshow": {
     "slide_type": "slide"
    }
   },
   "source": [
    "### Single precision (32 bit)\n",
    "\n",
    "$$x = (-1)^{s} \\times 2^{e-127} \\times (1 + 0.f)_{2}$$\n",
    "\n",
    "- 1 bit for the sign $s$\n",
    "    - $s=0$ - postitive\n",
    "    - $s=1$ - negative\n",
    "    \n",
    "- 8 bits for the exponent $e$\n",
    "    - $0 < e < (11\\,111\\,111)_{2} = 255$ (values $0$ and $255$ are reserved for $\\pm 0$ and $\\pm \\infty$).\n",
    "    - We shift $e$ by 127 to allow representing values around zero:\n",
    "    $$-126 \\le e-127 \\le 127$$\n",
    "    \n",
    "    \n",
    "- 23 bits for the matissa (significand) $f$\n",
    "    - *one-plus form* ($1 + 0.f$) to ensure normalisation\n",
    "        - It actually corresponds to 24 bits because there is a **hidden bit**.\n",
    "    - Mantissa is limited by:\n",
    "    $$(1.00000000000000000000000)_{2} = 1 \\le (1.f)_{2} \\le (1.11111111111111111111111)_{2} = 2 - 2^{-23}$$\n",
    "    \n",
    "- Largest number: $(2-2^{-23}) \\times 2^{127} \\approx 2^{128} \\approx 3.4 \\times 10^{38}$\n",
    "- Smallest positive number: $1 \\times 2^{-126} \\approx 1.17 \\times 10^{-38}$"
   ]
  },
  {
   "cell_type": "markdown",
   "id": "ae805d85",
   "metadata": {
    "slideshow": {
     "slide_type": "slide"
    }
   },
   "source": [
    "### Machine $\\epsilon$, precision, and resolution\n",
    "\n",
    "- The number of real numbers $x$ we can represent is finite.\n",
    "- The floating-point machine number corresponding to $x$, we denote as $\\mathrm{fl}(x)$.\n",
    "- Machine $\\epsilon$ is the smallest number such that:\n",
    "$$\\mathrm{fl}(1 + \\epsilon) \\ne 1$$\n",
    "- For single precision, the machine $\\epsilon$ is:\n",
    "\n",
    "$$\\epsilon = (1.00000000000000000000001)_{2} - (1.00000000000000000000000)_{2} = 2^{-23} \\approx 1.19 \\times 10^{-7}$$\n",
    "\n",
    "- **Precision:** Because $\\epsilon = \\approx 1.19 \\times 10^{-7}$, we can rely on approximately 6 accurate decimal digits. We say that the precision is 6.\n",
    "$$\\pi_\\mathrm{single} = 3.14159$$\n",
    "- **Resolution:** Sometimes, instead of precision $p$, we show **resolution**: $10^{-p} = 10^{-6}$."
   ]
  },
  {
   "cell_type": "code",
   "execution_count": 447,
   "id": "d4526da0",
   "metadata": {
    "slideshow": {
     "slide_type": "slide"
    }
   },
   "outputs": [
    {
     "name": "stdout",
     "output_type": "stream",
     "text": [
      "Single precision float\n",
      "-------------------------\n",
      "Total size in bits: 32\n",
      "Bits in mantissa: 23\n",
      "Bits in exponent: 8\n",
      "Machine epsilon: 1.1920928955078125e-07\n",
      "Largest number: 3.4028234663852886e+38\n",
      "Smallest number: -3.4028234663852886e+38\n",
      "Smallest positive number: 1.1754943508222875e-38\n",
      "Precision: 6\n",
      "Resolution: 9.999999974752427e-07\n"
     ]
    }
   ],
   "source": [
    "import numpy as np\n",
    "\n",
    "single = np.finfo(np.float32)\n",
    "\n",
    "print(f'Single precision float')\n",
    "print(25*'-')\n",
    "print(f'Total size in bits: {single.bits}')\n",
    "print(f'Bits in mantissa: {single.nmant}')\n",
    "print(f'Bits in exponent: {single.nexp}')\n",
    "print(f'Machine epsilon: {single.eps}')\n",
    "print(f'Largest number: {single.max}')\n",
    "print(f'Smallest number: {single.min}')\n",
    "print(f'Smallest positive number: {single.tiny}')\n",
    "print(f'Precision: {single.precision}')\n",
    "print(f'Resolution: {single.resolution}')"
   ]
  },
  {
   "cell_type": "markdown",
   "id": "464801be",
   "metadata": {
    "slideshow": {
     "slide_type": "slide"
    }
   },
   "source": [
    "### Double precision (64 bit)\n",
    "\n",
    "$$x = (-1)^{s} \\times 2^{e-1023} \\times (1 + 0.f)_{2}$$\n",
    "\n",
    "- 1 bit for the sign $s$\n",
    "    - $s=0$ - postitive\n",
    "    - $s=1$ - negative\n",
    "    \n",
    "- 11 bits for the exponent $e$\n",
    "    - $0 < e < (11\\,111\\,111\\,111)_{2} = 2047$ (values $0$ and $2047$ are reserved for $\\pm 0$ and $\\pm \\infty$)\n",
    "    - $-1022 \\le e - 1023 \\le 1023$\n",
    " \n",
    "- 52 bits for mantissa $f$\n",
    "    - *one-plus form* ($1 + 0.f$) to ensure normalisation\n",
    "        - It actually corresponds to 53 bits because there is a **hidden bit**.\n",
    "    - Mantissa is limited by:\n",
    "    $$(1.00\\ldots 00)_{2} = 1 \\le (1.f)_{2} \\le (1.11\\ldots 11)_{2} = 2 - 2^{-52}$$\n",
    "\n",
    "- Largest number: $(2 - 2^{-52}) \\times 2^{1023} \\approx 2^{1024} \\approx 1.8 \\times 10^{308}$\n",
    "- Smallest positive number: $1 \\times 2^{-1022} \\approx 2.2 \\times 10^{-308}$"
   ]
  },
  {
   "cell_type": "markdown",
   "id": "60bcfbde",
   "metadata": {
    "slideshow": {
     "slide_type": "slide"
    }
   },
   "source": [
    "### Double precision: machine $\\epsilon$, precision, and resolution\n",
    "\n",
    "- Machine $\\epsilon$:\n",
    "\n",
    "$$\\epsilon = 2^{-52} \\approx 2.22 \\times 10^{-16}$$\n",
    "\n",
    "- Precision: We can rely on approximately 15 accurate decimal digits.\n",
    "$$\\pi_\\mathrm{double} = 3.14159265358979$$\n",
    "- Resolution: $10^{-p} = 10^{-15}$."
   ]
  },
  {
   "cell_type": "code",
   "execution_count": 448,
   "id": "dc1f3084",
   "metadata": {
    "slideshow": {
     "slide_type": "slide"
    }
   },
   "outputs": [
    {
     "name": "stdout",
     "output_type": "stream",
     "text": [
      "Single precision float\n",
      "-------------------------\n",
      "Total size in bits: 64\n",
      "Bits in mantissa: 52\n",
      "Bits in exponent: 11\n",
      "Machine epsilon: 2.220446049250313e-16\n",
      "Largest number: 1.7976931348623157e+308\n",
      "Smallest number: -1.7976931348623157e+308\n",
      "Smallest positive number: 2.2250738585072014e-308\n",
      "Precision: 15\n",
      "Resolution: 1e-15\n"
     ]
    }
   ],
   "source": [
    "double = np.finfo(np.float64)\n",
    "\n",
    "print(f'Single precision float')\n",
    "print(25*'-')\n",
    "print(f'Total size in bits: {double.bits}')\n",
    "print(f'Bits in mantissa: {double.nmant}')\n",
    "print(f'Bits in exponent: {double.nexp}')\n",
    "print(f'Machine epsilon: {double.eps}')\n",
    "print(f'Largest number: {double.max}')\n",
    "print(f'Smallest number: {double.min}')\n",
    "print(f'Smallest positive number: {double.tiny}')\n",
    "print(f'Precision: {double.precision}')\n",
    "print(f'Resolution: {double.resolution}')"
   ]
  },
  {
   "cell_type": "markdown",
   "id": "52f8cfbb",
   "metadata": {
    "slideshow": {
     "slide_type": "slide"
    }
   },
   "source": [
    "## Exercise 5\n",
    "\n",
    "Determine machine representation of the decimal number -24.98746 in both single and double precision."
   ]
  },
  {
   "cell_type": "code",
   "execution_count": 449,
   "id": "2baa68b7",
   "metadata": {},
   "outputs": [
    {
     "data": {
      "text/plain": [
       "'-11000.1111110011001010001011011011011000011011'"
      ]
     },
     "execution_count": 449,
     "metadata": {},
     "output_type": "execute_result"
    }
   ],
   "source": [
    "dec2bin(-24.98746, ndigits=40)"
   ]
  },
  {
   "cell_type": "code",
   "execution_count": 473,
   "id": "a6c4a4bf",
   "metadata": {
    "slideshow": {
     "slide_type": "skip"
    }
   },
   "outputs": [
    {
     "name": "stdout",
     "output_type": "stream",
     "text": [
      "-24.987459182739258\n",
      "-24.98746\n"
     ]
    }
   ],
   "source": [
    "def single_precision(f,sign):\n",
    "    if '.' in f:\n",
    "        exp = f.find('.') - 1\n",
    "        f = f.replace('.','')\n",
    "        f = f[0:1] + '.' + f[1:24]\n",
    "    else:\n",
    "        exp = len(f) -1\n",
    "        f = f[0:1] + '.' + f[1:24]\n",
    "        \n",
    "    return (-1)**sign * 2 ** exp * bin2dec(f)\n",
    "\n",
    "def double_precision(f,sign):\n",
    "    if '.' in f:\n",
    "        exp = f.find('.') - 1\n",
    "        f = f.replace('.','')\n",
    "        f = f[0:1] + '.' + f[1:53]\n",
    "    else:\n",
    "        exp = len(f) -1\n",
    "        f = f[0:1] + '.' + f[1:53]\n",
    "        \n",
    "    return (-1)**sign * 2 ** exp * bin2dec(f)\n",
    "    \n",
    "\n",
    "\n",
    "f = dec2bin(24.98746,100)\n",
    "\n",
    "s = single_precision(f=f,sign = 1)\n",
    "print(s)\n",
    "\n",
    "d = double_precision(f=f,sign = 1)\n",
    "print(d)"
   ]
  },
  {
   "cell_type": "markdown",
   "id": "a70bb1d4",
   "metadata": {
    "slideshow": {
     "slide_type": "slide"
    }
   },
   "source": [
    "## Exercise 6\n",
    "\n",
    "What decimal floating-point number corresponds to $(abcd1234)_{16}$ according to IEEE-754?"
   ]
  },
  {
   "cell_type": "code",
   "execution_count": 474,
   "id": "f520b6e3",
   "metadata": {
    "slideshow": {
     "slide_type": "skip"
    }
   },
   "outputs": [
    {
     "name": "stdout",
     "output_type": "stream",
     "text": [
      "2882343424.0\n",
      "2882343476.0\n"
     ]
    }
   ],
   "source": [
    "hex_val = dec2bin(int('abcd1234',16))\n",
    "print(single_precision(f=hex_val,sign=0)) # IEEE-754 single precision\n",
    "print(double_precision(f=hex_val,sign=0)) # IEEE-754 double precision"
   ]
  },
  {
   "cell_type": "markdown",
   "id": "9ddb0c31",
   "metadata": {
    "slideshow": {
     "slide_type": "slide"
    }
   },
   "source": [
    "### Overflow and underflow\n",
    "\n",
    "- How can we represent $x = 2^{68426539}$ or $x = 2^{-98723640}$?\n",
    "    -  We cannot. This attempt results in overflow or underflow.\n",
    "- Underflow is often rounded to zero.\n",
    "- Overflow is handled differently by different systems."
   ]
  },
  {
   "cell_type": "code",
   "execution_count": 425,
   "id": "b618a4a1",
   "metadata": {
    "slideshow": {
     "slide_type": "slide"
    }
   },
   "outputs": [
    {
     "name": "stdout",
     "output_type": "stream",
     "text": [
      "huuuuuuge=inf\n",
      "supersupersmall=0.0\n"
     ]
    }
   ],
   "source": [
    "huuuuuuge = 1e73642834\n",
    "supersupersmall = 1e-73642834\n",
    "print(f'{huuuuuuge=}')\n",
    "print(f'{supersupersmall=}')"
   ]
  },
  {
   "cell_type": "markdown",
   "id": "7bdcc227",
   "metadata": {
    "slideshow": {
     "slide_type": "slide"
    }
   },
   "source": [
    "## Chopping and rounding\n",
    "\n",
    "- For simplicity, here, we assume single precision floating-point numbers.\n",
    "- Let us say we want to represent $x$ with its nearest machine number $\\mathrm{fl}(x)$:\n",
    "\n",
    "$$x = (0.1b_{1}b_{2}b_{3}b_{4}\\ldots)_{2} \\times 2^{m}$$\n",
    "$$\\mathrm{fl}(x) = q \\times 2^{m}, \\frac{1}{2} \\le q < 1, -125 \\le m \\le 128$$\n",
    "\n",
    "- How large can be the error?\n",
    "\n",
    "- **Chopping:** We can chop excess bits $b_{25}b_{26}\\ldots$ and the machine number is then:\n",
    "\n",
    "$$x_{-} = (0.1b_{2}b_{3}b_{4}\\ldots b_{24})_{2} \\times 2^{m}$$\n",
    "\n",
    "- **Rounding:** $x_{+}$ is just to the right and it is obtained by rounding up. We add one unit to $b_{24}$.\n",
    "\n",
    "$$x_{+} = [(0.1b_{2}b_{3}b_{4}\\ldots b_{24})_{2} + 2^{-24}] \\times 2^{m}$$\n",
    "\n",
    "- We now choose the number which is closer to $x$ as its machine representation $\\mathrm{fl}(x)$."
   ]
  },
  {
   "cell_type": "markdown",
   "id": "bbe00fa5",
   "metadata": {
    "slideshow": {
     "slide_type": "slide"
    }
   },
   "source": [
    "### Absolute and relative error\n",
    "\n",
    "- **Absolute error**:\n",
    "\n",
    "$$|x - \\mathrm{fl}(x)| \\le \\frac{1}{2}|x_{+} - x_{-}| = \\frac{1}{2} \\times 2^{-24} \\times 2^{m} = 2^{-25+m}$$\n",
    "\n",
    "- **Relative error**:\n",
    "\n",
    "$$\\frac{|x - \\mathrm{fl}(x)|}{|x|} \\le \\frac{2^{-25 + m}}{(0.1b_{1}b_{2}b_{3}\\ldots)_{2} \\times 2^{m}} \\le \\frac{2^{-25}}{1/2} = 2^{-24} = u$$\n",
    "\n",
    "- $u$ is the **unit round-off error**.\n",
    "    - It is $2^{-k}$ where $k$ is the number of bits in matissa plus the hidden bit."
   ]
  },
  {
   "cell_type": "markdown",
   "id": "2366c8bd",
   "metadata": {
    "slideshow": {
     "slide_type": "slide"
    }
   },
   "source": [
    "## Floating-point arithmetic\n",
    "\n",
    "### Floating-point addition\n",
    "\n",
    "$$8.70 \\times 10^{-1} + 9.95 \\times 10^{1} = \\,?$$\n",
    "\n",
    "1. Rewrite the smaller number such that its exponent matches the exponent of the larger number.\n",
    "\n",
    "$$8.70 \\times 10^{-1} = 0.087 \\times 10^{1}$$\n",
    "\n",
    "2. Add the mantissas:\n",
    "\n",
    "$$9.95 + 0.087 = 10.037,$$\n",
    "\n",
    "3. Normalise result and check for overflow/underflow of the exponent after normalisation.\n",
    "\n",
    "$$10.037 \\times 10^1 = 1.0037 \\times 10^2$$\n",
    "\n",
    "4. Check for overflow/underflow of the exponent after normalisation.\n",
    "\n",
    "    - All good :)\n",
    "\n",
    "5. Round the result.\n",
    "\n",
    "    - If the mantissa does not fit in the space reserved for it, it has to be rounded off. For example: If only 4 digits are allowed for mantissa:\n",
    "\n",
    "$$1.0037 \\times 10^2 \\rightarrow 1.004 \\times 10^2$$"
   ]
  },
  {
   "cell_type": "markdown",
   "id": "60d749ba",
   "metadata": {
    "slideshow": {
     "slide_type": "slide"
    }
   },
   "source": [
    "### Floating Point Multiplication\n",
    "\n",
    "Multiply the following two numbers in scientific notation by hand:\n",
    "\n",
    "$$1.110 \\times 10^{10} \\times 9.200 \\times 10^{-5}$$\n",
    "\n",
    "Add the exponents to find\n",
    "- New exponent $= 10 + (-5) = 5$\n",
    "\n",
    "If we add biased exponents, bias will be added twice. Therefore we need to subtract it once to compensate:\n",
    "$$(10 + 127) + (-5 + 127) = 259$$\n",
    "\n",
    "$259 - 127 = 132$ which is $(5 + 127) =$ biased new exponent\n",
    "\n",
    "Multiply the mantissas\n",
    "$$1.110 \\times 9.200 = 10.212000$$\n",
    "\n",
    "Can only keep three digits to the right of the decimal point, so the result is\n",
    "\n",
    "$$10.212 \\times 10^5$$\n",
    "\n",
    "Normalize the result\n",
    "$$1.0212 \\times 10^6$$\n",
    "\n",
    "Round it\n",
    "$$1.021 \\times 10^6$$"
   ]
  },
  {
   "cell_type": "markdown",
   "id": "ae997943",
   "metadata": {
    "slideshow": {
     "slide_type": "slide"
    }
   },
   "source": [
    "## Error in arithmetic operations\n",
    "\n",
    "- For any $x \\in \\mathbb{R}$ within the range of the computer:\n",
    "\n",
    "$$\\frac{|x - \\mathrm{fl}(x)|}{x} \\le u$$\n",
    "\n",
    "$$\\mathrm{fl}(x) = x(1 + \\delta), \\quad |\\delta| \\le u$$\n",
    "\n",
    "- If $\\odot$ is any operation ($+, -, \\times, /$), and we assume that $x \\odot y$ is correctly computed, normalised, and finally rounded:\n",
    "\n",
    "$$\\mathrm{fl}(x \\odot y) = (x \\odot y)(1 + \\delta)$$\n",
    "\n",
    "- More precisely:\n",
    "\n",
    "$$\\mathrm{fl}(\\mathrm{fl}(x) \\odot \\mathrm{fl}(y))$$"
   ]
  },
  {
   "cell_type": "markdown",
   "id": "60444d0e",
   "metadata": {
    "slideshow": {
     "slide_type": "slide"
    }
   },
   "source": [
    "## Loss of significance\n",
    "\n",
    "- Let us say we need to subtract two nearly equal numbers in a machine with only 5 decimal digits of accuracy:\n",
    "\n",
    "$$x = 0.8796421358 \\quad y = 0.8795374261$$\n",
    "\n",
    "What is the relative error?"
   ]
  },
  {
   "cell_type": "code",
   "execution_count": 426,
   "id": "b7122f2e",
   "metadata": {
    "slideshow": {
     "slide_type": "slide"
    }
   },
   "outputs": [
    {
     "name": "stdout",
     "output_type": "stream",
     "text": [
      "\"Correct\" solution: 6.709699999940533e-06\n",
      "Correct solution: 0.000006710\n",
      "Computed solution: 1e-05\n",
      "Relative error is: 49.04%.\n"
     ]
    }
   ],
   "source": [
    "x = 0.8796421358\n",
    "y = 0.8796354261\n",
    "correct = x - y  # is it correct?\n",
    "\n",
    "# Round to 5 decimal digits\n",
    "x_round = round(x, 6)\n",
    "y_round = round(y, 6)\n",
    "computed = round(x_round - y_round, 5)\n",
    "\n",
    "absolute = abs(correct - computed)\n",
    "relative = absolute / abs(correct)\n",
    "\n",
    "print(f'\"Correct\" solution: {correct}')\n",
    "print(f'Correct solution: {correct:0.9f}')\n",
    "print(f'Computed solution: {computed}')\n",
    "print(f'Relative error is: {relative*100:.2f}%.')"
   ]
  },
  {
   "cell_type": "markdown",
   "id": "e514dbee",
   "metadata": {
    "slideshow": {
     "slide_type": "slide"
    }
   },
   "source": [
    "### Theorem of loss of precision\n",
    "\n",
    "- How many significant binary digits are lost in $x - y$ when $x$ is close to $y$?\n",
    "\n",
    "- **Theorem:** Let $x$ and $y$ be normalised floating-point machine numbers, where $x > y > 0$. If $2^{-p} \\le 1 - \\frac{x}{y} \\le 2^{-q}$ for some positive integers $p$ and $q$, then at most $p$ and at least $q$ significant binary bits are lost in the subtraction $x - y$."
   ]
  },
  {
   "cell_type": "markdown",
   "id": "dbec95e6",
   "metadata": {
    "slideshow": {
     "slide_type": "slide"
    }
   },
   "source": [
    "## Exercise 7\n",
    "\n",
    "By applying the theorem of loss of precision, compute how many significant digits are lost in subtraction $x-y$. \n",
    "\n",
    "$$x = 0.8796421358 \\quad y = 0.8795374261$$"
   ]
  },
  {
   "cell_type": "code",
   "execution_count": 488,
   "id": "93ea490d",
   "metadata": {
    "slideshow": {
     "slide_type": "slide"
    }
   },
   "outputs": [
    {
     "name": "stdout",
     "output_type": "stream",
     "text": [
      "0.00010470969999998303\n",
      "0.87964 0.87954 -0.0001\n",
      "1.000119050874804\n"
     ]
    }
   ],
   "source": [
    "x = 0.8796421358\n",
    "y = 0.8795374261\n",
    "# x > y\n",
    "\n",
    "# Round to 4 decimal digits\n",
    "x_round = round(x, 5)\n",
    "y_round = round(y, 5)\n",
    "computed = round(1-(x_round/y_round), 4)\n",
    "\n",
    "print(x_round,y_round,computed)\n",
    "\n",
    "print(x/y)\n",
    "\n",
    "# ? "
   ]
  },
  {
   "cell_type": "markdown",
   "id": "40f9f6be",
   "metadata": {
    "slideshow": {
     "slide_type": "slide"
    }
   },
   "source": [
    "## Avoiding loss of significance by subtraction\n",
    "\n",
    "1. $f(x) = \\sqrt{x^{2} + 1} - 1$\n",
    "\n",
    "For $x \\approx 0$, $\\sqrt{x^{2} + 1} \\approx 1$  we are in trouble! How can we remove this subtraction? By rationalisation.\n",
    "\n",
    "$$\n",
    "f(x) = (\\sqrt{x^{2} + 1} - 1) \\frac{\\sqrt{x^{2} + 1} + 1}{\\sqrt{x^{2} + 1} + 1} = \\frac{x^{2}}{\\sqrt{x^{2} + 1} + 1}\n",
    "$$\n",
    "\n",
    "2. $f(x) = x - \\sin(x)$\n",
    "\n",
    "We have an issue for $x \\approx 0$. We can use Taylor explansion:\n",
    "\n",
    "$$f(x) = x - \\left(x - \\frac{x^{3}}{3!} + \\frac{x^{5}}{5!} - \\frac{x^{7}}{7!} + \\ldots\\right) = \\frac{x^{3}}{3!} - \\frac{x^{5}}{5!} + \\frac{x^{7}}{7!} + \\ldots$$"
   ]
  },
  {
   "cell_type": "markdown",
   "id": "ca5bb120",
   "metadata": {
    "slideshow": {
     "slide_type": "slide"
    }
   },
   "source": [
    "## Exercise 8\n",
    "\n",
    "For what values of $x$, could the loss of significance by subtraction occur. What could you do to prevent this?\n",
    "\n",
    "1. $f(x) = \\cos^{2}(x) - \\sin^{2}(x)$\n",
    "2. $f(x) = \\ln(x) - 1$"
   ]
  },
  {
   "cell_type": "code",
   "execution_count": null,
   "id": "172b4061",
   "metadata": {
    "slideshow": {
     "slide_type": "skip"
    }
   },
   "outputs": [],
   "source": [
    "# 1\n",
    "# for x -> 45 degree, cosx - sinx -> 0 \n",
    "# solution: (cos(x) + sin(x))*(cos(x) - sin(x)) ==> cos(2x), just calculate cos(2x)\n",
    "# 2\n",
    "# for x -> e, ln(x) - 1 -> 0\n",
    "# eˆ(ln(x) - 1) ==> e^ln(x)/e ==> x/e\n",
    "# ln(x/e)"
   ]
  },
  {
   "cell_type": "markdown",
   "id": "c6481954",
   "metadata": {
    "slideshow": {
     "slide_type": "slide"
    }
   },
   "source": [
    "## Why is `x == y` bad?"
   ]
  },
  {
   "cell_type": "code",
   "execution_count": 185,
   "id": "6b2eabd7",
   "metadata": {
    "slideshow": {
     "slide_type": "-"
    }
   },
   "outputs": [],
   "source": [
    "x = np.float64(1)\n",
    "y = np.float64(1/3)\n",
    "\n",
    "assert x == 3*y"
   ]
  },
  {
   "cell_type": "code",
   "execution_count": 186,
   "id": "ca466930",
   "metadata": {
    "slideshow": {
     "slide_type": "-"
    }
   },
   "outputs": [
    {
     "ename": "AssertionError",
     "evalue": "",
     "output_type": "error",
     "traceback": [
      "\u001b[0;31m---------------------------------------------------------------------------\u001b[0m",
      "\u001b[0;31mAssertionError\u001b[0m                            Traceback (most recent call last)",
      "\u001b[0;32m<ipython-input-186-cc0fd1eb293b>\u001b[0m in \u001b[0;36m<module>\u001b[0;34m\u001b[0m\n\u001b[1;32m      2\u001b[0m \u001b[0my\u001b[0m \u001b[0;34m=\u001b[0m \u001b[0mnp\u001b[0m\u001b[0;34m.\u001b[0m\u001b[0mfloat32\u001b[0m\u001b[0;34m(\u001b[0m\u001b[0;36m1\u001b[0m\u001b[0;34m/\u001b[0m\u001b[0;36m3\u001b[0m\u001b[0;34m)\u001b[0m\u001b[0;34m\u001b[0m\u001b[0;34m\u001b[0m\u001b[0m\n\u001b[1;32m      3\u001b[0m \u001b[0;34m\u001b[0m\u001b[0m\n\u001b[0;32m----> 4\u001b[0;31m \u001b[0;32massert\u001b[0m \u001b[0mx\u001b[0m \u001b[0;34m==\u001b[0m \u001b[0;36m3\u001b[0m\u001b[0;34m*\u001b[0m\u001b[0my\u001b[0m\u001b[0;34m\u001b[0m\u001b[0;34m\u001b[0m\u001b[0m\n\u001b[0m",
      "\u001b[0;31mAssertionError\u001b[0m: "
     ]
    }
   ],
   "source": [
    "x = np.float32(1)\n",
    "y = np.float32(1/3)\n",
    "\n",
    "assert x == 3*y"
   ]
  },
  {
   "cell_type": "code",
   "execution_count": 187,
   "id": "925957f6",
   "metadata": {
    "slideshow": {
     "slide_type": "-"
    }
   },
   "outputs": [
    {
     "ename": "AssertionError",
     "evalue": "",
     "output_type": "error",
     "traceback": [
      "\u001b[0;31m---------------------------------------------------------------------------\u001b[0m",
      "\u001b[0;31mAssertionError\u001b[0m                            Traceback (most recent call last)",
      "\u001b[0;32m<ipython-input-187-a0124d278012>\u001b[0m in \u001b[0;36m<module>\u001b[0;34m\u001b[0m\n\u001b[0;32m----> 1\u001b[0;31m \u001b[0;32massert\u001b[0m \u001b[0;36m0.1\u001b[0m \u001b[0;34m+\u001b[0m \u001b[0;36m0.2\u001b[0m \u001b[0;34m==\u001b[0m \u001b[0;36m0.3\u001b[0m\u001b[0;34m\u001b[0m\u001b[0;34m\u001b[0m\u001b[0m\n\u001b[0m",
      "\u001b[0;31mAssertionError\u001b[0m: "
     ]
    }
   ],
   "source": [
    "assert 0.1 + 0.2 == 0.3"
   ]
  },
  {
   "cell_type": "markdown",
   "id": "27a6bca7",
   "metadata": {
    "slideshow": {
     "slide_type": "slide"
    }
   },
   "source": [
    "For comparison of floating-point numbers, we use `np.isclose`."
   ]
  },
  {
   "cell_type": "code",
   "execution_count": 188,
   "id": "94dd514b",
   "metadata": {
    "slideshow": {
     "slide_type": "-"
    }
   },
   "outputs": [],
   "source": [
    "assert np.isclose(x, 3*y)"
   ]
  },
  {
   "cell_type": "markdown",
   "id": "b6bc89a1",
   "metadata": {
    "slideshow": {
     "slide_type": "slide"
    }
   },
   "source": [
    "## Further resources\n",
    "\n",
    "* <div class=\"csl-entry\">IEEE ComputerSociety. (2019). <i>754-2019 - IEEE Standard for Floating-Point Arithmetic</i>. IEEE.</div> URL: https://standards.ieee.org/standard/754-2019.html\n",
    "* <div class=\"csl-entry\">Goldberg, D. (1991). What every computer scientist should know about floating-point arithmetic. <i>ACM Computing Surveys</i>, <i>23</i>(1), 5–48.</div> URL: https://doi.org/10.1145/103162.103163\n",
    "* <div class=\"csl-entry\">Overton, M. L. (2001). <i>Numerical Computing with IEEE Floating Point Arithmetic</i>. Society for Industrial and Applied Mathematics. URL: https://doi.org/10.1137/1.9780898718072</div>\n",
    "* R. Burden, J. Faires, A. M. Burden. Numerical Analysis. Brooks Cole, 10th edition (2015).\n",
    "* W. Cheney and D. Kincaid. Numerical Mathematics and Computing.  Wadsworth Publishing Co Inc, 7th edition (2012)."
   ]
  }
 ],
 "metadata": {
  "celltoolbar": "Slideshow",
  "kernelspec": {
   "display_name": "Python 3",
   "language": "python",
   "name": "python3"
  },
  "language_info": {
   "codemirror_mode": {
    "name": "ipython",
    "version": 3
   },
   "file_extension": ".py",
   "mimetype": "text/x-python",
   "name": "python",
   "nbconvert_exporter": "python",
   "pygments_lexer": "ipython3",
   "version": "3.8.8"
  }
 },
 "nbformat": 4,
 "nbformat_minor": 5
}
