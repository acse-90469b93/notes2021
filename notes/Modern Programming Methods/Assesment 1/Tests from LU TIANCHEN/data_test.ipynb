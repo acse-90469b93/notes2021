{
 "cells": [
  {
   "cell_type": "code",
   "execution_count": 16,
   "metadata": {},
   "outputs": [
    {
     "name": "stdout",
     "output_type": "stream",
     "text": [
      "1.1.3\n",
      "['a', 'b', 'c', 'd']\n",
      "['a', 'b', 'c', 'd']\n"
     ]
    }
   ],
   "source": [
    "import json\n",
    "import numpy as np\n",
    "import pandas as pd\n",
    "print(pd.__version__)\n",
    "a = pd.Series(range(4), ['a', 'b', 'c', 'd'])\n",
    "print(a.index.tolist())\n",
    "print(a.index.to_list())"
   ]
  },
  {
   "cell_type": "markdown",
   "metadata": {},
   "source": [
    "# 随机生成测试数据,generate random test data，你不需要运行这一部分you don't need to run this code"
   ]
  },
  {
   "cell_type": "code",
   "execution_count": 17,
   "metadata": {},
   "outputs": [],
   "source": [
    "# test_data={}\n",
    "# test_data[\"lorenz96\"]=[];test_data[\"life\"]=[];test_data[\"life_periodic\"]=[];test_data[\"life_twocolour\"]=[];test_data[\"life_pent\"]=[]\n",
    "# for i in range(0,2):\n",
    "#     lorenz_array=np.random.randint(0,10,10).tolist()\n",
    "#     lorenz_nstep=np.random.randint(3,15)\n",
    "#     test_data[\"lorenz96\"].append((lorenz_array,lorenz_nstep))\n",
    "    \n",
    "#     life_mat=np.random.randint(0,2,(4+5*i,4+5*i))\n",
    "#     life_mat=np.array(life_mat, dtype = bool).tolist()\n",
    "#     life_nstep=np.random.randint(3,15)\n",
    "#     test_data[\"life\"].append((life_mat,life_nstep))\n",
    "    \n",
    "#     life_periodic_mat=np.random.randint(0,2,(4+5*i,4+5*i))\n",
    "#     life_periodic_mat=np.array(life_periodic_mat, dtype = bool).tolist()\n",
    "#     life_periodic_nstep=np.random.randint(3,15)\n",
    "#     test_data[\"life_periodic\"].append((life_periodic_mat,life_periodic_nstep))\n",
    "    \n",
    "#     life_pent_mat=np.random.randint(0,2,(4+5*i,4+5*i))\n",
    "#     life_pent_mat=np.array(life_pent_mat, dtype = bool).tolist()\n",
    "#     life_pent_nstep=np.random.randint(3,15)\n",
    "#     test_data[\"life_pent\"].append((life_pent_mat,life_pent_nstep))\n",
    "    \n",
    "#     life_twocolour_mat=np.random.randint(-1,2,(4+5*i,4+5*i)).tolist()\n",
    "#     life_twocolour_nstep=np.random.randint(3,15)\n",
    "#     test_data[\"life_twocolour\"].append((life_twocolour_mat,life_twocolour_nstep))\n",
    "\n",
    "# print(test_data)\n",
    "# with open(\"test_data.json\",'w') as f:  \n",
    "#     json.dump(test_data,f)"
   ]
  },
  {
   "cell_type": "markdown",
   "metadata": {},
   "source": [
    "# 读取测试数据，打印，保存测试结果load test data, print your result,save the test answer"
   ]
  },
  {
   "cell_type": "markdown",
   "metadata": {},
   "source": [
    "# 注意，将test_data.json与这一ipynb与automata.py放在同级目录 \n",
    "# note, please place test_data.json and this ipynb in the same file directory with automata.py"
   ]
  },
  {
   "cell_type": "code",
   "execution_count": 2,
   "metadata": {},
   "outputs": [
    {
     "name": "stdout",
     "output_type": "stream",
     "text": [
      "lorenz96\t0\n",
      "\n",
      "[0.44414282568549535, 4.03549206470121, -1.816152557730386, 7.857789036803285, -0.32668623124655216, 7.151788930301021, 7.474833192604699, 5.4740230777343, 2.243014638043073, 6.568105047798739]\n",
      "\n",
      "\n",
      "lorenz96\t1\n",
      "\n",
      "[1.914652589432299, 8.373750391681476, 6.051998646756656, 5.616329012660949, 7.529628205876191, 7.81782396636763, 7.700555283272901, 7.357477725555684, 7.223694401865812, 4.354683029447403]\n",
      "\n",
      "\n",
      "life\t0\n",
      "\n",
      "[[0 0 0 0]\n",
      " [0 1 1 0]\n",
      " [1 0 0 1]\n",
      " [0 1 1 0]]\n",
      "\n",
      "\n",
      "life\t1\n",
      "\n",
      "[[0 0 0 0 0 0 0 0 0]\n",
      " [0 0 0 0 0 0 0 0 0]\n",
      " [0 0 0 0 0 0 0 0 0]\n",
      " [0 0 0 0 0 0 0 0 0]\n",
      " [0 1 0 0 0 1 0 0 0]\n",
      " [1 0 0 0 0 0 0 0 0]\n",
      " [1 0 0 0 0 0 0 0 0]\n",
      " [0 1 0 0 0 0 0 0 0]\n",
      " [0 0 0 0 0 0 0 0 0]]\n",
      "\n",
      "\n",
      "life_periodic\t0\n",
      "\n",
      "[[0 0 0 0]\n",
      " [0 0 0 0]\n",
      " [0 0 0 0]\n",
      " [0 0 0 0]]\n",
      "\n",
      "\n",
      "life_periodic\t1\n",
      "\n",
      "[[0 1 0 0 0 0 0 0 0]\n",
      " [0 0 0 0 0 0 0 0 0]\n",
      " [0 0 0 0 0 0 0 0 0]\n",
      " [0 0 0 0 0 0 0 0 0]\n",
      " [0 0 0 0 1 1 0 0 0]\n",
      " [0 0 0 1 1 1 0 0 0]\n",
      " [0 0 0 1 1 0 1 1 0]\n",
      " [0 1 0 0 0 0 1 1 0]\n",
      " [1 1 0 0 0 0 1 1 0]]\n",
      "\n",
      "\n",
      "life2colour\t0\n",
      "\n",
      "[[0 0 0 0]\n",
      " [0 0 0 0]\n",
      " [0 0 0 0]\n",
      " [0 0 0 0]]\n",
      "\n",
      "\n",
      "life2colour\t1\n",
      "\n",
      "[[ 0  0  0  0  0  0  0  0  0]\n",
      " [ 0  0  0  0  0  0  0  0  0]\n",
      " [ 0  0  0  0  0  0  0  0  0]\n",
      " [ 0  0  0  0  0  0  1  1  0]\n",
      " [ 0  0  0  0  0  0  1  1  0]\n",
      " [ 0  1 -1 -1  0  0  0  0  0]\n",
      " [ 1  0  0 -1  0  0  0  0  0]\n",
      " [ 0 -1  0  0 -1  0  0  0  0]\n",
      " [ 0  0  0  0  0  0  0  0  0]]\n",
      "\n",
      "\n",
      "lifepent\t0\n",
      "\n",
      "[[1 1 0 0]\n",
      " [1 0 1 0]\n",
      " [1 1 1 0]\n",
      " [0 0 0 0]]\n",
      "\n",
      "\n",
      "lifepent\t1\n",
      "\n",
      "[[0 0 0 0 0 0 0 0 0]\n",
      " [0 0 1 0 1 1 0 0 0]\n",
      " [0 0 1 0 0 0 0 0 0]\n",
      " [0 0 0 1 0 1 1 0 0]\n",
      " [0 0 0 0 0 1 0 1 1]\n",
      " [0 0 0 0 1 1 0 1 0]\n",
      " [0 0 0 0 0 1 1 1 0]\n",
      " [0 0 0 0 0 1 1 0 0]\n",
      " [0 0 0 0 0 0 0 0 0]]\n",
      "\n",
      "\n"
     ]
    }
   ],
   "source": [
    "import automata\n",
    "import json\n",
    "with open(\"test_data.json\") as f:\n",
    "    test_data=json.load(f)\n",
    "\n",
    "i_lorenz=0\n",
    "test_my_answer={}\n",
    "test_my_answer[\"lorenz96\"]=[];test_my_answer[\"life\"]=[];test_my_answer[\"life_periodic\"]=[];\n",
    "test_my_answer[\"life2colour\"]=[];test_my_answer[\"life_pent\"]=[]\n",
    "for test_group in test_data[\"lorenz96\"]:\n",
    "    initial_state=test_group[0];nstep=test_group[1]\n",
    "    lorenz_ans=automata.lorenz96(initial_state,nstep)\n",
    "    print(\"lorenz96\\t%d\\n\"%i_lorenz);i_lorenz+=1\n",
    "    print(lorenz_ans);print('\\n')\n",
    "#     test_my_answer[\"lorenz96\"].append(lorenz_ans.tolist())\n",
    "\n",
    "i_life=0\n",
    "for test_group in test_data[\"life\"]:\n",
    "    initial_state=test_group[0];nstep=test_group[1]\n",
    "    life_ans=automata.life(initial_state,nstep)\n",
    "    print(\"life\\t%d\\n\"%i_life);i_life+=1\n",
    "    print(life_ans);print('\\n')\n",
    "#     test_my_answer[\"life\"].append(life_ans.to_list())\n",
    "\n",
    "i_life_periodic=0\n",
    "for test_group in test_data[\"life_periodic\"]:\n",
    "    initial_state=test_group[0];nstep=test_group[1]\n",
    "    life_periodic_ans=automata.life_periodic(initial_state,nstep)\n",
    "    print(\"life_periodic\\t%d\\n\"%i_life_periodic);i_life_periodic+=1\n",
    "    print(life_periodic_ans);print('\\n')\n",
    "#     test_my_answer[\"life_periodic\"].append(life_periodic_ans.to_list())\n",
    "\n",
    "i_life2colour=0\n",
    "for test_group in test_data[\"life_twocolour\"]:\n",
    "    initial_state=test_group[0];nstep=test_group[1]\n",
    "    life2colour_ans=automata.life2colour(initial_state,nstep)\n",
    "    print(\"life2colour\\t%d\\n\"%i_life2colour);i_life2colour+=1\n",
    "    print(life2colour_ans);print('\\n')\n",
    "#     test_my_answer[\"life2colour\"].append(life2colour_ans.tolist())\n",
    "\n",
    "i_lifepent=0\n",
    "for test_group in test_data[\"life_pent\"]:\n",
    "    initial_state=test_group[0];nstep=test_group[1]\n",
    "    lifepent_ans=automata.lifepent(initial_state,nstep)\n",
    "    print(\"lifepent\\t%d\\n\"%i_lifepent);i_lifepent+=1\n",
    "    print(lifepent_ans);print('\\n')\n",
    "#     test_my_answer[\"life_pent\"].append(lifepent_ans.tolist())\n",
    "    \n",
    "with open(\"gamelife_mytestanswer.json\",'w') as f:\n",
    "    json.dump(test_my_answer,f)"
   ]
  },
  {
   "cell_type": "markdown",
   "metadata": {},
   "source": [
    "# 与别人的测试结果进行比较，修改ground_truth_file变量名\n",
    "# if you want to compare with the ground result or others' test result ,adjust the variable name ground_truth_file to the name of the file you want to compare with"
   ]
  },
  {
   "cell_type": "code",
   "execution_count": 2,
   "metadata": {},
   "outputs": [
    {
     "ename": "FileNotFoundError",
     "evalue": "[Errno 2] No such file or directory: 'gamelife_mytestanswer.json'",
     "output_type": "error",
     "traceback": [
      "\u001b[1;31m---------------------------------------------------------------------------\u001b[0m",
      "\u001b[1;31mFileNotFoundError\u001b[0m                         Traceback (most recent call last)",
      "\u001b[1;32m<ipython-input-2-fa39ecf7b412>\u001b[0m in \u001b[0;36m<module>\u001b[1;34m\u001b[0m\n\u001b[0;32m      3\u001b[0m \u001b[0mmy_test_result\u001b[0m\u001b[1;33m=\u001b[0m\u001b[1;33m{\u001b[0m\u001b[1;33m}\u001b[0m\u001b[1;33m;\u001b[0m\u001b[0mground_truth\u001b[0m\u001b[1;33m=\u001b[0m\u001b[1;33m{\u001b[0m\u001b[1;33m}\u001b[0m\u001b[1;33m\u001b[0m\u001b[1;33m\u001b[0m\u001b[0m\n\u001b[0;32m      4\u001b[0m \u001b[0mmy_test_result_file\u001b[0m\u001b[1;33m=\u001b[0m\u001b[1;34m\"gamelife_mytestanswer.json\"\u001b[0m\u001b[1;33m\u001b[0m\u001b[1;33m\u001b[0m\u001b[0m\n\u001b[1;32m----> 5\u001b[1;33m \u001b[1;32mwith\u001b[0m \u001b[0mopen\u001b[0m\u001b[1;33m(\u001b[0m\u001b[0mmy_test_result_file\u001b[0m\u001b[1;33m)\u001b[0m \u001b[1;32mas\u001b[0m \u001b[0mf\u001b[0m\u001b[1;33m:\u001b[0m\u001b[1;33m\u001b[0m\u001b[1;33m\u001b[0m\u001b[0m\n\u001b[0m\u001b[0;32m      6\u001b[0m     \u001b[0mmy_test_result\u001b[0m\u001b[1;33m=\u001b[0m\u001b[0mjson\u001b[0m\u001b[1;33m.\u001b[0m\u001b[0mload\u001b[0m\u001b[1;33m(\u001b[0m\u001b[0mf\u001b[0m\u001b[1;33m)\u001b[0m\u001b[1;33m\u001b[0m\u001b[1;33m\u001b[0m\u001b[0m\n\u001b[0;32m      7\u001b[0m \u001b[1;33m\u001b[0m\u001b[0m\n",
      "\u001b[1;31mFileNotFoundError\u001b[0m: [Errno 2] No such file or directory: 'gamelife_mytestanswer.json'"
     ]
    }
   ],
   "source": [
    "import numpy as np\n",
    "#my own test result\n",
    "my_test_result={};ground_truth={}\n",
    "my_test_result_file=\"gamelife_mytestanswer.json\"\n",
    "with open(my_test_result_file) as f:\n",
    "    my_test_result=json.load(f)\n",
    "\n",
    "\n",
    "ground_truth_file=\"ground_truth.json\"  #修改这个变量名为你认为的标准答案的json文件名,adjust this file name\n",
    "\n",
    "with open(ground_truth_file) as f:\n",
    "    ground_truth=json.load(f)\n",
    "    \n",
    "for key1, key2 in zip(my_test_result.keys(), ground_truth.keys()):\n",
    "    for my_ans,groundtruth_ans in zip(my_test_result[key1],ground_truth[key1]):\n",
    "        if (np.isclose(my_ans,groundtruth_ans).all()):\n",
    "            print(key1+\"\\tsuccessful\\n\")\n",
    "        else:\n",
    "            print(key1+\"\\twrong\\n\")\n",
    "            print(\"my answer\")\n",
    "            print(my_ans)\n",
    "            print(\"ground truth\")\n",
    "            print(groundtruth_ans)\n",
    "            print('\\n')"
   ]
  },
  {
   "cell_type": "code",
   "execution_count": null,
   "metadata": {},
   "outputs": [],
   "source": []
  },
  {
   "cell_type": "code",
   "execution_count": null,
   "metadata": {},
   "outputs": [],
   "source": []
  }
 ],
 "metadata": {
  "kernelspec": {
   "display_name": "Python 3",
   "language": "python",
   "name": "python3"
  },
  "language_info": {
   "codemirror_mode": {
    "name": "ipython",
    "version": 3
   },
   "file_extension": ".py",
   "mimetype": "text/x-python",
   "name": "python",
   "nbconvert_exporter": "python",
   "pygments_lexer": "ipython3",
   "version": "3.8.5"
  }
 },
 "nbformat": 4,
 "nbformat_minor": 5
}
